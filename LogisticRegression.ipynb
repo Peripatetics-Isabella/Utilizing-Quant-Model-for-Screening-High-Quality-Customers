{
 "cells": [
  {
   "cell_type": "code",
   "execution_count": 100,
   "metadata": {
    "collapsed": true
   },
   "outputs": [],
   "source": [
    "import pandas as pd"
   ]
  },
  {
   "cell_type": "code",
   "execution_count": 101,
   "metadata": {},
   "outputs": [
    {
     "data": {
      "text/plain": [
       "['LoanID',\n",
       " 'Terms',\n",
       " 'IsInternalRefinance',\n",
       " 'IsExternalRefinance',\n",
       " 'Gender',\n",
       " 'State',\n",
       " 'SalaryFrequencyID',\n",
       " 'VehicleYear',\n",
       " 'Make',\n",
       " 'ApplicationTermMonths',\n",
       " 'ApplicationDate',\n",
       " 'MonthlyPayment',\n",
       " 'Month',\n",
       " 'Loan_Default',\n",
       " 'LoanAmount_Group',\n",
       " 'Salary_Group',\n",
       " 'SP_Ratio_Group',\n",
       " 'V_Age_Group',\n",
       " 'Interest',\n",
       " 'CO_APP_Default_Status',\n",
       " 'Mileage_Group',\n",
       " 'Risky_Area',\n",
       " 'Age_Group']"
      ]
     },
     "execution_count": 101,
     "metadata": {},
     "output_type": "execute_result"
    }
   ],
   "source": [
    "df = pd.read_csv('grouping.csv').drop('Unnamed: 0',axis = 1)\n",
    "list(df)"
   ]
  },
  {
   "cell_type": "code",
   "execution_count": 102,
   "metadata": {},
   "outputs": [
    {
     "data": {
      "text/plain": [
       "array([False,  True], dtype=bool)"
      ]
     },
     "execution_count": 102,
     "metadata": {},
     "output_type": "execute_result"
    }
   ],
   "source": [
    "df.Loan_Default.unique()"
   ]
  },
  {
   "cell_type": "code",
   "execution_count": 103,
   "metadata": {
    "collapsed": true
   },
   "outputs": [],
   "source": [
    "temp = df.Loan_Default.replace(False, 0)"
   ]
  },
  {
   "cell_type": "code",
   "execution_count": 104,
   "metadata": {},
   "outputs": [],
   "source": [
    "df['Loan_Default'] = df.Loan_Default.astype(int)"
   ]
  },
  {
   "cell_type": "code",
   "execution_count": 114,
   "metadata": {},
   "outputs": [
    {
     "data": {
      "text/html": [
       "<div>\n",
       "<style>\n",
       "    .dataframe thead tr:only-child th {\n",
       "        text-align: right;\n",
       "    }\n",
       "\n",
       "    .dataframe thead th {\n",
       "        text-align: left;\n",
       "    }\n",
       "\n",
       "    .dataframe tbody tr th {\n",
       "        vertical-align: top;\n",
       "    }\n",
       "</style>\n",
       "<table border=\"1\" class=\"dataframe\">\n",
       "  <thead>\n",
       "    <tr style=\"text-align: right;\">\n",
       "      <th></th>\n",
       "      <th>LoanID</th>\n",
       "      <th>Terms</th>\n",
       "      <th>IsInternalRefinance</th>\n",
       "      <th>IsExternalRefinance</th>\n",
       "      <th>Gender</th>\n",
       "      <th>State</th>\n",
       "      <th>SalaryFrequencyID</th>\n",
       "      <th>VehicleYear</th>\n",
       "      <th>Make</th>\n",
       "      <th>ApplicationTermMonths</th>\n",
       "      <th>...</th>\n",
       "      <th>Loan_Default</th>\n",
       "      <th>LoanAmount_Group</th>\n",
       "      <th>Salary_Group</th>\n",
       "      <th>SP_Ratio_Group</th>\n",
       "      <th>V_Age_Group</th>\n",
       "      <th>Interest</th>\n",
       "      <th>CO_APP_Default_Status</th>\n",
       "      <th>Mileage_Group</th>\n",
       "      <th>Risky_Area</th>\n",
       "      <th>Age_Group</th>\n",
       "    </tr>\n",
       "  </thead>\n",
       "  <tbody>\n",
       "    <tr>\n",
       "      <th>38</th>\n",
       "      <td>7803</td>\n",
       "      <td>36</td>\n",
       "      <td>False</td>\n",
       "      <td>False</td>\n",
       "      <td>M</td>\n",
       "      <td>CO</td>\n",
       "      <td>1.0</td>\n",
       "      <td>2015</td>\n",
       "      <td>TOYOTA</td>\n",
       "      <td>24</td>\n",
       "      <td>...</td>\n",
       "      <td>0</td>\n",
       "      <td>&gt;=9000</td>\n",
       "      <td>2000-4000</td>\n",
       "      <td>5-10</td>\n",
       "      <td>0-5</td>\n",
       "      <td>0.21</td>\n",
       "      <td>None</td>\n",
       "      <td>&lt;75000</td>\n",
       "      <td>False</td>\n",
       "      <td>30-39</td>\n",
       "    </tr>\n",
       "  </tbody>\n",
       "</table>\n",
       "<p>1 rows × 23 columns</p>\n",
       "</div>"
      ],
      "text/plain": [
       "    LoanID  Terms  IsInternalRefinance  IsExternalRefinance Gender State  \\\n",
       "38    7803     36                False                False      M    CO   \n",
       "\n",
       "    SalaryFrequencyID  VehicleYear    Make  ApplicationTermMonths    ...     \\\n",
       "38                1.0         2015  TOYOTA                     24    ...      \n",
       "\n",
       "   Loan_Default  LoanAmount_Group  Salary_Group  SP_Ratio_Group V_Age_Group  \\\n",
       "38            0            >=9000     2000-4000            5-10         0-5   \n",
       "\n",
       "   Interest CO_APP_Default_Status Mileage_Group  Risky_Area Age_Group  \n",
       "38     0.21                  None        <75000       False     30-39  \n",
       "\n",
       "[1 rows x 23 columns]"
      ]
     },
     "execution_count": 114,
     "metadata": {},
     "output_type": "execute_result"
    }
   ],
   "source": [
    "df.iloc[[38]]"
   ]
  },
  {
   "cell_type": "code",
   "execution_count": 115,
   "metadata": {
    "collapsed": true
   },
   "outputs": [],
   "source": [
    "df.to_csv('example.csv')"
   ]
  },
  {
   "cell_type": "code",
   "execution_count": 105,
   "metadata": {
    "collapsed": true
   },
   "outputs": [],
   "source": [
    "data = df[['Month','Terms','IsExternalRefinance','Gender','Risky_Area',\\\n",
    "            'SP_Ratio_Group','LoanAmount_Group','Age_Group','Loan_Default']]"
   ]
  },
  {
   "cell_type": "code",
   "execution_count": 17,
   "metadata": {
    "collapsed": true
   },
   "outputs": [],
   "source": [
    "data.to_csv('LR_data.csv')"
   ]
  },
  {
   "cell_type": "code",
   "execution_count": 18,
   "metadata": {
    "collapsed": true
   },
   "outputs": [],
   "source": [
    "data.columns = ['Month','Terms','IsExternalRefinance','Gender','Risky_Area',\\\n",
    "                'SP_Ratio','LoanAmount','Age','y']"
   ]
  },
  {
   "cell_type": "code",
   "execution_count": 19,
   "metadata": {},
   "outputs": [
    {
     "data": {
      "text/html": [
       "<div>\n",
       "<style>\n",
       "    .dataframe thead tr:only-child th {\n",
       "        text-align: right;\n",
       "    }\n",
       "\n",
       "    .dataframe thead th {\n",
       "        text-align: left;\n",
       "    }\n",
       "\n",
       "    .dataframe tbody tr th {\n",
       "        vertical-align: top;\n",
       "    }\n",
       "</style>\n",
       "<table border=\"1\" class=\"dataframe\">\n",
       "  <thead>\n",
       "    <tr style=\"text-align: right;\">\n",
       "      <th></th>\n",
       "      <th>Month</th>\n",
       "      <th>Terms</th>\n",
       "      <th>IsExternalRefinance</th>\n",
       "      <th>Gender</th>\n",
       "      <th>Risky_Area</th>\n",
       "      <th>SP_Ratio</th>\n",
       "      <th>LoanAmount</th>\n",
       "      <th>Age</th>\n",
       "    </tr>\n",
       "    <tr>\n",
       "      <th>y</th>\n",
       "      <th></th>\n",
       "      <th></th>\n",
       "      <th></th>\n",
       "      <th></th>\n",
       "      <th></th>\n",
       "      <th></th>\n",
       "      <th></th>\n",
       "      <th></th>\n",
       "    </tr>\n",
       "  </thead>\n",
       "  <tbody>\n",
       "    <tr>\n",
       "      <th>0</th>\n",
       "      <td>3476</td>\n",
       "      <td>3476</td>\n",
       "      <td>3476</td>\n",
       "      <td>3476</td>\n",
       "      <td>3476</td>\n",
       "      <td>3285</td>\n",
       "      <td>3476</td>\n",
       "      <td>3475</td>\n",
       "    </tr>\n",
       "    <tr>\n",
       "      <th>1</th>\n",
       "      <td>341</td>\n",
       "      <td>341</td>\n",
       "      <td>341</td>\n",
       "      <td>341</td>\n",
       "      <td>341</td>\n",
       "      <td>331</td>\n",
       "      <td>341</td>\n",
       "      <td>341</td>\n",
       "    </tr>\n",
       "  </tbody>\n",
       "</table>\n",
       "</div>"
      ],
      "text/plain": [
       "   Month  Terms  IsExternalRefinance  Gender  Risky_Area  SP_Ratio  \\\n",
       "y                                                                    \n",
       "0   3476   3476                 3476    3476        3476      3285   \n",
       "1    341    341                  341     341         341       331   \n",
       "\n",
       "   LoanAmount   Age  \n",
       "y                    \n",
       "0        3476  3475  \n",
       "1         341   341  "
      ]
     },
     "execution_count": 19,
     "metadata": {},
     "output_type": "execute_result"
    }
   ],
   "source": [
    "data.groupby('y').count()"
   ]
  },
  {
   "cell_type": "code",
   "execution_count": 23,
   "metadata": {},
   "outputs": [
    {
     "name": "stderr",
     "output_type": "stream",
     "text": [
      "/Users/Isabella/anaconda2/lib/python2.7/site-packages/ipykernel_launcher.py:1: SettingWithCopyWarning: \n",
      "A value is trying to be set on a copy of a slice from a DataFrame.\n",
      "Try using .loc[row_indexer,col_indexer] = value instead\n",
      "\n",
      "See the caveats in the documentation: http://pandas.pydata.org/pandas-docs/stable/indexing.html#indexing-view-versus-copy\n",
      "  \"\"\"Entry point for launching an IPython kernel.\n"
     ]
    }
   ],
   "source": [
    "data['SP_Ratio'] = data.SP_Ratio.fillna('0-5')"
   ]
  },
  {
   "cell_type": "code",
   "execution_count": 24,
   "metadata": {},
   "outputs": [
    {
     "name": "stderr",
     "output_type": "stream",
     "text": [
      "/Users/Isabella/anaconda2/lib/python2.7/site-packages/ipykernel_launcher.py:1: SettingWithCopyWarning: \n",
      "A value is trying to be set on a copy of a slice from a DataFrame.\n",
      "Try using .loc[row_indexer,col_indexer] = value instead\n",
      "\n",
      "See the caveats in the documentation: http://pandas.pydata.org/pandas-docs/stable/indexing.html#indexing-view-versus-copy\n",
      "  \"\"\"Entry point for launching an IPython kernel.\n"
     ]
    }
   ],
   "source": [
    "data['Age'] = data.Age.fillna('18-29')"
   ]
  },
  {
   "cell_type": "code",
   "execution_count": 25,
   "metadata": {},
   "outputs": [
    {
     "data": {
      "text/html": [
       "<div>\n",
       "<style>\n",
       "    .dataframe thead tr:only-child th {\n",
       "        text-align: right;\n",
       "    }\n",
       "\n",
       "    .dataframe thead th {\n",
       "        text-align: left;\n",
       "    }\n",
       "\n",
       "    .dataframe tbody tr th {\n",
       "        vertical-align: top;\n",
       "    }\n",
       "</style>\n",
       "<table border=\"1\" class=\"dataframe\">\n",
       "  <thead>\n",
       "    <tr style=\"text-align: right;\">\n",
       "      <th></th>\n",
       "      <th>Month</th>\n",
       "      <th>Terms</th>\n",
       "      <th>IsExternalRefinance</th>\n",
       "      <th>Gender</th>\n",
       "      <th>Risky_Area</th>\n",
       "      <th>SP_Ratio</th>\n",
       "      <th>LoanAmount</th>\n",
       "      <th>Age</th>\n",
       "    </tr>\n",
       "    <tr>\n",
       "      <th>y</th>\n",
       "      <th></th>\n",
       "      <th></th>\n",
       "      <th></th>\n",
       "      <th></th>\n",
       "      <th></th>\n",
       "      <th></th>\n",
       "      <th></th>\n",
       "      <th></th>\n",
       "    </tr>\n",
       "  </thead>\n",
       "  <tbody>\n",
       "    <tr>\n",
       "      <th>0</th>\n",
       "      <td>3476</td>\n",
       "      <td>3476</td>\n",
       "      <td>3476</td>\n",
       "      <td>3476</td>\n",
       "      <td>3476</td>\n",
       "      <td>3476</td>\n",
       "      <td>3476</td>\n",
       "      <td>3476</td>\n",
       "    </tr>\n",
       "    <tr>\n",
       "      <th>1</th>\n",
       "      <td>341</td>\n",
       "      <td>341</td>\n",
       "      <td>341</td>\n",
       "      <td>341</td>\n",
       "      <td>341</td>\n",
       "      <td>341</td>\n",
       "      <td>341</td>\n",
       "      <td>341</td>\n",
       "    </tr>\n",
       "  </tbody>\n",
       "</table>\n",
       "</div>"
      ],
      "text/plain": [
       "   Month  Terms  IsExternalRefinance  Gender  Risky_Area  SP_Ratio  \\\n",
       "y                                                                    \n",
       "0   3476   3476                 3476    3476        3476      3476   \n",
       "1    341    341                  341     341         341       341   \n",
       "\n",
       "   LoanAmount   Age  \n",
       "y                    \n",
       "0        3476  3476  \n",
       "1         341   341  "
      ]
     },
     "execution_count": 25,
     "metadata": {},
     "output_type": "execute_result"
    }
   ],
   "source": [
    "data.groupby('y').count()"
   ]
  },
  {
   "cell_type": "code",
   "execution_count": 26,
   "metadata": {},
   "outputs": [
    {
     "name": "stderr",
     "output_type": "stream",
     "text": [
      "/Users/Isabella/anaconda2/lib/python2.7/site-packages/sklearn/cross_validation.py:41: DeprecationWarning: This module was deprecated in version 0.18 in favor of the model_selection module into which all the refactored classes and functions are moved. Also note that the interface of the new CV iterators are different from that of this module. This module will be removed in 0.20.\n",
      "  \"This module will be removed in 0.20.\", DeprecationWarning)\n"
     ]
    }
   ],
   "source": [
    "import pandas as pd\n",
    "import numpy as np\n",
    "from sklearn import preprocessing\n",
    "import matplotlib.pyplot as plt \n",
    "plt.rc(\"font\", size=14)\n",
    "from sklearn.linear_model import LogisticRegression\n",
    "from sklearn.cross_validation import train_test_split\n",
    "import seaborn as sns\n",
    "\n",
    "cat_vars=['Month','Terms','IsExternalRefinance','Gender','Risky_Area',\\\n",
    "                'SP_Ratio','LoanAmount','Age']\n",
    "for var in cat_vars:\n",
    "    cat_list='var'+'_'+var\n",
    "    cat_list = pd.get_dummies(data[var], prefix=var)\n",
    "    data1=data.join(cat_list)\n",
    "    data=data1\n",
    "\n",
    "cat_vars=['Month','Terms','IsExternalRefinance','Gender','Risky_Area',\\\n",
    "                'SP_Ratio','LoanAmount','Age']\n",
    "data_vars=data.columns.values.tolist()\n",
    "to_keep=[i for i in data_vars if i not in cat_vars]"
   ]
  },
  {
   "cell_type": "code",
   "execution_count": 27,
   "metadata": {},
   "outputs": [
    {
     "data": {
      "text/plain": [
       "array(['y', 'Month_1', 'Month_2', 'Month_3', 'Month_4', 'Month_5',\n",
       "       'Month_6', 'Month_7', 'Month_8', 'Month_9', 'Month_10', 'Month_11',\n",
       "       'Month_12', 'Terms_12', 'Terms_24', 'Terms_36', 'Terms_48',\n",
       "       'IsExternalRefinance_False', 'IsExternalRefinance_True', 'Gender_F',\n",
       "       'Gender_M', 'Gender_U', 'Risky_Area_False', 'Risky_Area_True',\n",
       "       'SP_Ratio_0-5', 'SP_Ratio_10-15', 'SP_Ratio_5-10', 'SP_Ratio_>=15',\n",
       "       'LoanAmount_0-3000', 'LoanAmount_3000-6000', 'LoanAmount_6000-9000',\n",
       "       'LoanAmount_>=9000', 'Age_18-29', 'Age_30-39', 'Age_40-49',\n",
       "       'Age_50&above'], dtype=object)"
      ]
     },
     "execution_count": 27,
     "metadata": {},
     "output_type": "execute_result"
    }
   ],
   "source": [
    "data_final=data[to_keep]\n",
    "data_final.columns.values"
   ]
  },
  {
   "cell_type": "code",
   "execution_count": 28,
   "metadata": {
    "collapsed": true
   },
   "outputs": [],
   "source": [
    "data_final_vars=data_final.columns.values.tolist()\n",
    "y=['y']\n",
    "X=[i for i in data_final_vars if i not in y]"
   ]
  },
  {
   "cell_type": "code",
   "execution_count": 29,
   "metadata": {},
   "outputs": [
    {
     "name": "stderr",
     "output_type": "stream",
     "text": [
      "/Users/Isabella/anaconda2/lib/python2.7/site-packages/sklearn/utils/validation.py:578: DataConversionWarning: A column-vector y was passed when a 1d array was expected. Please change the shape of y to (n_samples, ), for example using ravel().\n",
      "  y = column_or_1d(y, warn=True)\n"
     ]
    },
    {
     "name": "stdout",
     "output_type": "stream",
     "text": [
      "[False  True False False  True False  True False False  True  True  True\n",
      "  True False False False  True False  True  True  True  True False False\n",
      "  True False False False  True False  True  True False  True  True]\n",
      "[ 8  1 16  3  1  2  1 15 12  1  1  1  1  5  4  6  1 18  1  1  1  1 17 10  1\n",
      " 14  7  9  1 11  1  1 13  1  1]\n"
     ]
    }
   ],
   "source": [
    "from sklearn import datasets\n",
    "from sklearn.feature_selection import RFE\n",
    "from sklearn.linear_model import LogisticRegression\n",
    "logreg = LogisticRegression()\n",
    "rfe = RFE(logreg, 18)\n",
    "rfe = rfe.fit(data_final[X], data_final[y] )\n",
    "print(rfe.support_)\n",
    "print(rfe.ranking_)"
   ]
  },
  {
   "cell_type": "markdown",
   "metadata": {},
   "source": [
    "array(['Month_1', 'Month_2', 'Month_3', 'Month_4', 'Month_5',\n",
    "       'Month_6', 'Month_7', 'Month_8', 'Month_9', 'Month_10', 'Month_11',\n",
    "       'Month_12', 'Terms_12', 'Terms_24', 'Terms_36', 'Terms_48',\n",
    "       'IsExternalRefinance_False', 'IsExternalRefinance_True', 'Gender_F',\n",
    "       'Gender_M', 'Gender_U', 'Risky_Area_False', 'Risky_Area_True',\n",
    "       'SP_Ratio_0-5', 'SP_Ratio_10-15', 'SP_Ratio_5-10', 'SP_Ratio_>=15',\n",
    "       'LoanAmount_0-3000', 'LoanAmount_3000-6000', 'LoanAmount_6000-9000',\n",
    "       'LoanAmount_>=9000', 'Age_18-29', 'Age_30-39', 'Age_40-49',\n",
    "       'Age_50&above'], dtype=object)\n",
    "       \n",
    "The Recursive Feature Elimination (RFE) has helped us select the following features: \n",
    "'Month_2','Month_5','Month_7','Month_10', 'Month_11','Month_12','Terms_12','IsExternalRefinance_False','Gender_F',\n",
    "'Gender_M', 'Gender_U','Risky_Area_False','SP_Ratio_10-15','LoanAmount_3000-6000','LoanAmount_>=9000', 'Age_18-29','Age_40-49','Age_50&above'"
   ]
  },
  {
   "cell_type": "code",
   "execution_count": 94,
   "metadata": {
    "collapsed": true
   },
   "outputs": [],
   "source": [
    "cols=['Month_2','Month_5','Month_7','Month_10', 'Month_11','Month_12',\\\n",
    "      'Terms_12','IsExternalRefinance_False','Gender_F','Gender_M',\\\n",
    "      'Risky_Area_False','SP_Ratio_10-15','LoanAmount_3000-6000','LoanAmount_>=9000',\\\n",
    "      'Age_18-29','Age_40-49','Age_50&above'] \n",
    "X=data_final[cols]\n",
    "y=data_final['y']"
   ]
  },
  {
   "cell_type": "code",
   "execution_count": 95,
   "metadata": {},
   "outputs": [
    {
     "name": "stdout",
     "output_type": "stream",
     "text": [
      "Optimization terminated successfully.\n",
      "         Current function value: 0.279154\n",
      "         Iterations 7\n",
      "                           Logit Regression Results                           \n",
      "==============================================================================\n",
      "Dep. Variable:                      y   No. Observations:                 3817\n",
      "Model:                          Logit   Df Residuals:                     3800\n",
      "Method:                           MLE   Df Model:                           16\n",
      "Date:                Wed, 29 Nov 2017   Pseudo R-squ.:                 0.07258\n",
      "Time:                        07:33:35   Log-Likelihood:                -1065.5\n",
      "converged:                       True   LL-Null:                       -1148.9\n",
      "                                        LLR p-value:                 3.689e-27\n",
      "=============================================================================================\n",
      "                                coef    std err          z      P>|z|      [0.025      0.975]\n",
      "---------------------------------------------------------------------------------------------\n",
      "Month_2                       0.2249      0.303      0.742      0.458      -0.369       0.819\n",
      "Month_5                      -0.3722      0.221     -1.681      0.093      -0.806       0.062\n",
      "Month_7                       0.3084      0.174      1.768      0.077      -0.033       0.650\n",
      "Month_10                     -0.3290      0.204     -1.616      0.106      -0.728       0.070\n",
      "Month_11                     -0.5913      0.221     -2.679      0.007      -1.024      -0.159\n",
      "Month_12                     -1.1620      0.320     -3.632      0.000      -1.789      -0.535\n",
      "Terms_12                      0.8146      0.140      5.819      0.000       0.540       1.089\n",
      "IsExternalRefinance_False    -0.4484      0.191     -2.343      0.019      -0.823      -0.073\n",
      "Gender_F                     -1.5747      0.233     -6.754      0.000      -2.032      -1.118\n",
      "Gender_M                     -1.3533      0.236     -5.743      0.000      -1.815      -0.891\n",
      "Risky_Area_False             -0.4080      0.118     -3.448      0.001      -0.640      -0.176\n",
      "SP_Ratio_10-15               -0.2398      0.151     -1.589      0.112      -0.536       0.056\n",
      "LoanAmount_3000-6000         -0.2306      0.138     -1.671      0.095      -0.501       0.040\n",
      "LoanAmount_>=9000             0.4064      0.189      2.153      0.031       0.037       0.776\n",
      "Age_18-29                     0.5654      0.173      3.265      0.001       0.226       0.905\n",
      "Age_40-49                    -0.3303      0.146     -2.257      0.024      -0.617      -0.043\n",
      "Age_50&above                 -0.8139      0.169     -4.818      0.000      -1.145      -0.483\n",
      "=============================================================================================\n"
     ]
    }
   ],
   "source": [
    "# Implement the model\n",
    "import statsmodels.api as sm\n",
    "logit_model=sm.Logit(y,X)\n",
    "result=logit_model.fit()\n",
    "print(result.summary())"
   ]
  },
  {
   "cell_type": "markdown",
   "metadata": {},
   "source": [
    "Logistic Regression Model Fitting\n",
    "\n",
    "X_train, X_test, y_train, y_test = train_test_split(X, y, test_size=0.3, random_state=0) from sklearn.linear_model import LogisticRegression from sklearn import metrics logreg = LogisticRegression() logreg.fit(X_train, y_train)"
   ]
  },
  {
   "cell_type": "code",
   "execution_count": 96,
   "metadata": {},
   "outputs": [
    {
     "data": {
      "text/plain": [
       "LogisticRegression(C=1.0, class_weight=None, dual=False, fit_intercept=True,\n",
       "          intercept_scaling=1, max_iter=100, multi_class='ovr', n_jobs=1,\n",
       "          penalty='l2', random_state=None, solver='liblinear', tol=0.0001,\n",
       "          verbose=0, warm_start=False)"
      ]
     },
     "execution_count": 96,
     "metadata": {},
     "output_type": "execute_result"
    }
   ],
   "source": [
    "X_train, X_test, y_train, y_test = train_test_split(X, y, test_size=0.3, random_state=0)\n",
    "from sklearn.linear_model import LogisticRegression\n",
    "from sklearn import metrics\n",
    "logreg = LogisticRegression()\n",
    "logreg.fit(X_train, y_train)"
   ]
  },
  {
   "cell_type": "code",
   "execution_count": 97,
   "metadata": {},
   "outputs": [
    {
     "name": "stdout",
     "output_type": "stream",
     "text": [
      "Accuracy of logistic regression classifier on test set: 0.91\n"
     ]
    }
   ],
   "source": [
    "y_pred = logreg.predict(X_test)\n",
    "print('Accuracy of logistic regression classifier on test set: {:.2f}'.format(logreg.score(X_test, y_test)))"
   ]
  },
  {
   "cell_type": "code",
   "execution_count": 98,
   "metadata": {},
   "outputs": [
    {
     "name": "stdout",
     "output_type": "stream",
     "text": [
      "10-fold cross validation average accuracy: 0.909\n"
     ]
    }
   ],
   "source": [
    "from sklearn import model_selection\n",
    "from sklearn.model_selection import cross_val_score\n",
    "kfold = model_selection.KFold(n_splits=10, random_state=7)\n",
    "modelCV = LogisticRegression()\n",
    "scoring = 'accuracy'\n",
    "results = model_selection.cross_val_score(modelCV, X_train, y_train, cv=kfold, scoring=scoring)\n",
    "print(\"10-fold cross validation average accuracy: %.3f\" % (results.mean()))"
   ]
  },
  {
   "cell_type": "code",
   "execution_count": 99,
   "metadata": {},
   "outputs": [
    {
     "name": "stdout",
     "output_type": "stream",
     "text": [
      "[[1048    0]\n",
      " [  98    0]]\n"
     ]
    }
   ],
   "source": [
    "from sklearn.metrics import confusion_matrix\n",
    "log_matrix = confusion_matrix(y_test, y_pred)\n",
    "print(log_matrix)"
   ]
  },
  {
   "cell_type": "code",
   "execution_count": 91,
   "metadata": {},
   "outputs": [
    {
     "name": "stdout",
     "output_type": "stream",
     "text": [
      "             precision    recall  f1-score   support\n",
      "\n",
      "          0       0.91      1.00      0.96      1048\n",
      "          1       0.00      0.00      0.00        98\n",
      "\n",
      "avg / total       0.84      0.91      0.87      1146\n",
      "\n"
     ]
    }
   ],
   "source": [
    "from sklearn.metrics import classification_report\n",
    "print(classification_report(y_test, y_pred))"
   ]
  },
  {
   "cell_type": "code",
   "execution_count": 92,
   "metadata": {},
   "outputs": [
    {
     "data": {
      "image/png": "[encoded data removed]",
      "text/plain": [
       "<matplotlib.figure.Figure at 0x1c19956210>"
      ]
     },
     "metadata": {},
     "output_type": "display_data"
    },
    {
     "data": {
      "image/png": "[encoded data removed]",
      "text/plain": [
       "<matplotlib.figure.Figure at 0x1c19b7fe50>"
      ]
     },
     "metadata": {},
     "output_type": "display_data"
    },
    {
     "data": {
      "image/png": "[encoded data removed]",
      "text/plain": [
       "<matplotlib.figure.Figure at 0x1c19bc0f10>"
      ]
     },
     "metadata": {},
     "output_type": "display_data"
    }
   ],
   "source": [
    "from sklearn.metrics import roc_auc_score\n",
    "from sklearn.metrics import roc_curve\n",
    "logit_roc_auc = roc_auc_score(y_test, logreg.predict(X_test))\n",
    "fpr, tpr, thresholds = roc_curve(y_test, logreg.predict_proba(X_test)[:,1])\n",
    "plt.figure()\n",
    "plt.plot(fpr, tpr, label='Logistic Regression (area = %0.2f)' % logit_roc_auc)\n",
    "plt.plot([0, 1], [0, 1],'r--')\n",
    "plt.xlim([0.0, 1.0])\n",
    "plt.ylim([0.0, 1.05])\n",
    "plt.xlabel('False Positive Rate')\n",
    "plt.ylabel('True Positive Rate')\n",
    "plt.title('Receiver operating characteristic')\n",
    "plt.legend(loc=\"lower right\")\n",
    "plt.savefig('Log_ROC')\n",
    "plt.show()"
   ]
  },
  {
   "cell_type": "code",
   "execution_count": 93,
   "metadata": {
    "collapsed": true
   },
   "outputs": [],
   "source": [
    "import pandas as pd\n",
    "import matplotlib.pyplot as plt\n",
    "import numpy as np\n",
    "# import gcp\n",
    "# import gcp.bigquery as bq\n",
    "# import skflow\n",
    "# import tensorflow as tf\n",
    "from sklearn.metrics import accuracy_score\n",
    "from sklearn import preprocessing\n",
    "from sklearn.cross_validation import train_test_split\n",
    "from sklearn.ensemble import RandomForestClassifier\n",
    "from sklearn.linear_model import LinearRegression\n",
    "from sklearn.linear_model import LogisticRegression\n",
    "from sklearn import metrics\n",
    "import seaborn as sns"
   ]
  },
  {
   "cell_type": "code",
   "execution_count": 85,
   "metadata": {},
   "outputs": [
    {
     "data": {
      "text/plain": [
       "<matplotlib.axes._subplots.AxesSubplot at 0x1c19b7f790>"
      ]
     },
     "execution_count": 85,
     "metadata": {},
     "output_type": "execute_result"
    }
   ],
   "source": [
    "fig, ax = plt.subplots(figsize=(8,6))\n",
    "\n",
    "sns.heatmap(log_matrix,annot=True,cmap = 'Blues',ax = ax,fmt = 'g')"
   ]
  },
  {
   "cell_type": "code",
   "execution_count": null,
   "metadata": {
    "collapsed": true
   },
   "outputs": [],
   "source": []
  },
  {
   "cell_type": "code",
   "execution_count": null,
   "metadata": {
    "collapsed": true
   },
   "outputs": [],
   "source": []
  }
 ],
 "metadata": {
  "kernelspec": {
   "display_name": "Python 2",
   "language": "python",
   "name": "python2"
  },
  "language_info": {
   "codemirror_mode": {
    "name": "ipython",
    "version": 2
   },
   "file_extension": ".py",
   "mimetype": "text/x-python",
   "name": "python",
   "nbconvert_exporter": "python",
   "pygments_lexer": "ipython2",
   "version": "2.7.14"
  }
 },
 "nbformat": 4,
 "nbformat_minor": 2
}
