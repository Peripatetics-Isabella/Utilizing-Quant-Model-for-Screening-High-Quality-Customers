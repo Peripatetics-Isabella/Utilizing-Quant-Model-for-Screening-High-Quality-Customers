{
 "cells": [
  {
   "cell_type": "code",
   "execution_count": 3,
   "metadata": {
    "collapsed": true
   },
   "outputs": [],
   "source": [
    "import pandas as pd\n",
    "import matplotlib.pyplot as plt \n",
    "import matplotlib.colors\n"
   ]
  },
  {
   "cell_type": "code",
   "execution_count": 4,
   "metadata": {},
   "outputs": [
    {
     "data": {
      "text/html": [
       "<div>\n",
       "<style>\n",
       "    .dataframe thead tr:only-child th {\n",
       "        text-align: right;\n",
       "    }\n",
       "\n",
       "    .dataframe thead th {\n",
       "        text-align: left;\n",
       "    }\n",
       "\n",
       "    .dataframe tbody tr th {\n",
       "        vertical-align: top;\n",
       "    }\n",
       "</style>\n",
       "<table border=\"1\" class=\"dataframe\">\n",
       "  <thead>\n",
       "    <tr style=\"text-align: right;\">\n",
       "      <th></th>\n",
       "      <th>LoanID</th>\n",
       "      <th>Loan_Default</th>\n",
       "      <th>LoanAmount</th>\n",
       "      <th>LoanDate</th>\n",
       "      <th>Interest</th>\n",
       "      <th>Terms</th>\n",
       "      <th>IsInternalRefinance</th>\n",
       "      <th>IsExternalRefinance</th>\n",
       "      <th>Gender</th>\n",
       "      <th>State</th>\n",
       "      <th>...</th>\n",
       "      <th>ClientID</th>\n",
       "      <th>coApplicantID</th>\n",
       "      <th>MonthlySalary</th>\n",
       "      <th>Age</th>\n",
       "      <th>Age_Group</th>\n",
       "      <th>MonthlyPayment</th>\n",
       "      <th>Salary_Payment_Ratio</th>\n",
       "      <th>Month</th>\n",
       "      <th>CO_APP_Default_Status</th>\n",
       "      <th>New_Car_Loan</th>\n",
       "    </tr>\n",
       "  </thead>\n",
       "  <tbody>\n",
       "    <tr>\n",
       "      <th>0</th>\n",
       "      <td>9281</td>\n",
       "      <td>0</td>\n",
       "      <td>2150.0</td>\n",
       "      <td>2016-09-09</td>\n",
       "      <td>0.18</td>\n",
       "      <td>24</td>\n",
       "      <td>False</td>\n",
       "      <td>False</td>\n",
       "      <td>M</td>\n",
       "      <td>FL</td>\n",
       "      <td>...</td>\n",
       "      <td>28</td>\n",
       "      <td></td>\n",
       "      <td>1923.6531853600004</td>\n",
       "      <td>44</td>\n",
       "      <td>40-49</td>\n",
       "      <td>107.336819</td>\n",
       "      <td>17.921652598614561</td>\n",
       "      <td>9</td>\n",
       "      <td>None</td>\n",
       "      <td>False</td>\n",
       "    </tr>\n",
       "    <tr>\n",
       "      <th>1</th>\n",
       "      <td>8596</td>\n",
       "      <td>0</td>\n",
       "      <td>3500.0</td>\n",
       "      <td>2016-07-22</td>\n",
       "      <td>0.18</td>\n",
       "      <td>24</td>\n",
       "      <td>False</td>\n",
       "      <td>False</td>\n",
       "      <td>F</td>\n",
       "      <td>FL</td>\n",
       "      <td>...</td>\n",
       "      <td>258</td>\n",
       "      <td></td>\n",
       "      <td></td>\n",
       "      <td>48</td>\n",
       "      <td>40-49</td>\n",
       "      <td>174.734357</td>\n",
       "      <td></td>\n",
       "      <td>7</td>\n",
       "      <td>None</td>\n",
       "      <td>False</td>\n",
       "    </tr>\n",
       "    <tr>\n",
       "      <th>2</th>\n",
       "      <td>8384</td>\n",
       "      <td>0</td>\n",
       "      <td>3000.0</td>\n",
       "      <td>2016-07-07</td>\n",
       "      <td>0.18</td>\n",
       "      <td>24</td>\n",
       "      <td>False</td>\n",
       "      <td>False</td>\n",
       "      <td>M</td>\n",
       "      <td>FL</td>\n",
       "      <td>...</td>\n",
       "      <td>337</td>\n",
       "      <td></td>\n",
       "      <td>920.0</td>\n",
       "      <td>66</td>\n",
       "      <td>60-85</td>\n",
       "      <td>149.772306</td>\n",
       "      <td>6.1426576456790851</td>\n",
       "      <td>7</td>\n",
       "      <td>None</td>\n",
       "      <td>False</td>\n",
       "    </tr>\n",
       "    <tr>\n",
       "      <th>3</th>\n",
       "      <td>10024</td>\n",
       "      <td>0</td>\n",
       "      <td>3800.0</td>\n",
       "      <td>2016-10-26</td>\n",
       "      <td>0.18</td>\n",
       "      <td>24</td>\n",
       "      <td>True</td>\n",
       "      <td>False</td>\n",
       "      <td>M</td>\n",
       "      <td>FL</td>\n",
       "      <td>...</td>\n",
       "      <td>337</td>\n",
       "      <td></td>\n",
       "      <td>920.0</td>\n",
       "      <td>66</td>\n",
       "      <td>60-85</td>\n",
       "      <td>189.711587</td>\n",
       "      <td>4.8494665623782254</td>\n",
       "      <td>10</td>\n",
       "      <td>None</td>\n",
       "      <td>False</td>\n",
       "    </tr>\n",
       "    <tr>\n",
       "      <th>4</th>\n",
       "      <td>10550</td>\n",
       "      <td>0</td>\n",
       "      <td>8650.0</td>\n",
       "      <td>2016-12-05</td>\n",
       "      <td>0.18</td>\n",
       "      <td>36</td>\n",
       "      <td>True</td>\n",
       "      <td>False</td>\n",
       "      <td>M</td>\n",
       "      <td>FL</td>\n",
       "      <td>...</td>\n",
       "      <td>392</td>\n",
       "      <td>5906</td>\n",
       "      <td>3677.7199999999998</td>\n",
       "      <td>40</td>\n",
       "      <td>30-39</td>\n",
       "      <td>312.718221</td>\n",
       "      <td>11.760491549560804</td>\n",
       "      <td>12</td>\n",
       "      <td>1</td>\n",
       "      <td>False</td>\n",
       "    </tr>\n",
       "  </tbody>\n",
       "</table>\n",
       "<p>5 rows × 23 columns</p>\n",
       "</div>"
      ],
      "text/plain": [
       "   LoanID  Loan_Default  LoanAmount    LoanDate  Interest  Terms  \\\n",
       "0    9281             0      2150.0  2016-09-09      0.18     24   \n",
       "1    8596             0      3500.0  2016-07-22      0.18     24   \n",
       "2    8384             0      3000.0  2016-07-07      0.18     24   \n",
       "3   10024             0      3800.0  2016-10-26      0.18     24   \n",
       "4   10550             0      8650.0  2016-12-05      0.18     36   \n",
       "\n",
       "   IsInternalRefinance  IsExternalRefinance Gender State     ...       \\\n",
       "0                False                False      M    FL     ...        \n",
       "1                False                False      F    FL     ...        \n",
       "2                False                False      M    FL     ...        \n",
       "3                 True                False      M    FL     ...        \n",
       "4                 True                False      M    FL     ...        \n",
       "\n",
       "  ClientID  coApplicantID       MonthlySalary  Age Age_Group MonthlyPayment  \\\n",
       "0       28                 1923.6531853600004   44     40-49     107.336819   \n",
       "1      258                                      48     40-49     174.734357   \n",
       "2      337                              920.0   66     60-85     149.772306   \n",
       "3      337                              920.0   66     60-85     189.711587   \n",
       "4      392           5906  3677.7199999999998   40     30-39     312.718221   \n",
       "\n",
       "   Salary_Payment_Ratio Month  CO_APP_Default_Status New_Car_Loan  \n",
       "0    17.921652598614561     9                   None        False  \n",
       "1                           7                   None        False  \n",
       "2    6.1426576456790851     7                   None        False  \n",
       "3    4.8494665623782254    10                   None        False  \n",
       "4    11.760491549560804    12                      1        False  \n",
       "\n",
       "[5 rows x 23 columns]"
      ]
     },
     "execution_count": 4,
     "metadata": {},
     "output_type": "execute_result"
    }
   ],
   "source": [
    "df = pd.read_csv('LR1.csv',na_filter = False)\n",
    "LR1 = df.loc[:,'LoanID':]\n",
    "LR1.head(5)"
   ]
  },
  {
   "cell_type": "code",
   "execution_count": 5,
   "metadata": {},
   "outputs": [
    {
     "data": {
      "text/plain": [
       "['LoanID',\n",
       " 'Loan_Default',\n",
       " 'LoanAmount',\n",
       " 'LoanDate',\n",
       " 'Interest',\n",
       " 'Terms',\n",
       " 'IsInternalRefinance',\n",
       " 'IsExternalRefinance',\n",
       " 'Gender',\n",
       " 'State',\n",
       " 'Make',\n",
       " 'Mileage',\n",
       " 'Vehicle_Age',\n",
       " 'ClientID',\n",
       " 'coApplicantID',\n",
       " 'MonthlySalary',\n",
       " 'Age',\n",
       " 'Age_Group',\n",
       " 'MonthlyPayment',\n",
       " 'Salary_Payment_Ratio',\n",
       " 'Month',\n",
       " 'CO_APP_Default_Status',\n",
       " 'New_Car_Loan']"
      ]
     },
     "execution_count": 5,
     "metadata": {},
     "output_type": "execute_result"
    }
   ],
   "source": [
    "list(LR1)"
   ]
  },
  {
   "cell_type": "code",
   "execution_count": 14,
   "metadata": {},
   "outputs": [
    {
     "data": {
      "image/png": "[encoded data removed]",
      "text/plain": [
       "<matplotlib.figure.Figure at 0x1041de690>"
      ]
     },
     "metadata": {},
     "output_type": "display_data"
    }
   ],
   "source": [
    "%matplotlib inline\n",
    "pd.crosstab(LR1.Month, LR1.Loan_Default).plot(kind='bar')\n",
    "plt.title('Default Frequency for Month')\n",
    "plt.xlabel('Month')\n",
    "plt.ylabel('Frequency of Default')\n",
    "plt.legend(loc='upper center', fancybox=True, shadow=True,title = 'Loan_Default', bbox_to_anchor=(1.2, 0.9),ncol = 1)\n",
    "plt.savefig('purchase_fre_month')"
   ]
  },
  {
   "cell_type": "code",
   "execution_count": 18,
   "metadata": {},
   "outputs": [
    {
     "data": {
      "image/png": "[encoded data removed]",
      "text/plain": [
       "<matplotlib.figure.Figure at 0x109b18210>"
      ]
     },
     "metadata": {},
     "output_type": "display_data"
    }
   ],
   "source": [
    "table=pd.crosstab(LR1.Gender,LR1.Loan_Default)\n",
    "table.div(table.sum(1).astype(float), axis=0).plot(kind='bar', stacked=True)\n",
    "plt.title('Stacked Bar Chart of Gender vs Default')\n",
    "plt.xlabel('Gender')\n",
    "plt.ylabel('Proportion of loans')\n",
    "plt.legend(fancybox=True, shadow=True,title = 'Loan_Default', bbox_to_anchor=(1.0, 0.9),ncol = 1)\n",
    "plt.savefig('gender_vs_default_stack')"
   ]
  },
  {
   "cell_type": "code",
   "execution_count": 8,
   "metadata": {},
   "outputs": [
    {
     "data": {
      "image/png": "[encoded data removed]",
      "text/plain": [
       "<matplotlib.figure.Figure at 0x109b1d910>"
      ]
     },
     "metadata": {},
     "output_type": "display_data"
    }
   ],
   "source": [
    "LR1.Age.hist()\n",
    "plt.title('Histogram of Age')\n",
    "plt.xlabel('Age')\n",
    "plt.ylabel('Frequency')\n",
    "plt.savefig('hist_age')"
   ]
  },
  {
   "cell_type": "code",
   "execution_count": 9,
   "metadata": {},
   "outputs": [
    {
     "data": {
      "image/png": "[encoded data removed]",
      "text/plain": [
       "<matplotlib.figure.Figure at 0x1120e6250>"
      ]
     },
     "metadata": {},
     "output_type": "display_data"
    }
   ],
   "source": [
    "LR1.LoanAmount.hist()\n",
    "plt.title('Histogram of Loan Amount')\n",
    "plt.xlabel('Loan Amount')\n",
    "plt.ylabel('Frequency')\n",
    "plt.savefig('hist_loan_amount')"
   ]
  },
  {
   "cell_type": "code",
   "execution_count": 10,
   "metadata": {},
   "outputs": [
    {
     "data": {
      "image/png": "[encoded data removed]",
      "text/plain": [
       "<matplotlib.figure.Figure at 0x109b6a950>"
      ]
     },
     "metadata": {},
     "output_type": "display_data"
    }
   ],
   "source": [
    "table=pd.crosstab(LR1.Age_Group,LR1.Loan_Default)\n",
    "table.div(table.sum(1).astype(float), axis=0).plot(kind='bar', stacked=True)\n",
    "plt.title('Stacked Bar Chart of Age Group vs Default')\n",
    "plt.xlabel('Age Group')\n",
    "plt.ylabel('Proportion of loans')\n",
    "plt.savefig('age_group_vs_default_stack')"
   ]
  },
  {
   "cell_type": "code",
   "execution_count": 696,
   "metadata": {},
   "outputs": [
    {
     "data": {
      "text/plain": [
       "array(['40-49', '60-85', '30-39', '50-59', '18-29', ''], dtype=object)"
      ]
     },
     "execution_count": 696,
     "metadata": {},
     "output_type": "execute_result"
    }
   ],
   "source": [
    "LR1.Age_Group.unique()"
   ]
  },
  {
   "cell_type": "code",
   "execution_count": 697,
   "metadata": {},
   "outputs": [
    {
     "data": {
      "text/html": [
       "<div>\n",
       "<style>\n",
       "    .dataframe thead tr:only-child th {\n",
       "        text-align: right;\n",
       "    }\n",
       "\n",
       "    .dataframe thead th {\n",
       "        text-align: left;\n",
       "    }\n",
       "\n",
       "    .dataframe tbody tr th {\n",
       "        vertical-align: top;\n",
       "    }\n",
       "</style>\n",
       "<table border=\"1\" class=\"dataframe\">\n",
       "  <thead>\n",
       "    <tr style=\"text-align: right;\">\n",
       "      <th></th>\n",
       "      <th>LoanID</th>\n",
       "      <th>Loan_Default</th>\n",
       "      <th>LoanAmount</th>\n",
       "      <th>LoanDate</th>\n",
       "      <th>Interest</th>\n",
       "      <th>Terms</th>\n",
       "      <th>IsInternalRefinance</th>\n",
       "      <th>IsExternalRefinance</th>\n",
       "      <th>Gender</th>\n",
       "      <th>State</th>\n",
       "      <th>...</th>\n",
       "      <th>ClientID</th>\n",
       "      <th>coApplicantID</th>\n",
       "      <th>MonthlySalary</th>\n",
       "      <th>Age</th>\n",
       "      <th>Age_Group</th>\n",
       "      <th>MonthlyPayment</th>\n",
       "      <th>Salary_Payment_Ratio</th>\n",
       "      <th>Month</th>\n",
       "      <th>CO_APP_Default_Status</th>\n",
       "      <th>New_Car_Loan</th>\n",
       "    </tr>\n",
       "  </thead>\n",
       "  <tbody>\n",
       "    <tr>\n",
       "      <th>2817</th>\n",
       "      <td>9536</td>\n",
       "      <td>0</td>\n",
       "      <td>2600.0</td>\n",
       "      <td>2016-09-27</td>\n",
       "      <td>0.3599</td>\n",
       "      <td>24</td>\n",
       "      <td>False</td>\n",
       "      <td>False</td>\n",
       "      <td>M</td>\n",
       "      <td>CA</td>\n",
       "      <td>...</td>\n",
       "      <td>7079</td>\n",
       "      <td></td>\n",
       "      <td>1426.6202194800001</td>\n",
       "      <td>18</td>\n",
       "      <td></td>\n",
       "      <td>153.5095</td>\n",
       "      <td>9.2933676248370034</td>\n",
       "      <td>9</td>\n",
       "      <td>None</td>\n",
       "      <td>False</td>\n",
       "    </tr>\n",
       "  </tbody>\n",
       "</table>\n",
       "<p>1 rows × 23 columns</p>\n",
       "</div>"
      ],
      "text/plain": [
       "      LoanID  Loan_Default  LoanAmount    LoanDate  Interest  Terms  \\\n",
       "2817    9536             0      2600.0  2016-09-27    0.3599     24   \n",
       "\n",
       "      IsInternalRefinance  IsExternalRefinance Gender State     ...       \\\n",
       "2817                False                False      M    CA     ...        \n",
       "\n",
       "     ClientID  coApplicantID       MonthlySalary  Age Age_Group  \\\n",
       "2817     7079                 1426.6202194800001   18             \n",
       "\n",
       "     MonthlyPayment  Salary_Payment_Ratio Month  CO_APP_Default_Status  \\\n",
       "2817       153.5095    9.2933676248370034     9                   None   \n",
       "\n",
       "     New_Car_Loan  \n",
       "2817        False  \n",
       "\n",
       "[1 rows x 23 columns]"
      ]
     },
     "execution_count": 697,
     "metadata": {},
     "output_type": "execute_result"
    }
   ],
   "source": [
    "LR1[LR1.Age_Group=='']"
   ]
  },
  {
   "cell_type": "code",
   "execution_count": 698,
   "metadata": {},
   "outputs": [
    {
     "data": {
      "image/png": "[encoded data removed]",
      "text/plain": [
       "<matplotlib.figure.Figure at 0x12259fd50>"
      ]
     },
     "metadata": {},
     "output_type": "display_data"
    }
   ],
   "source": [
    "table=pd.crosstab(LR1.Vehicle_Age,LR1.Loan_Default)\n",
    "table.div(table.sum(1).astype(float), axis=0).plot(kind='bar', stacked=True)\n",
    "plt.title('Stacked Bar Chart of Vehicle Age vs Default')\n",
    "plt.xlabel('Vehicle Age')\n",
    "plt.ylabel('Proportion of loans')\n",
    "plt.savefig('Vehicle_Age_vs_default_stack')"
   ]
  },
  {
   "cell_type": "code",
   "execution_count": 699,
   "metadata": {},
   "outputs": [
    {
     "data": {
      "image/png": "[encoded data removed]",
      "text/plain": [
       "<matplotlib.figure.Figure at 0x11f825d10>"
      ]
     },
     "metadata": {},
     "output_type": "display_data"
    }
   ],
   "source": [
    "table=pd.crosstab(LR1.New_Car_Loan,LR1.Loan_Default)\n",
    "table.div(table.sum(1).astype(float), axis=0).plot(kind='bar', stacked=True)\n",
    "plt.title('Stacked Bar Chart of New Car vs Default')\n",
    "plt.xlabel('New Car')\n",
    "plt.ylabel('Proportion of loans')\n",
    "plt.savefig('new_car_vs_default_stack')"
   ]
  },
  {
   "cell_type": "code",
   "execution_count": 700,
   "metadata": {},
   "outputs": [
    {
     "data": {
      "image/png": "[encoded data removed]",
      "text/plain": [
       "<matplotlib.figure.Figure at 0x11d36da10>"
      ]
     },
     "metadata": {},
     "output_type": "display_data"
    }
   ],
   "source": [
    "table=pd.crosstab(LR1.Interest,LR1.Loan_Default)\n",
    "table.div(table.sum(1).astype(float), axis=0).plot(kind='bar', stacked=True)\n",
    "plt.title('Stacked Bar Chart of Interest vs Default')\n",
    "plt.xlabel('Interest')\n",
    "plt.ylabel('Proportion of loans')\n",
    "plt.savefig('interest_vs_default_stack')"
   ]
  },
  {
   "cell_type": "code",
   "execution_count": 701,
   "metadata": {},
   "outputs": [
    {
     "data": {
      "image/png": "[encoded data removed]",
      "text/plain": [
       "<matplotlib.figure.Figure at 0x11d220350>"
      ]
     },
     "metadata": {},
     "output_type": "display_data"
    }
   ],
   "source": [
    "table=pd.crosstab(LR1.Terms,LR1.Loan_Default)\n",
    "table.div(table.sum(1).astype(float), axis=0).plot(kind='bar', stacked=True)\n",
    "plt.title('Stacked Bar Chart of Terms vs Default')\n",
    "plt.xlabel('Terms')\n",
    "plt.ylabel('Proportion of loans')\n",
    "plt.savefig('terms_vs_default_stack')"
   ]
  },
  {
   "cell_type": "code",
   "execution_count": 702,
   "metadata": {},
   "outputs": [
    {
     "data": {
      "image/png": "[encoded data removed]",
      "text/plain": [
       "<matplotlib.figure.Figure at 0x1c26c32ed0>"
      ]
     },
     "metadata": {},
     "output_type": "display_data"
    }
   ],
   "source": [
    "table=pd.crosstab(LR1.Month,LR1.Loan_Default)\n",
    "table.div(table.sum(1).astype(float), axis=0).plot(kind='bar', stacked=True)\n",
    "plt.title('Stacked Bar Chart of Month vs Default')\n",
    "plt.xlabel('Month')\n",
    "plt.ylabel('Proportion of loans')\n",
    "plt.savefig('Month_vs_default_stack')"
   ]
  },
  {
   "cell_type": "code",
   "execution_count": 703,
   "metadata": {},
   "outputs": [
    {
     "data": {
      "image/png": "[encoded data removed]",
      "text/plain": [
       "<matplotlib.figure.Figure at 0x11f825a10>"
      ]
     },
     "metadata": {},
     "output_type": "display_data"
    }
   ],
   "source": [
    "table=pd.crosstab(LR1.IsInternalRefinance,LR1.Loan_Default)\n",
    "table.div(table.sum(1).astype(float), axis=0).plot(kind='bar', stacked=True)\n",
    "plt.title('Stacked Bar Chart of IsInternalRefinance vs Default')\n",
    "plt.xlabel('IsInternalRefinance')\n",
    "plt.ylabel('Proportion of loans')\n",
    "plt.savefig('IsInternalRefinance_vs_default_stack')"
   ]
  },
  {
   "cell_type": "code",
   "execution_count": 704,
   "metadata": {},
   "outputs": [
    {
     "data": {
      "image/png": "[encoded data removed]",
      "text/plain": [
       "<matplotlib.figure.Figure at 0x11ff45290>"
      ]
     },
     "metadata": {},
     "output_type": "display_data"
    }
   ],
   "source": [
    "table=pd.crosstab(LR1.IsExternalRefinance,LR1.Loan_Default)\n",
    "table.div(table.sum(1).astype(float), axis=0).plot(kind='bar', stacked=True)\n",
    "plt.title('Stacked Bar Chart of IsExternalRefinance vs Default')\n",
    "plt.xlabel('IsExternalRefinance')\n",
    "plt.ylabel('Proportion of loans')\n",
    "plt.savefig('IsExternalRefinance_vs_default_stack')"
   ]
  },
  {
   "cell_type": "code",
   "execution_count": 705,
   "metadata": {},
   "outputs": [
    {
     "data": {
      "image/png": "[encoded data removed]",
      "text/plain": [
       "<matplotlib.figure.Figure at 0x11ff4d690>"
      ]
     },
     "metadata": {},
     "output_type": "display_data"
    }
   ],
   "source": [
    "table=pd.crosstab(LR1.Gender,LR1.Loan_Default)\n",
    "table.div(table.sum(1).astype(float), axis=0).plot(kind='bar', stacked=True)\n",
    "plt.title('Stacked Bar Chart of Gender vs Default')\n",
    "plt.xlabel('Gender')\n",
    "plt.ylabel('Proportion of loans')\n",
    "plt.savefig('Gender_vs_default_stack')"
   ]
  },
  {
   "cell_type": "code",
   "execution_count": 706,
   "metadata": {},
   "outputs": [
    {
     "data": {
      "image/png": "[encoded data removed]",
      "text/plain": [
       "<matplotlib.figure.Figure at 0x12297d290>"
      ]
     },
     "metadata": {},
     "output_type": "display_data"
    }
   ],
   "source": [
    "table=pd.crosstab(LR1.State,LR1.Loan_Default)\n",
    "table.div(table.sum(1).astype(float), axis=0).plot(kind='bar', stacked=True)\n",
    "plt.title('Stacked Bar Chart of State vs Default')\n",
    "plt.xlabel('State')\n",
    "plt.ylabel('Proportion of loans')\n",
    "plt.savefig('State_vs_default_stack')"
   ]
  },
  {
   "cell_type": "code",
   "execution_count": 707,
   "metadata": {},
   "outputs": [
    {
     "data": {
      "text/html": [
       "<div>\n",
       "<style>\n",
       "    .dataframe thead tr:only-child th {\n",
       "        text-align: right;\n",
       "    }\n",
       "\n",
       "    .dataframe thead th {\n",
       "        text-align: left;\n",
       "    }\n",
       "\n",
       "    .dataframe tbody tr th {\n",
       "        vertical-align: top;\n",
       "    }\n",
       "</style>\n",
       "<table border=\"1\" class=\"dataframe\">\n",
       "  <thead>\n",
       "    <tr style=\"text-align: right;\">\n",
       "      <th></th>\n",
       "      <th>LoanID</th>\n",
       "      <th>Loan_Default</th>\n",
       "      <th>LoanAmount</th>\n",
       "      <th>LoanDate</th>\n",
       "      <th>Interest</th>\n",
       "      <th>Terms</th>\n",
       "      <th>IsInternalRefinance</th>\n",
       "      <th>IsExternalRefinance</th>\n",
       "      <th>Gender</th>\n",
       "      <th>State</th>\n",
       "      <th>...</th>\n",
       "      <th>ClientID</th>\n",
       "      <th>coApplicantID</th>\n",
       "      <th>MonthlySalary</th>\n",
       "      <th>Age</th>\n",
       "      <th>Age_Group</th>\n",
       "      <th>MonthlyPayment</th>\n",
       "      <th>Salary_Payment_Ratio</th>\n",
       "      <th>Month</th>\n",
       "      <th>CO_APP_Default_Status</th>\n",
       "      <th>New_Car_Loan</th>\n",
       "    </tr>\n",
       "  </thead>\n",
       "  <tbody>\n",
       "    <tr>\n",
       "      <th>3322</th>\n",
       "      <td>10197</td>\n",
       "      <td>1</td>\n",
       "      <td>3850.0</td>\n",
       "      <td>2016-11-08</td>\n",
       "      <td>0.3599</td>\n",
       "      <td>12</td>\n",
       "      <td>False</td>\n",
       "      <td>False</td>\n",
       "      <td>M</td>\n",
       "      <td>NY</td>\n",
       "      <td>...</td>\n",
       "      <td>7562</td>\n",
       "      <td></td>\n",
       "      <td>2570.0</td>\n",
       "      <td>28</td>\n",
       "      <td>18-29</td>\n",
       "      <td>386.759789</td>\n",
       "      <td>6.6449513973739203</td>\n",
       "      <td>11</td>\n",
       "      <td>None</td>\n",
       "      <td>False</td>\n",
       "    </tr>\n",
       "  </tbody>\n",
       "</table>\n",
       "<p>1 rows × 23 columns</p>\n",
       "</div>"
      ],
      "text/plain": [
       "      LoanID  Loan_Default  LoanAmount    LoanDate  Interest  Terms  \\\n",
       "3322   10197             1      3850.0  2016-11-08    0.3599     12   \n",
       "\n",
       "      IsInternalRefinance  IsExternalRefinance Gender State     ...       \\\n",
       "3322                False                False      M    NY     ...        \n",
       "\n",
       "     ClientID  coApplicantID  MonthlySalary  Age Age_Group MonthlyPayment  \\\n",
       "3322     7562                        2570.0   28     18-29     386.759789   \n",
       "\n",
       "      Salary_Payment_Ratio Month  CO_APP_Default_Status New_Car_Loan  \n",
       "3322    6.6449513973739203    11                   None        False  \n",
       "\n",
       "[1 rows x 23 columns]"
      ]
     },
     "execution_count": 707,
     "metadata": {},
     "output_type": "execute_result"
    }
   ],
   "source": [
    "LR1[LR1.State == 'NY']"
   ]
  },
  {
   "cell_type": "code",
   "execution_count": 708,
   "metadata": {},
   "outputs": [
    {
     "data": {
      "image/png": "[encoded data removed]",
      "text/plain": [
       "<matplotlib.figure.Figure at 0x1c26c984d0>"
      ]
     },
     "metadata": {},
     "output_type": "display_data"
    }
   ],
   "source": [
    "table=pd.crosstab(LR1.Make,LR1.Loan_Default)\n",
    "table.div(table.sum(1).astype(float), axis=0).plot(kind='bar', stacked=True)\n",
    "plt.title('Stacked Bar Chart of Make vs Default')\n",
    "plt.xlabel('Make')\n",
    "plt.ylabel('Proportion of loans')\n",
    "plt.savefig('Make_vs_default_stack')"
   ]
  },
  {
   "cell_type": "code",
   "execution_count": 709,
   "metadata": {},
   "outputs": [
    {
     "data": {
      "image/png": "[encoded data removed]",
      "text/plain": [
       "<matplotlib.figure.Figure at 0x122fdf790>"
      ]
     },
     "metadata": {},
     "output_type": "display_data"
    }
   ],
   "source": [
    "table=pd.crosstab(LR1.Vehicle_Age,LR1.Loan_Default)\n",
    "table.div(table.sum(1).astype(float), axis=0).plot(kind='bar', stacked=True)\n",
    "plt.title('Stacked Bar Chart of Vehicle_Age vs Default')\n",
    "plt.xlabel('Vehicle_Age')\n",
    "plt.ylabel('Proportion of loans')\n",
    "plt.savefig('Vehicle_Age_vs_default_stack')"
   ]
  },
  {
   "cell_type": "code",
   "execution_count": 710,
   "metadata": {},
   "outputs": [
    {
     "data": {
      "image/png": "[encoded data removed]",
      "text/plain": [
       "<matplotlib.figure.Figure at 0x1c27adb510>"
      ]
     },
     "metadata": {},
     "output_type": "display_data"
    }
   ],
   "source": [
    "table=pd.crosstab(LR1.Age,LR1.Loan_Default)\n",
    "table.div(table.sum(1).astype(float), axis=0).plot(kind='bar', stacked=True)\n",
    "plt.title('Stacked Bar Chart of Age vs Default')\n",
    "plt.xlabel('Age')\n",
    "plt.ylabel('Proportion of loans')\n",
    "plt.savefig('Age_vs_default_stack')"
   ]
  },
  {
   "cell_type": "code",
   "execution_count": 711,
   "metadata": {},
   "outputs": [
    {
     "data": {
      "image/png": "[encoded data removed]",
      "text/plain": [
       "<matplotlib.figure.Figure at 0x1c27e42ad0>"
      ]
     },
     "metadata": {},
     "output_type": "display_data"
    }
   ],
   "source": [
    "table=pd.crosstab(LR1.Age_Group,LR1.Loan_Default)\n",
    "table.div(table.sum(1).astype(float), axis=0).plot(kind='bar', stacked=True)\n",
    "plt.title('Stacked Bar Chart of Age_Group vs Default')\n",
    "plt.xlabel('Age_Group')\n",
    "plt.ylabel('Proportion of loans')\n",
    "plt.savefig('Age_Group_vs_default_stack')"
   ]
  },
  {
   "cell_type": "code",
   "execution_count": 712,
   "metadata": {},
   "outputs": [
    {
     "ename": "KeyboardInterrupt",
     "evalue": "",
     "output_type": "error",
     "traceback": [
      "\u001b[0;31m---------------------------------------------------------------------------\u001b[0m",
      "\u001b[0;31mKeyboardInterrupt\u001b[0m                         Traceback (most recent call last)",
      "\u001b[0;32m<ipython-input-712-73751195d961>\u001b[0m in \u001b[0;36m<module>\u001b[0;34m()\u001b[0m\n\u001b[1;32m      1\u001b[0m \u001b[0mtable\u001b[0m\u001b[0;34m=\u001b[0m\u001b[0mpd\u001b[0m\u001b[0;34m.\u001b[0m\u001b[0mcrosstab\u001b[0m\u001b[0;34m(\u001b[0m\u001b[0mLR1\u001b[0m\u001b[0;34m.\u001b[0m\u001b[0mSalary_Payment_Ratio\u001b[0m\u001b[0;34m,\u001b[0m\u001b[0mLR1\u001b[0m\u001b[0;34m.\u001b[0m\u001b[0mLoan_Default\u001b[0m\u001b[0;34m)\u001b[0m\u001b[0;34m\u001b[0m\u001b[0m\n\u001b[0;32m----> 2\u001b[0;31m \u001b[0mtable\u001b[0m\u001b[0;34m.\u001b[0m\u001b[0mdiv\u001b[0m\u001b[0;34m(\u001b[0m\u001b[0mtable\u001b[0m\u001b[0;34m.\u001b[0m\u001b[0msum\u001b[0m\u001b[0;34m(\u001b[0m\u001b[0;36m1\u001b[0m\u001b[0;34m)\u001b[0m\u001b[0;34m.\u001b[0m\u001b[0mastype\u001b[0m\u001b[0;34m(\u001b[0m\u001b[0mfloat\u001b[0m\u001b[0;34m)\u001b[0m\u001b[0;34m,\u001b[0m \u001b[0maxis\u001b[0m\u001b[0;34m=\u001b[0m\u001b[0;36m0\u001b[0m\u001b[0;34m)\u001b[0m\u001b[0;34m.\u001b[0m\u001b[0mplot\u001b[0m\u001b[0;34m(\u001b[0m\u001b[0mkind\u001b[0m\u001b[0;34m=\u001b[0m\u001b[0;34m'bar'\u001b[0m\u001b[0;34m,\u001b[0m \u001b[0mstacked\u001b[0m\u001b[0;34m=\u001b[0m\u001b[0mTrue\u001b[0m\u001b[0;34m)\u001b[0m\u001b[0;34m\u001b[0m\u001b[0m\n\u001b[0m\u001b[1;32m      3\u001b[0m \u001b[0mplt\u001b[0m\u001b[0;34m.\u001b[0m\u001b[0mtitle\u001b[0m\u001b[0;34m(\u001b[0m\u001b[0;34m'Stacked Bar Chart of Salary_Payment_Ratio vs Default'\u001b[0m\u001b[0;34m)\u001b[0m\u001b[0;34m\u001b[0m\u001b[0m\n\u001b[1;32m      4\u001b[0m \u001b[0mplt\u001b[0m\u001b[0;34m.\u001b[0m\u001b[0mxlabel\u001b[0m\u001b[0;34m(\u001b[0m\u001b[0;34m'Salary_Payment_Ratio'\u001b[0m\u001b[0;34m)\u001b[0m\u001b[0;34m\u001b[0m\u001b[0m\n\u001b[1;32m      5\u001b[0m \u001b[0mplt\u001b[0m\u001b[0;34m.\u001b[0m\u001b[0mylabel\u001b[0m\u001b[0;34m(\u001b[0m\u001b[0;34m'Proportion of Salary_Payment_Ratio'\u001b[0m\u001b[0;34m)\u001b[0m\u001b[0;34m\u001b[0m\u001b[0m\n",
      "\u001b[0;32m/Users/Isabella/anaconda2/lib/python2.7/site-packages/pandas/plotting/_core.pyc\u001b[0m in \u001b[0;36m__call__\u001b[0;34m(self, x, y, kind, ax, subplots, sharex, sharey, layout, figsize, use_index, title, grid, legend, style, logx, logy, loglog, xticks, yticks, xlim, ylim, rot, fontsize, colormap, table, yerr, xerr, secondary_y, sort_columns, **kwds)\u001b[0m\n\u001b[1;32m   2625\u001b[0m                           \u001b[0mfontsize\u001b[0m\u001b[0;34m=\u001b[0m\u001b[0mfontsize\u001b[0m\u001b[0;34m,\u001b[0m \u001b[0mcolormap\u001b[0m\u001b[0;34m=\u001b[0m\u001b[0mcolormap\u001b[0m\u001b[0;34m,\u001b[0m \u001b[0mtable\u001b[0m\u001b[0;34m=\u001b[0m\u001b[0mtable\u001b[0m\u001b[0;34m,\u001b[0m\u001b[0;34m\u001b[0m\u001b[0m\n\u001b[1;32m   2626\u001b[0m                           \u001b[0myerr\u001b[0m\u001b[0;34m=\u001b[0m\u001b[0myerr\u001b[0m\u001b[0;34m,\u001b[0m \u001b[0mxerr\u001b[0m\u001b[0;34m=\u001b[0m\u001b[0mxerr\u001b[0m\u001b[0;34m,\u001b[0m \u001b[0msecondary_y\u001b[0m\u001b[0;34m=\u001b[0m\u001b[0msecondary_y\u001b[0m\u001b[0;34m,\u001b[0m\u001b[0;34m\u001b[0m\u001b[0m\n\u001b[0;32m-> 2627\u001b[0;31m                           sort_columns=sort_columns, **kwds)\n\u001b[0m\u001b[1;32m   2628\u001b[0m     \u001b[0m__call__\u001b[0m\u001b[0;34m.\u001b[0m\u001b[0m__doc__\u001b[0m \u001b[0;34m=\u001b[0m \u001b[0mplot_frame\u001b[0m\u001b[0;34m.\u001b[0m\u001b[0m__doc__\u001b[0m\u001b[0;34m\u001b[0m\u001b[0m\n\u001b[1;32m   2629\u001b[0m \u001b[0;34m\u001b[0m\u001b[0m\n",
      "\u001b[0;32m/Users/Isabella/anaconda2/lib/python2.7/site-packages/pandas/plotting/_core.pyc\u001b[0m in \u001b[0;36mplot_frame\u001b[0;34m(data, x, y, kind, ax, subplots, sharex, sharey, layout, figsize, use_index, title, grid, legend, style, logx, logy, loglog, xticks, yticks, xlim, ylim, rot, fontsize, colormap, table, yerr, xerr, secondary_y, sort_columns, **kwds)\u001b[0m\n\u001b[1;32m   1867\u001b[0m                  \u001b[0myerr\u001b[0m\u001b[0;34m=\u001b[0m\u001b[0myerr\u001b[0m\u001b[0;34m,\u001b[0m \u001b[0mxerr\u001b[0m\u001b[0;34m=\u001b[0m\u001b[0mxerr\u001b[0m\u001b[0;34m,\u001b[0m\u001b[0;34m\u001b[0m\u001b[0m\n\u001b[1;32m   1868\u001b[0m                  \u001b[0msecondary_y\u001b[0m\u001b[0;34m=\u001b[0m\u001b[0msecondary_y\u001b[0m\u001b[0;34m,\u001b[0m \u001b[0msort_columns\u001b[0m\u001b[0;34m=\u001b[0m\u001b[0msort_columns\u001b[0m\u001b[0;34m,\u001b[0m\u001b[0;34m\u001b[0m\u001b[0m\n\u001b[0;32m-> 1869\u001b[0;31m                  **kwds)\n\u001b[0m\u001b[1;32m   1870\u001b[0m \u001b[0;34m\u001b[0m\u001b[0m\n\u001b[1;32m   1871\u001b[0m \u001b[0;34m\u001b[0m\u001b[0m\n",
      "\u001b[0;32m/Users/Isabella/anaconda2/lib/python2.7/site-packages/pandas/plotting/_core.pyc\u001b[0m in \u001b[0;36m_plot\u001b[0;34m(data, x, y, subplots, ax, kind, **kwds)\u001b[0m\n\u001b[1;32m   1692\u001b[0m         \u001b[0mplot_obj\u001b[0m \u001b[0;34m=\u001b[0m \u001b[0mklass\u001b[0m\u001b[0;34m(\u001b[0m\u001b[0mdata\u001b[0m\u001b[0;34m,\u001b[0m \u001b[0msubplots\u001b[0m\u001b[0;34m=\u001b[0m\u001b[0msubplots\u001b[0m\u001b[0;34m,\u001b[0m \u001b[0max\u001b[0m\u001b[0;34m=\u001b[0m\u001b[0max\u001b[0m\u001b[0;34m,\u001b[0m \u001b[0mkind\u001b[0m\u001b[0;34m=\u001b[0m\u001b[0mkind\u001b[0m\u001b[0;34m,\u001b[0m \u001b[0;34m**\u001b[0m\u001b[0mkwds\u001b[0m\u001b[0;34m)\u001b[0m\u001b[0;34m\u001b[0m\u001b[0m\n\u001b[1;32m   1693\u001b[0m \u001b[0;34m\u001b[0m\u001b[0m\n\u001b[0;32m-> 1694\u001b[0;31m     \u001b[0mplot_obj\u001b[0m\u001b[0;34m.\u001b[0m\u001b[0mgenerate\u001b[0m\u001b[0;34m(\u001b[0m\u001b[0;34m)\u001b[0m\u001b[0;34m\u001b[0m\u001b[0m\n\u001b[0m\u001b[1;32m   1695\u001b[0m     \u001b[0mplot_obj\u001b[0m\u001b[0;34m.\u001b[0m\u001b[0mdraw\u001b[0m\u001b[0;34m(\u001b[0m\u001b[0;34m)\u001b[0m\u001b[0;34m\u001b[0m\u001b[0m\n\u001b[1;32m   1696\u001b[0m     \u001b[0;32mreturn\u001b[0m \u001b[0mplot_obj\u001b[0m\u001b[0;34m.\u001b[0m\u001b[0mresult\u001b[0m\u001b[0;34m\u001b[0m\u001b[0m\n",
      "\u001b[0;32m/Users/Isabella/anaconda2/lib/python2.7/site-packages/pandas/plotting/_core.pyc\u001b[0m in \u001b[0;36mgenerate\u001b[0;34m(self)\u001b[0m\n\u001b[1;32m    243\u001b[0m         \u001b[0mself\u001b[0m\u001b[0;34m.\u001b[0m\u001b[0m_compute_plot_data\u001b[0m\u001b[0;34m(\u001b[0m\u001b[0;34m)\u001b[0m\u001b[0;34m\u001b[0m\u001b[0m\n\u001b[1;32m    244\u001b[0m         \u001b[0mself\u001b[0m\u001b[0;34m.\u001b[0m\u001b[0m_setup_subplots\u001b[0m\u001b[0;34m(\u001b[0m\u001b[0;34m)\u001b[0m\u001b[0;34m\u001b[0m\u001b[0m\n\u001b[0;32m--> 245\u001b[0;31m         \u001b[0mself\u001b[0m\u001b[0;34m.\u001b[0m\u001b[0m_make_plot\u001b[0m\u001b[0;34m(\u001b[0m\u001b[0;34m)\u001b[0m\u001b[0;34m\u001b[0m\u001b[0m\n\u001b[0m\u001b[1;32m    246\u001b[0m         \u001b[0mself\u001b[0m\u001b[0;34m.\u001b[0m\u001b[0m_add_table\u001b[0m\u001b[0;34m(\u001b[0m\u001b[0;34m)\u001b[0m\u001b[0;34m\u001b[0m\u001b[0m\n\u001b[1;32m    247\u001b[0m         \u001b[0mself\u001b[0m\u001b[0;34m.\u001b[0m\u001b[0m_make_legend\u001b[0m\u001b[0;34m(\u001b[0m\u001b[0;34m)\u001b[0m\u001b[0;34m\u001b[0m\u001b[0m\n",
      "\u001b[0;32m/Users/Isabella/anaconda2/lib/python2.7/site-packages/pandas/plotting/_core.pyc\u001b[0m in \u001b[0;36m_make_plot\u001b[0;34m(self)\u001b[0m\n\u001b[1;32m   1214\u001b[0m                 rect = self._plot(ax, self.ax_pos + w, y, self.bar_width,\n\u001b[1;32m   1215\u001b[0m                                   \u001b[0mstart\u001b[0m\u001b[0;34m=\u001b[0m\u001b[0mstart\u001b[0m\u001b[0;34m,\u001b[0m \u001b[0mlabel\u001b[0m\u001b[0;34m=\u001b[0m\u001b[0mlabel\u001b[0m\u001b[0;34m,\u001b[0m\u001b[0;34m\u001b[0m\u001b[0m\n\u001b[0;32m-> 1216\u001b[0;31m                                   log=self.log, **kwds)\n\u001b[0m\u001b[1;32m   1217\u001b[0m                 \u001b[0mpos_prior\u001b[0m \u001b[0;34m=\u001b[0m \u001b[0mpos_prior\u001b[0m \u001b[0;34m+\u001b[0m \u001b[0mnp\u001b[0m\u001b[0;34m.\u001b[0m\u001b[0mwhere\u001b[0m\u001b[0;34m(\u001b[0m\u001b[0mmask\u001b[0m\u001b[0;34m,\u001b[0m \u001b[0my\u001b[0m\u001b[0;34m,\u001b[0m \u001b[0;36m0\u001b[0m\u001b[0;34m)\u001b[0m\u001b[0;34m\u001b[0m\u001b[0m\n\u001b[1;32m   1218\u001b[0m                 \u001b[0mneg_prior\u001b[0m \u001b[0;34m=\u001b[0m \u001b[0mneg_prior\u001b[0m \u001b[0;34m+\u001b[0m \u001b[0mnp\u001b[0m\u001b[0;34m.\u001b[0m\u001b[0mwhere\u001b[0m\u001b[0;34m(\u001b[0m\u001b[0mmask\u001b[0m\u001b[0;34m,\u001b[0m \u001b[0;36m0\u001b[0m\u001b[0;34m,\u001b[0m \u001b[0my\u001b[0m\u001b[0;34m)\u001b[0m\u001b[0;34m\u001b[0m\u001b[0m\n",
      "\u001b[0;32m/Users/Isabella/anaconda2/lib/python2.7/site-packages/pandas/plotting/_core.pyc\u001b[0m in \u001b[0;36m_plot\u001b[0;34m(cls, ax, x, y, w, start, log, **kwds)\u001b[0m\n\u001b[1;32m   1168\u001b[0m     \u001b[0;34m@\u001b[0m\u001b[0mclassmethod\u001b[0m\u001b[0;34m\u001b[0m\u001b[0m\n\u001b[1;32m   1169\u001b[0m     \u001b[0;32mdef\u001b[0m \u001b[0m_plot\u001b[0m\u001b[0;34m(\u001b[0m\u001b[0mcls\u001b[0m\u001b[0;34m,\u001b[0m \u001b[0max\u001b[0m\u001b[0;34m,\u001b[0m \u001b[0mx\u001b[0m\u001b[0;34m,\u001b[0m \u001b[0my\u001b[0m\u001b[0;34m,\u001b[0m \u001b[0mw\u001b[0m\u001b[0;34m,\u001b[0m \u001b[0mstart\u001b[0m\u001b[0;34m=\u001b[0m\u001b[0;36m0\u001b[0m\u001b[0;34m,\u001b[0m \u001b[0mlog\u001b[0m\u001b[0;34m=\u001b[0m\u001b[0mFalse\u001b[0m\u001b[0;34m,\u001b[0m \u001b[0;34m**\u001b[0m\u001b[0mkwds\u001b[0m\u001b[0;34m)\u001b[0m\u001b[0;34m:\u001b[0m\u001b[0;34m\u001b[0m\u001b[0m\n\u001b[0;32m-> 1170\u001b[0;31m         \u001b[0;32mreturn\u001b[0m \u001b[0max\u001b[0m\u001b[0;34m.\u001b[0m\u001b[0mbar\u001b[0m\u001b[0;34m(\u001b[0m\u001b[0mx\u001b[0m\u001b[0;34m,\u001b[0m \u001b[0my\u001b[0m\u001b[0;34m,\u001b[0m \u001b[0mw\u001b[0m\u001b[0;34m,\u001b[0m \u001b[0mbottom\u001b[0m\u001b[0;34m=\u001b[0m\u001b[0mstart\u001b[0m\u001b[0;34m,\u001b[0m \u001b[0mlog\u001b[0m\u001b[0;34m=\u001b[0m\u001b[0mlog\u001b[0m\u001b[0;34m,\u001b[0m \u001b[0;34m**\u001b[0m\u001b[0mkwds\u001b[0m\u001b[0;34m)\u001b[0m\u001b[0;34m\u001b[0m\u001b[0m\n\u001b[0m\u001b[1;32m   1171\u001b[0m \u001b[0;34m\u001b[0m\u001b[0m\n\u001b[1;32m   1172\u001b[0m     \u001b[0;34m@\u001b[0m\u001b[0mproperty\u001b[0m\u001b[0;34m\u001b[0m\u001b[0m\n",
      "\u001b[0;32m/Users/Isabella/anaconda2/lib/python2.7/site-packages/matplotlib/__init__.pyc\u001b[0m in \u001b[0;36minner\u001b[0;34m(ax, *args, **kwargs)\u001b[0m\n\u001b[1;32m   1708\u001b[0m                     warnings.warn(msg % (label_namer, func.__name__),\n\u001b[1;32m   1709\u001b[0m                                   RuntimeWarning, stacklevel=2)\n\u001b[0;32m-> 1710\u001b[0;31m             \u001b[0;32mreturn\u001b[0m \u001b[0mfunc\u001b[0m\u001b[0;34m(\u001b[0m\u001b[0max\u001b[0m\u001b[0;34m,\u001b[0m \u001b[0;34m*\u001b[0m\u001b[0margs\u001b[0m\u001b[0;34m,\u001b[0m \u001b[0;34m**\u001b[0m\u001b[0mkwargs\u001b[0m\u001b[0;34m)\u001b[0m\u001b[0;34m\u001b[0m\u001b[0m\n\u001b[0m\u001b[1;32m   1711\u001b[0m         \u001b[0mpre_doc\u001b[0m \u001b[0;34m=\u001b[0m \u001b[0minner\u001b[0m\u001b[0;34m.\u001b[0m\u001b[0m__doc__\u001b[0m\u001b[0;34m\u001b[0m\u001b[0m\n\u001b[1;32m   1712\u001b[0m         \u001b[0;32mif\u001b[0m \u001b[0mpre_doc\u001b[0m \u001b[0;32mis\u001b[0m \u001b[0mNone\u001b[0m\u001b[0;34m:\u001b[0m\u001b[0;34m\u001b[0m\u001b[0m\n",
      "\u001b[0;32m/Users/Isabella/anaconda2/lib/python2.7/site-packages/matplotlib/axes/_axes.pyc\u001b[0m in \u001b[0;36mbar\u001b[0;34m(self, *args, **kwargs)\u001b[0m\n\u001b[1;32m   2154\u001b[0m             \u001b[0;32melif\u001b[0m \u001b[0morientation\u001b[0m \u001b[0;34m==\u001b[0m \u001b[0;34m'horizontal'\u001b[0m\u001b[0;34m:\u001b[0m\u001b[0;34m\u001b[0m\u001b[0m\n\u001b[1;32m   2155\u001b[0m                 \u001b[0mr\u001b[0m\u001b[0;34m.\u001b[0m\u001b[0msticky_edges\u001b[0m\u001b[0;34m.\u001b[0m\u001b[0mx\u001b[0m\u001b[0;34m.\u001b[0m\u001b[0mappend\u001b[0m\u001b[0;34m(\u001b[0m\u001b[0ml\u001b[0m\u001b[0;34m)\u001b[0m\u001b[0;34m\u001b[0m\u001b[0m\n\u001b[0;32m-> 2156\u001b[0;31m             \u001b[0mself\u001b[0m\u001b[0;34m.\u001b[0m\u001b[0madd_patch\u001b[0m\u001b[0;34m(\u001b[0m\u001b[0mr\u001b[0m\u001b[0;34m)\u001b[0m\u001b[0;34m\u001b[0m\u001b[0m\n\u001b[0m\u001b[1;32m   2157\u001b[0m             \u001b[0mpatches\u001b[0m\u001b[0;34m.\u001b[0m\u001b[0mappend\u001b[0m\u001b[0;34m(\u001b[0m\u001b[0mr\u001b[0m\u001b[0;34m)\u001b[0m\u001b[0;34m\u001b[0m\u001b[0m\n\u001b[1;32m   2158\u001b[0m \u001b[0;34m\u001b[0m\u001b[0m\n",
      "\u001b[0;32m/Users/Isabella/anaconda2/lib/python2.7/site-packages/matplotlib/axes/_base.pyc\u001b[0m in \u001b[0;36madd_patch\u001b[0;34m(self, p)\u001b[0m\n\u001b[1;32m   1832\u001b[0m         \u001b[0;32mif\u001b[0m \u001b[0mp\u001b[0m\u001b[0;34m.\u001b[0m\u001b[0mget_clip_path\u001b[0m\u001b[0;34m(\u001b[0m\u001b[0;34m)\u001b[0m \u001b[0;32mis\u001b[0m \u001b[0mNone\u001b[0m\u001b[0;34m:\u001b[0m\u001b[0;34m\u001b[0m\u001b[0m\n\u001b[1;32m   1833\u001b[0m             \u001b[0mp\u001b[0m\u001b[0;34m.\u001b[0m\u001b[0mset_clip_path\u001b[0m\u001b[0;34m(\u001b[0m\u001b[0mself\u001b[0m\u001b[0;34m.\u001b[0m\u001b[0mpatch\u001b[0m\u001b[0;34m)\u001b[0m\u001b[0;34m\u001b[0m\u001b[0m\n\u001b[0;32m-> 1834\u001b[0;31m         \u001b[0mself\u001b[0m\u001b[0;34m.\u001b[0m\u001b[0m_update_patch_limits\u001b[0m\u001b[0;34m(\u001b[0m\u001b[0mp\u001b[0m\u001b[0;34m)\u001b[0m\u001b[0;34m\u001b[0m\u001b[0m\n\u001b[0m\u001b[1;32m   1835\u001b[0m         \u001b[0mself\u001b[0m\u001b[0;34m.\u001b[0m\u001b[0mpatches\u001b[0m\u001b[0;34m.\u001b[0m\u001b[0mappend\u001b[0m\u001b[0;34m(\u001b[0m\u001b[0mp\u001b[0m\u001b[0;34m)\u001b[0m\u001b[0;34m\u001b[0m\u001b[0m\n\u001b[1;32m   1836\u001b[0m         \u001b[0mp\u001b[0m\u001b[0;34m.\u001b[0m\u001b[0m_remove_method\u001b[0m \u001b[0;34m=\u001b[0m \u001b[0;32mlambda\u001b[0m \u001b[0mh\u001b[0m\u001b[0;34m:\u001b[0m \u001b[0mself\u001b[0m\u001b[0;34m.\u001b[0m\u001b[0mpatches\u001b[0m\u001b[0;34m.\u001b[0m\u001b[0mremove\u001b[0m\u001b[0;34m(\u001b[0m\u001b[0mh\u001b[0m\u001b[0;34m)\u001b[0m\u001b[0;34m\u001b[0m\u001b[0m\n",
      "\u001b[0;32m/Users/Isabella/anaconda2/lib/python2.7/site-packages/matplotlib/axes/_base.pyc\u001b[0m in \u001b[0;36m_update_patch_limits\u001b[0;34m(self, patch)\u001b[0m\n\u001b[1;32m   1858\u001b[0m                 \u001b[0mxys\u001b[0m \u001b[0;34m=\u001b[0m \u001b[0mpatch_to_data\u001b[0m\u001b[0;34m.\u001b[0m\u001b[0mtransform\u001b[0m\u001b[0;34m(\u001b[0m\u001b[0mxys\u001b[0m\u001b[0;34m)\u001b[0m\u001b[0;34m\u001b[0m\u001b[0m\n\u001b[1;32m   1859\u001b[0m \u001b[0;34m\u001b[0m\u001b[0m\n\u001b[0;32m-> 1860\u001b[0;31m             \u001b[0mupdatex\u001b[0m\u001b[0;34m,\u001b[0m \u001b[0mupdatey\u001b[0m \u001b[0;34m=\u001b[0m \u001b[0mpatch\u001b[0m\u001b[0;34m.\u001b[0m\u001b[0mget_transform\u001b[0m\u001b[0;34m(\u001b[0m\u001b[0;34m)\u001b[0m\u001b[0;34m.\u001b[0m\u001b[0;31m\\\u001b[0m\u001b[0;34m\u001b[0m\u001b[0m\n\u001b[0m\u001b[1;32m   1861\u001b[0m                 \u001b[0mcontains_branch_seperately\u001b[0m\u001b[0;34m(\u001b[0m\u001b[0mself\u001b[0m\u001b[0;34m.\u001b[0m\u001b[0mtransData\u001b[0m\u001b[0;34m)\u001b[0m\u001b[0;34m\u001b[0m\u001b[0m\n\u001b[1;32m   1862\u001b[0m             self.update_datalim(xys, updatex=updatex,\n",
      "\u001b[0;32m/Users/Isabella/anaconda2/lib/python2.7/site-packages/matplotlib/patches.pyc\u001b[0m in \u001b[0;36mget_transform\u001b[0;34m(self)\u001b[0m\n\u001b[1;32m    219\u001b[0m         \u001b[0mto\u001b[0m \u001b[0mthe\u001b[0m \u001b[0;34m:\u001b[0m\u001b[0;32mclass\u001b[0m\u001b[0;34m:\u001b[0m\u001b[0;34m`\u001b[0m\u001b[0mPatch\u001b[0m\u001b[0;34m`\u001b[0m\u001b[0;34m.\u001b[0m\u001b[0;34m\u001b[0m\u001b[0m\n\u001b[1;32m    220\u001b[0m         \"\"\"\n\u001b[0;32m--> 221\u001b[0;31m         \u001b[0;32mreturn\u001b[0m \u001b[0mself\u001b[0m\u001b[0;34m.\u001b[0m\u001b[0mget_patch_transform\u001b[0m\u001b[0;34m(\u001b[0m\u001b[0;34m)\u001b[0m \u001b[0;34m+\u001b[0m \u001b[0martist\u001b[0m\u001b[0;34m.\u001b[0m\u001b[0mArtist\u001b[0m\u001b[0;34m.\u001b[0m\u001b[0mget_transform\u001b[0m\u001b[0;34m(\u001b[0m\u001b[0mself\u001b[0m\u001b[0;34m)\u001b[0m\u001b[0;34m\u001b[0m\u001b[0m\n\u001b[0m\u001b[1;32m    222\u001b[0m \u001b[0;34m\u001b[0m\u001b[0m\n\u001b[1;32m    223\u001b[0m     \u001b[0;32mdef\u001b[0m \u001b[0mget_data_transform\u001b[0m\u001b[0;34m(\u001b[0m\u001b[0mself\u001b[0m\u001b[0;34m)\u001b[0m\u001b[0;34m:\u001b[0m\u001b[0;34m\u001b[0m\u001b[0m\n",
      "\u001b[0;32m/Users/Isabella/anaconda2/lib/python2.7/site-packages/matplotlib/patches.pyc\u001b[0m in \u001b[0;36mget_patch_transform\u001b[0;34m(self)\u001b[0m\n\u001b[1;32m    720\u001b[0m \u001b[0;34m\u001b[0m\u001b[0m\n\u001b[1;32m    721\u001b[0m     \u001b[0;32mdef\u001b[0m \u001b[0mget_patch_transform\u001b[0m\u001b[0;34m(\u001b[0m\u001b[0mself\u001b[0m\u001b[0;34m)\u001b[0m\u001b[0;34m:\u001b[0m\u001b[0;34m\u001b[0m\u001b[0m\n\u001b[0;32m--> 722\u001b[0;31m         \u001b[0mself\u001b[0m\u001b[0;34m.\u001b[0m\u001b[0m_update_patch_transform\u001b[0m\u001b[0;34m(\u001b[0m\u001b[0;34m)\u001b[0m\u001b[0;34m\u001b[0m\u001b[0m\n\u001b[0m\u001b[1;32m    723\u001b[0m         \u001b[0;32mreturn\u001b[0m \u001b[0mself\u001b[0m\u001b[0;34m.\u001b[0m\u001b[0m_rect_transform\u001b[0m\u001b[0;34m\u001b[0m\u001b[0m\n\u001b[1;32m    724\u001b[0m \u001b[0;34m\u001b[0m\u001b[0m\n",
      "\u001b[0;32m/Users/Isabella/anaconda2/lib/python2.7/site-packages/matplotlib/patches.pyc\u001b[0m in \u001b[0;36m_update_patch_transform\u001b[0;34m(self)\u001b[0m\n\u001b[1;32m    716\u001b[0m         \u001b[0mrot_trans\u001b[0m \u001b[0;34m=\u001b[0m \u001b[0mtransforms\u001b[0m\u001b[0;34m.\u001b[0m\u001b[0mAffine2D\u001b[0m\u001b[0;34m(\u001b[0m\u001b[0;34m)\u001b[0m\u001b[0;34m\u001b[0m\u001b[0m\n\u001b[1;32m    717\u001b[0m         \u001b[0mrot_trans\u001b[0m\u001b[0;34m.\u001b[0m\u001b[0mrotate_deg_around\u001b[0m\u001b[0;34m(\u001b[0m\u001b[0mx\u001b[0m\u001b[0;34m,\u001b[0m \u001b[0my\u001b[0m\u001b[0;34m,\u001b[0m \u001b[0mself\u001b[0m\u001b[0;34m.\u001b[0m\u001b[0mangle\u001b[0m\u001b[0;34m)\u001b[0m\u001b[0;34m\u001b[0m\u001b[0m\n\u001b[0;32m--> 718\u001b[0;31m         \u001b[0mself\u001b[0m\u001b[0;34m.\u001b[0m\u001b[0m_rect_transform\u001b[0m \u001b[0;34m=\u001b[0m \u001b[0mtransforms\u001b[0m\u001b[0;34m.\u001b[0m\u001b[0mBboxTransformTo\u001b[0m\u001b[0;34m(\u001b[0m\u001b[0mbbox\u001b[0m\u001b[0;34m)\u001b[0m\u001b[0;34m\u001b[0m\u001b[0m\n\u001b[0m\u001b[1;32m    719\u001b[0m         \u001b[0mself\u001b[0m\u001b[0;34m.\u001b[0m\u001b[0m_rect_transform\u001b[0m \u001b[0;34m+=\u001b[0m \u001b[0mrot_trans\u001b[0m\u001b[0;34m\u001b[0m\u001b[0m\n\u001b[1;32m    720\u001b[0m \u001b[0;34m\u001b[0m\u001b[0m\n",
      "\u001b[0;32m/Users/Isabella/anaconda2/lib/python2.7/site-packages/matplotlib/transforms.pyc\u001b[0m in \u001b[0;36m__init__\u001b[0;34m(self, boxout, **kwargs)\u001b[0m\n\u001b[1;32m   2637\u001b[0m             \u001b[0;32mraise\u001b[0m \u001b[0mValueError\u001b[0m\u001b[0;34m(\u001b[0m\u001b[0;34m\"'boxout' must be bbox\"\u001b[0m\u001b[0;34m)\u001b[0m\u001b[0;34m\u001b[0m\u001b[0m\n\u001b[1;32m   2638\u001b[0m \u001b[0;34m\u001b[0m\u001b[0m\n\u001b[0;32m-> 2639\u001b[0;31m         \u001b[0mAffine2DBase\u001b[0m\u001b[0;34m.\u001b[0m\u001b[0m__init__\u001b[0m\u001b[0;34m(\u001b[0m\u001b[0mself\u001b[0m\u001b[0;34m,\u001b[0m \u001b[0;34m**\u001b[0m\u001b[0mkwargs\u001b[0m\u001b[0;34m)\u001b[0m\u001b[0;34m\u001b[0m\u001b[0m\n\u001b[0m\u001b[1;32m   2640\u001b[0m         \u001b[0mself\u001b[0m\u001b[0;34m.\u001b[0m\u001b[0m_boxout\u001b[0m \u001b[0;34m=\u001b[0m \u001b[0mboxout\u001b[0m\u001b[0;34m\u001b[0m\u001b[0m\n\u001b[1;32m   2641\u001b[0m         \u001b[0mself\u001b[0m\u001b[0;34m.\u001b[0m\u001b[0mset_children\u001b[0m\u001b[0;34m(\u001b[0m\u001b[0mboxout\u001b[0m\u001b[0;34m)\u001b[0m\u001b[0;34m\u001b[0m\u001b[0m\n",
      "\u001b[0;32m/Users/Isabella/anaconda2/lib/python2.7/site-packages/matplotlib/transforms.pyc\u001b[0m in \u001b[0;36m__init__\u001b[0;34m(self, *args, **kwargs)\u001b[0m\n\u001b[1;32m   1752\u001b[0m \u001b[0;34m\u001b[0m\u001b[0m\n\u001b[1;32m   1753\u001b[0m     \u001b[0;32mdef\u001b[0m \u001b[0m__init__\u001b[0m\u001b[0;34m(\u001b[0m\u001b[0mself\u001b[0m\u001b[0;34m,\u001b[0m \u001b[0;34m*\u001b[0m\u001b[0margs\u001b[0m\u001b[0;34m,\u001b[0m \u001b[0;34m**\u001b[0m\u001b[0mkwargs\u001b[0m\u001b[0;34m)\u001b[0m\u001b[0;34m:\u001b[0m\u001b[0;34m\u001b[0m\u001b[0m\n\u001b[0;32m-> 1754\u001b[0;31m         \u001b[0mTransform\u001b[0m\u001b[0;34m.\u001b[0m\u001b[0m__init__\u001b[0m\u001b[0;34m(\u001b[0m\u001b[0mself\u001b[0m\u001b[0;34m,\u001b[0m \u001b[0;34m*\u001b[0m\u001b[0margs\u001b[0m\u001b[0;34m,\u001b[0m \u001b[0;34m**\u001b[0m\u001b[0mkwargs\u001b[0m\u001b[0;34m)\u001b[0m\u001b[0;34m\u001b[0m\u001b[0m\n\u001b[0m\u001b[1;32m   1755\u001b[0m         \u001b[0mself\u001b[0m\u001b[0;34m.\u001b[0m\u001b[0m_inverted\u001b[0m \u001b[0;34m=\u001b[0m \u001b[0mNone\u001b[0m\u001b[0;34m\u001b[0m\u001b[0m\n\u001b[1;32m   1756\u001b[0m \u001b[0;34m\u001b[0m\u001b[0m\n",
      "\u001b[0;32m/Users/Isabella/anaconda2/lib/python2.7/site-packages/matplotlib/transforms.pyc\u001b[0m in \u001b[0;36m__init__\u001b[0;34m(self, shorthand_name)\u001b[0m\n\u001b[1;32m     90\u001b[0m                              \u001b[0;34m`\u001b[0m\u001b[0;34m`\u001b[0m\u001b[0mstr\u001b[0m\u001b[0;34m(\u001b[0m\u001b[0mtransform\u001b[0m\u001b[0;34m)\u001b[0m\u001b[0;34m`\u001b[0m\u001b[0;34m`\u001b[0m \u001b[0mwhen\u001b[0m \u001b[0mDEBUG\u001b[0m\u001b[0;34m=\u001b[0m\u001b[0mTrue\u001b[0m\u001b[0;34m.\u001b[0m\u001b[0;34m\u001b[0m\u001b[0m\n\u001b[1;32m     91\u001b[0m         \"\"\"\n\u001b[0;32m---> 92\u001b[0;31m         \u001b[0mself\u001b[0m\u001b[0;34m.\u001b[0m\u001b[0m_parents\u001b[0m \u001b[0;34m=\u001b[0m \u001b[0;34m{\u001b[0m\u001b[0;34m}\u001b[0m\u001b[0;34m\u001b[0m\u001b[0m\n\u001b[0m\u001b[1;32m     93\u001b[0m \u001b[0;34m\u001b[0m\u001b[0m\n\u001b[1;32m     94\u001b[0m         \u001b[0;31m# TransformNodes start out as invalid until their values are\u001b[0m\u001b[0;34m\u001b[0m\u001b[0;34m\u001b[0m\u001b[0m\n",
      "\u001b[0;31mKeyboardInterrupt\u001b[0m: "
     ]
    },
    {
     "data": {
      "image/png": "[encoded data removed]",
      "text/plain": [
       "<matplotlib.figure.Figure at 0x1c278a2510>"
      ]
     },
     "metadata": {},
     "output_type": "display_data"
    }
   ],
   "source": [
    "table=pd.crosstab(LR1.Salary_Payment_Ratio,LR1.Loan_Default)\n",
    "table.div(table.sum(1).astype(float), axis=0).plot(kind='bar', stacked=True)\n",
    "plt.title('Stacked Bar Chart of Salary_Payment_Ratio vs Default')\n",
    "plt.xlabel('Salary_Payment_Ratio')\n",
    "plt.ylabel('Proportion of Salary_Payment_Ratio')\n",
    "plt.savefig('Salary_Payment_Ratio_vs_default_stack')"
   ]
  },
  {
   "cell_type": "code",
   "execution_count": 713,
   "metadata": {},
   "outputs": [
    {
     "data": {
      "image/png": "[encoded data removed]",
      "text/plain": [
       "<matplotlib.figure.Figure at 0x1c26c67150>"
      ]
     },
     "metadata": {},
     "output_type": "display_data"
    }
   ],
   "source": [
    "table=pd.crosstab(LR1.CO_APP_Default_Status,LR1.Loan_Default)\n",
    "table.div(table.sum(1).astype(float), axis=0).plot(kind='bar', stacked=True)\n",
    "plt.title('Stacked Bar Chart of CO_APP_Default_Status vs Default')\n",
    "plt.xlabel('CO_APP_Default_Status')\n",
    "plt.ylabel('Proportion of Loans')\n",
    "plt.savefig('CO_APP_Default_Status_vs_default_stack')"
   ]
  },
  {
   "cell_type": "code",
   "execution_count": 714,
   "metadata": {},
   "outputs": [
    {
     "data": {
      "image/png": "[encoded data removed]",
      "text/plain": [
       "<matplotlib.figure.Figure at 0x1c26b63250>"
      ]
     },
     "metadata": {},
     "output_type": "display_data"
    }
   ],
   "source": [
    "table=pd.crosstab(LR1.New_Car_Loan,LR1.Loan_Default)\n",
    "table.div(table.sum(1).astype(float), axis=0).plot(kind='bar', stacked=True)\n",
    "plt.title('Stacked Bar Chart of New_Car_Loan vs Default')\n",
    "plt.xlabel('New_Car_Loan')\n",
    "plt.ylabel('Proportion of Loans')\n",
    "plt.savefig('New_Car_Loan_vs_default_stack')"
   ]
  },
  {
   "cell_type": "code",
   "execution_count": 715,
   "metadata": {},
   "outputs": [
    {
     "data": {
      "text/plain": [
       "array([ 0.18   ,  0.3599 ,  0.36   ,  0.21   ,  0.25   ,  0.359  ,\n",
       "        0.3589 ,  0.3598 ,  0.3596 ,  0.3597 ,  0.17999,  0.1799 ])"
      ]
     },
     "execution_count": 715,
     "metadata": {},
     "output_type": "execute_result"
    }
   ],
   "source": [
    "LR1.Interest.unique()"
   ]
  },
  {
   "cell_type": "code",
   "execution_count": 716,
   "metadata": {},
   "outputs": [
    {
     "data": {
      "text/plain": [
       "0.18"
      ]
     },
     "execution_count": 716,
     "metadata": {},
     "output_type": "execute_result"
    }
   ],
   "source": [
    "import math\n",
    "math.ceil(0.1799*100)/100"
   ]
  },
  {
   "cell_type": "code",
   "execution_count": 717,
   "metadata": {},
   "outputs": [
    {
     "data": {
      "text/plain": [
       "numpy.float64"
      ]
     },
     "execution_count": 717,
     "metadata": {},
     "output_type": "execute_result"
    }
   ],
   "source": [
    "type(LR1.Interest[1])"
   ]
  },
  {
   "cell_type": "code",
   "execution_count": 718,
   "metadata": {},
   "outputs": [
    {
     "data": {
      "text/plain": [
       "[0.18, 0.18, 0.18, 0.18, 0.18]"
      ]
     },
     "execution_count": 718,
     "metadata": {},
     "output_type": "execute_result"
    }
   ],
   "source": [
    "temp = []\n",
    "n = len(LR1)\n",
    "for i in range(n):\n",
    "    temp.append(math.ceil(LR1.Interest[i]*100)/100)\n",
    "temp[0:5]"
   ]
  },
  {
   "cell_type": "code",
   "execution_count": 719,
   "metadata": {
    "collapsed": true
   },
   "outputs": [],
   "source": [
    "LR1['Interest_area'] = temp"
   ]
  },
  {
   "cell_type": "code",
   "execution_count": 720,
   "metadata": {},
   "outputs": [
    {
     "data": {
      "image/png": "[encoded data removed]",
      "text/plain": [
       "<matplotlib.figure.Figure at 0x12282cbd0>"
      ]
     },
     "metadata": {},
     "output_type": "display_data"
    }
   ],
   "source": [
    "table=pd.crosstab(LR1.Interest_area,LR1.Loan_Default)\n",
    "table.div(table.sum(1).astype(float), axis=0).plot(kind='bar', stacked=True)\n",
    "plt.title('Stacked Bar Chart of Interest_area vs Default')\n",
    "plt.xlabel('Interest_area')\n",
    "plt.ylabel('Proportion of Loans')\n",
    "plt.savefig('Interest_area_vs_default_stack')"
   ]
  },
  {
   "cell_type": "code",
   "execution_count": 721,
   "metadata": {},
   "outputs": [
    {
     "data": {
      "image/png": "[encoded data removed]",
      "text/plain": [
       "<matplotlib.figure.Figure at 0x1c26c65910>"
      ]
     },
     "metadata": {},
     "output_type": "display_data"
    }
   ],
   "source": [
    "LR1.Vehicle_Age.hist()\n",
    "plt.title('Histogram of Vehicle_Age')\n",
    "plt.xlabel('Vehicle_Age')\n",
    "plt.ylabel('Frequency')\n",
    "plt.savefig('hist_Vehicle_Age')"
   ]
  },
  {
   "cell_type": "code",
   "execution_count": 722,
   "metadata": {
    "collapsed": true
   },
   "outputs": [],
   "source": [
    "temp = []\n",
    "h = pd.to_numeric(LR1.Salary_Payment_Ratio, errors='coerce')\n",
    "# h[0:5]\n",
    "n = len(LR1)\n",
    "for i in range(n):\n",
    "    #try:\n",
    "    temp.append(round(h[i]))\n",
    "    #except TypeError:\n",
    "     #   temp.append('Unknown')\n",
    "#temp[0:5]\n",
    "# type(LR1.Salary_Payment_Ratio[1])\n",
    "# temp[0:5]\n",
    "LR1['Ratio_rounding'] = temp"
   ]
  },
  {
   "cell_type": "code",
   "execution_count": 723,
   "metadata": {},
   "outputs": [
    {
     "data": {
      "text/plain": [
       "15726.0"
      ]
     },
     "execution_count": 723,
     "metadata": {},
     "output_type": "execute_result"
    }
   ],
   "source": [
    "LR1.Ratio_rounding.max()"
   ]
  },
  {
   "cell_type": "code",
   "execution_count": 724,
   "metadata": {},
   "outputs": [
    {
     "data": {
      "text/html": [
       "<div>\n",
       "<style>\n",
       "    .dataframe thead tr:only-child th {\n",
       "        text-align: right;\n",
       "    }\n",
       "\n",
       "    .dataframe thead th {\n",
       "        text-align: left;\n",
       "    }\n",
       "\n",
       "    .dataframe tbody tr th {\n",
       "        vertical-align: top;\n",
       "    }\n",
       "</style>\n",
       "<table border=\"1\" class=\"dataframe\">\n",
       "  <thead>\n",
       "    <tr style=\"text-align: right;\">\n",
       "      <th></th>\n",
       "      <th>LoanID</th>\n",
       "      <th>Loan_Default</th>\n",
       "      <th>LoanAmount</th>\n",
       "      <th>LoanDate</th>\n",
       "      <th>Interest</th>\n",
       "      <th>Terms</th>\n",
       "      <th>IsInternalRefinance</th>\n",
       "      <th>IsExternalRefinance</th>\n",
       "      <th>Gender</th>\n",
       "      <th>State</th>\n",
       "      <th>...</th>\n",
       "      <th>MonthlySalary</th>\n",
       "      <th>Age</th>\n",
       "      <th>Age_Group</th>\n",
       "      <th>MonthlyPayment</th>\n",
       "      <th>Salary_Payment_Ratio</th>\n",
       "      <th>Month</th>\n",
       "      <th>CO_APP_Default_Status</th>\n",
       "      <th>New_Car_Loan</th>\n",
       "      <th>Interest_area</th>\n",
       "      <th>Ratio_rounding</th>\n",
       "    </tr>\n",
       "  </thead>\n",
       "  <tbody>\n",
       "    <tr>\n",
       "      <th>112</th>\n",
       "      <td>7052</td>\n",
       "      <td>0</td>\n",
       "      <td>2000.0</td>\n",
       "      <td>2016-01-19</td>\n",
       "      <td>0.36</td>\n",
       "      <td>12</td>\n",
       "      <td>True</td>\n",
       "      <td>False</td>\n",
       "      <td>F</td>\n",
       "      <td>OR</td>\n",
       "      <td>...</td>\n",
       "      <td>3159661.319435</td>\n",
       "      <td>59</td>\n",
       "      <td>50-59</td>\n",
       "      <td>200.924171</td>\n",
       "      <td>15725.640695988486</td>\n",
       "      <td>1</td>\n",
       "      <td>None</td>\n",
       "      <td>False</td>\n",
       "      <td>0.36</td>\n",
       "      <td>15726.0</td>\n",
       "    </tr>\n",
       "  </tbody>\n",
       "</table>\n",
       "<p>1 rows × 25 columns</p>\n",
       "</div>"
      ],
      "text/plain": [
       "     LoanID  Loan_Default  LoanAmount    LoanDate  Interest  Terms  \\\n",
       "112    7052             0      2000.0  2016-01-19      0.36     12   \n",
       "\n",
       "     IsInternalRefinance  IsExternalRefinance Gender State      ...        \\\n",
       "112                 True                False      F    OR      ...         \n",
       "\n",
       "      MonthlySalary  Age  Age_Group  MonthlyPayment Salary_Payment_Ratio  \\\n",
       "112  3159661.319435   59      50-59      200.924171   15725.640695988486   \n",
       "\n",
       "    Month  CO_APP_Default_Status New_Car_Loan  Interest_area Ratio_rounding  \n",
       "112     1                   None        False           0.36        15726.0  \n",
       "\n",
       "[1 rows x 25 columns]"
      ]
     },
     "execution_count": 724,
     "metadata": {},
     "output_type": "execute_result"
    }
   ],
   "source": [
    "LR1[LR1.Ratio_rounding == 15726.0 ]"
   ]
  },
  {
   "cell_type": "code",
   "execution_count": 725,
   "metadata": {},
   "outputs": [
    {
     "data": {
      "image/png": "[encoded data removed]",
      "text/plain": [
       "<matplotlib.figure.Figure at 0x1c283d8310>"
      ]
     },
     "metadata": {},
     "output_type": "display_data"
    }
   ],
   "source": [
    "table=pd.crosstab(LR1.Ratio_rounding,LR1.Loan_Default)\n",
    "table.div(table.sum(1).astype(float), axis=0).plot(kind='bar', stacked=True)\n",
    "plt.title('Stacked Bar Chart of Ratio_rounding vs Default')\n",
    "plt.xlabel('Ratio_rounding')\n",
    "plt.ylabel('Proportion of Loans')\n",
    "plt.savefig('Ratio_rounding_vs_default_stack')"
   ]
  },
  {
   "cell_type": "code",
   "execution_count": 726,
   "metadata": {},
   "outputs": [
    {
     "data": {
      "text/plain": [
       "15725.640695988486"
      ]
     },
     "execution_count": 726,
     "metadata": {},
     "output_type": "execute_result"
    }
   ],
   "source": [
    "h.max()"
   ]
  },
  {
   "cell_type": "code",
   "execution_count": 727,
   "metadata": {
    "collapsed": true
   },
   "outputs": [],
   "source": [
    "# set up ratio group\n",
    "bins = [0,5,10,15,20,h.max()]\n",
    "# bins = [0,10,20,h.max()]\n",
    "# first = '%d-29' %low\n",
    "# last = '60-%d' %up\n",
    "group_names = ['0-5', '5-10','10-15','15-20','>=20']\n",
    "# group_names = ['0-10','10-20','>=20']\n",
    "LR1['Ratio_Group'] = pd.cut(h, bins, labels=group_names)"
   ]
  },
  {
   "cell_type": "code",
   "execution_count": 728,
   "metadata": {},
   "outputs": [
    {
     "data": {
      "image/png": "[encoded data removed]",
      "text/plain": [
       "<matplotlib.figure.Figure at 0x1c28308f50>"
      ]
     },
     "metadata": {},
     "output_type": "display_data"
    }
   ],
   "source": [
    "table=pd.crosstab(LR1.Ratio_Group,LR1.Loan_Default)\n",
    "table.div(table.sum(1).astype(float), axis=0).plot(kind='bar', stacked=True)\n",
    "plt.title('Stacked Bar Chart of Ratio_Group vs Default')\n",
    "plt.xlabel('Ratio_Group')\n",
    "plt.ylabel('Proportion of Loans')\n",
    "plt.savefig('Ratio_Group_vs_default_stack')"
   ]
  },
  {
   "cell_type": "code",
   "execution_count": 729,
   "metadata": {
    "collapsed": true
   },
   "outputs": [],
   "source": [
    "# set up vehicle age group\n",
    "bins = [0,5,10,LR1.Vehicle_Age.max()]\n",
    "# bins = [0,10,20,h.max()]\n",
    "# first = '%d-29' %low\n",
    "# last = '60-%d' %up\n",
    "group_names = ['0-5', '5-10','>=10']\n",
    "# group_names = ['0-10','10-20','>=20']\n",
    "LR1['Vehicle_Age_Group'] = pd.cut(LR1['Vehicle_Age'], bins, labels=group_names)"
   ]
  },
  {
   "cell_type": "code",
   "execution_count": 730,
   "metadata": {},
   "outputs": [
    {
     "data": {
      "image/png": "[encoded data removed]",
      "text/plain": [
       "<matplotlib.figure.Figure at 0x1c27548310>"
      ]
     },
     "metadata": {},
     "output_type": "display_data"
    }
   ],
   "source": [
    "table=pd.crosstab(LR1.Vehicle_Age_Group,LR1.Loan_Default)\n",
    "table.div(table.sum(1).astype(float), axis=0).plot(kind='bar', stacked=True)\n",
    "plt.title('Stacked Bar Chart of Vehicle_Age_Group vs Default')\n",
    "plt.xlabel('Vehicle_Age_Group')\n",
    "plt.ylabel('Proportion of Loans')\n",
    "plt.savefig('Vehicle_Age_Group_vs_default_stack')"
   ]
  },
  {
   "cell_type": "code",
   "execution_count": 733,
   "metadata": {
    "collapsed": true
   },
   "outputs": [],
   "source": [
    "temp_df = LR1[LR1.Loan_Default == 1]"
   ]
  },
  {
   "cell_type": "code",
   "execution_count": 734,
   "metadata": {},
   "outputs": [
    {
     "data": {
      "text/plain": [
       "341"
      ]
     },
     "execution_count": 734,
     "metadata": {},
     "output_type": "execute_result"
    }
   ],
   "source": [
    "len(temp_df)"
   ]
  },
  {
   "cell_type": "code",
   "execution_count": 735,
   "metadata": {},
   "outputs": [
    {
     "data": {
      "text/plain": [
       "0.0893371757925072"
      ]
     },
     "execution_count": 735,
     "metadata": {},
     "output_type": "execute_result"
    }
   ],
   "source": [
    "thres = float(len(temp_df))/len(LR1)\n",
    "thres"
   ]
  },
  {
   "cell_type": "code",
   "execution_count": 736,
   "metadata": {},
   "outputs": [
    {
     "data": {
      "text/html": [
       "<div>\n",
       "<style>\n",
       "    .dataframe thead tr:only-child th {\n",
       "        text-align: right;\n",
       "    }\n",
       "\n",
       "    .dataframe thead th {\n",
       "        text-align: left;\n",
       "    }\n",
       "\n",
       "    .dataframe tbody tr th {\n",
       "        vertical-align: top;\n",
       "    }\n",
       "</style>\n",
       "<table border=\"1\" class=\"dataframe\">\n",
       "  <thead>\n",
       "    <tr style=\"text-align: right;\">\n",
       "      <th></th>\n",
       "      <th>State</th>\n",
       "      <th>DefaultCount</th>\n",
       "    </tr>\n",
       "  </thead>\n",
       "  <tbody>\n",
       "    <tr>\n",
       "      <th>0</th>\n",
       "      <td>AL</td>\n",
       "      <td>8</td>\n",
       "    </tr>\n",
       "    <tr>\n",
       "      <th>1</th>\n",
       "      <td>AZ</td>\n",
       "      <td>12</td>\n",
       "    </tr>\n",
       "    <tr>\n",
       "      <th>2</th>\n",
       "      <td>CA</td>\n",
       "      <td>44</td>\n",
       "    </tr>\n",
       "    <tr>\n",
       "      <th>3</th>\n",
       "      <td>CO</td>\n",
       "      <td>31</td>\n",
       "    </tr>\n",
       "    <tr>\n",
       "      <th>4</th>\n",
       "      <td>FL</td>\n",
       "      <td>28</td>\n",
       "    </tr>\n",
       "  </tbody>\n",
       "</table>\n",
       "</div>"
      ],
      "text/plain": [
       "  State  DefaultCount\n",
       "0    AL             8\n",
       "1    AZ            12\n",
       "2    CA            44\n",
       "3    CO            31\n",
       "4    FL            28"
      ]
     },
     "execution_count": 736,
     "metadata": {},
     "output_type": "execute_result"
    }
   ],
   "source": [
    "temp1 = temp_df.groupby('State').LoanID.count().to_frame().reset_index()\n",
    "temp1.columns = ['State','DefaultCount']\n",
    "temp1.head(5)"
   ]
  },
  {
   "cell_type": "code",
   "execution_count": 737,
   "metadata": {},
   "outputs": [
    {
     "data": {
      "text/plain": [
       "State\n",
       "MI    50\n",
       "CA    44\n",
       "CO    31\n",
       "FL    28\n",
       "OK    27\n",
       "IL    24\n",
       "Name: LoanID, dtype: int64"
      ]
     },
     "execution_count": 737,
     "metadata": {},
     "output_type": "execute_result"
    }
   ],
   "source": [
    "temp_df.groupby('State').LoanID.count().nlargest(6)"
   ]
  },
  {
   "cell_type": "code",
   "execution_count": 738,
   "metadata": {},
   "outputs": [
    {
     "data": {
      "text/html": [
       "<div>\n",
       "<style>\n",
       "    .dataframe thead tr:only-child th {\n",
       "        text-align: right;\n",
       "    }\n",
       "\n",
       "    .dataframe thead th {\n",
       "        text-align: left;\n",
       "    }\n",
       "\n",
       "    .dataframe tbody tr th {\n",
       "        vertical-align: top;\n",
       "    }\n",
       "</style>\n",
       "<table border=\"1\" class=\"dataframe\">\n",
       "  <thead>\n",
       "    <tr style=\"text-align: right;\">\n",
       "      <th></th>\n",
       "      <th>State</th>\n",
       "      <th>LoanCount</th>\n",
       "    </tr>\n",
       "  </thead>\n",
       "  <tbody>\n",
       "    <tr>\n",
       "      <th>0</th>\n",
       "      <td>AL</td>\n",
       "      <td>87</td>\n",
       "    </tr>\n",
       "    <tr>\n",
       "      <th>1</th>\n",
       "      <td>AR</td>\n",
       "      <td>1</td>\n",
       "    </tr>\n",
       "    <tr>\n",
       "      <th>2</th>\n",
       "      <td>AZ</td>\n",
       "      <td>68</td>\n",
       "    </tr>\n",
       "    <tr>\n",
       "      <th>3</th>\n",
       "      <td>CA</td>\n",
       "      <td>567</td>\n",
       "    </tr>\n",
       "    <tr>\n",
       "      <th>4</th>\n",
       "      <td>CO</td>\n",
       "      <td>355</td>\n",
       "    </tr>\n",
       "  </tbody>\n",
       "</table>\n",
       "</div>"
      ],
      "text/plain": [
       "  State  LoanCount\n",
       "0    AL         87\n",
       "1    AR          1\n",
       "2    AZ         68\n",
       "3    CA        567\n",
       "4    CO        355"
      ]
     },
     "execution_count": 738,
     "metadata": {},
     "output_type": "execute_result"
    }
   ],
   "source": [
    "temp2 = LR1.groupby('State').LoanID.count().to_frame().reset_index()\n",
    "temp2.columns = ['State', 'LoanCount']\n",
    "temp2.head(5)"
   ]
  },
  {
   "cell_type": "code",
   "execution_count": 739,
   "metadata": {},
   "outputs": [
    {
     "data": {
      "text/html": [
       "<div>\n",
       "<style>\n",
       "    .dataframe thead tr:only-child th {\n",
       "        text-align: right;\n",
       "    }\n",
       "\n",
       "    .dataframe thead th {\n",
       "        text-align: left;\n",
       "    }\n",
       "\n",
       "    .dataframe tbody tr th {\n",
       "        vertical-align: top;\n",
       "    }\n",
       "</style>\n",
       "<table border=\"1\" class=\"dataframe\">\n",
       "  <thead>\n",
       "    <tr style=\"text-align: right;\">\n",
       "      <th></th>\n",
       "      <th>State</th>\n",
       "      <th>LoanCount</th>\n",
       "      <th>DefaultCount</th>\n",
       "      <th>Default_rate</th>\n",
       "    </tr>\n",
       "  </thead>\n",
       "  <tbody>\n",
       "    <tr>\n",
       "      <th>0</th>\n",
       "      <td>AL</td>\n",
       "      <td>87</td>\n",
       "      <td>8.0</td>\n",
       "      <td>0.091954</td>\n",
       "    </tr>\n",
       "    <tr>\n",
       "      <th>1</th>\n",
       "      <td>AR</td>\n",
       "      <td>1</td>\n",
       "      <td>NaN</td>\n",
       "      <td>NaN</td>\n",
       "    </tr>\n",
       "    <tr>\n",
       "      <th>2</th>\n",
       "      <td>AZ</td>\n",
       "      <td>68</td>\n",
       "      <td>12.0</td>\n",
       "      <td>0.176471</td>\n",
       "    </tr>\n",
       "    <tr>\n",
       "      <th>3</th>\n",
       "      <td>CA</td>\n",
       "      <td>567</td>\n",
       "      <td>44.0</td>\n",
       "      <td>0.077601</td>\n",
       "    </tr>\n",
       "    <tr>\n",
       "      <th>4</th>\n",
       "      <td>CO</td>\n",
       "      <td>355</td>\n",
       "      <td>31.0</td>\n",
       "      <td>0.087324</td>\n",
       "    </tr>\n",
       "  </tbody>\n",
       "</table>\n",
       "</div>"
      ],
      "text/plain": [
       "  State  LoanCount  DefaultCount  Default_rate\n",
       "0    AL         87           8.0      0.091954\n",
       "1    AR          1           NaN           NaN\n",
       "2    AZ         68          12.0      0.176471\n",
       "3    CA        567          44.0      0.077601\n",
       "4    CO        355          31.0      0.087324"
      ]
     },
     "execution_count": 739,
     "metadata": {},
     "output_type": "execute_result"
    }
   ],
   "source": [
    "t = pd.merge(temp2,temp1,on = 'State', how = 'left')\n",
    "t['Default_rate'] = t['DefaultCount']/t['LoanCount']\n",
    "t.head(5)"
   ]
  },
  {
   "cell_type": "code",
   "execution_count": 740,
   "metadata": {},
   "outputs": [
    {
     "data": {
      "text/html": [
       "<div>\n",
       "<style>\n",
       "    .dataframe thead tr:only-child th {\n",
       "        text-align: right;\n",
       "    }\n",
       "\n",
       "    .dataframe thead th {\n",
       "        text-align: left;\n",
       "    }\n",
       "\n",
       "    .dataframe tbody tr th {\n",
       "        vertical-align: top;\n",
       "    }\n",
       "</style>\n",
       "<table border=\"1\" class=\"dataframe\">\n",
       "  <thead>\n",
       "    <tr style=\"text-align: right;\">\n",
       "      <th></th>\n",
       "      <th>State</th>\n",
       "      <th>LoanCount</th>\n",
       "      <th>DefaultCount</th>\n",
       "      <th>Default_rate</th>\n",
       "    </tr>\n",
       "  </thead>\n",
       "  <tbody>\n",
       "    <tr>\n",
       "      <th>0</th>\n",
       "      <td>AL</td>\n",
       "      <td>87</td>\n",
       "      <td>8.0</td>\n",
       "      <td>0.091954</td>\n",
       "    </tr>\n",
       "    <tr>\n",
       "      <th>1</th>\n",
       "      <td>AZ</td>\n",
       "      <td>68</td>\n",
       "      <td>12.0</td>\n",
       "      <td>0.176471</td>\n",
       "    </tr>\n",
       "    <tr>\n",
       "      <th>2</th>\n",
       "      <td>CA</td>\n",
       "      <td>567</td>\n",
       "      <td>44.0</td>\n",
       "      <td>0.077601</td>\n",
       "    </tr>\n",
       "    <tr>\n",
       "      <th>3</th>\n",
       "      <td>CO</td>\n",
       "      <td>355</td>\n",
       "      <td>31.0</td>\n",
       "      <td>0.087324</td>\n",
       "    </tr>\n",
       "    <tr>\n",
       "      <th>4</th>\n",
       "      <td>FL</td>\n",
       "      <td>381</td>\n",
       "      <td>28.0</td>\n",
       "      <td>0.073491</td>\n",
       "    </tr>\n",
       "  </tbody>\n",
       "</table>\n",
       "</div>"
      ],
      "text/plain": [
       "  State  LoanCount  DefaultCount  Default_rate\n",
       "0    AL         87           8.0      0.091954\n",
       "1    AZ         68          12.0      0.176471\n",
       "2    CA        567          44.0      0.077601\n",
       "3    CO        355          31.0      0.087324\n",
       "4    FL        381          28.0      0.073491"
      ]
     },
     "execution_count": 740,
     "metadata": {},
     "output_type": "execute_result"
    }
   ],
   "source": [
    "temp_t = t[t.LoanCount >= 5].reset_index(drop = True)\n",
    "temp_t.head(5)"
   ]
  },
  {
   "cell_type": "code",
   "execution_count": 741,
   "metadata": {},
   "outputs": [
    {
     "data": {
      "text/plain": [
       "'AZ'"
      ]
     },
     "execution_count": 741,
     "metadata": {},
     "output_type": "execute_result"
    }
   ],
   "source": [
    "risky_state = temp_t[temp_t.Default_rate >= thres].reset_index(drop = True).State.values\n",
    "risky_state[1]"
   ]
  },
  {
   "cell_type": "code",
   "execution_count": 742,
   "metadata": {
    "collapsed": true
   },
   "outputs": [],
   "source": [
    "temp = LR1['State'].isin(risky_state)\n",
    "LR1['Risky_Area'] = temp"
   ]
  },
  {
   "cell_type": "code",
   "execution_count": 743,
   "metadata": {},
   "outputs": [
    {
     "data": {
      "image/png": "[encoded data removed]",
      "text/plain": [
       "<matplotlib.figure.Figure at 0x1c278bb9d0>"
      ]
     },
     "metadata": {},
     "output_type": "display_data"
    }
   ],
   "source": [
    "table=pd.crosstab(LR1.Risky_Area,LR1.Loan_Default)\n",
    "table.div(table.sum(1).astype(float), axis=0).plot(kind='bar', stacked=True)\n",
    "plt.title('Stacked Bar Chart of Risky_Area vs Default')\n",
    "plt.xlabel('Risky_Area')\n",
    "plt.ylabel('Proportion of Loans')\n",
    "plt.savefig('Risky_Area_vs_default_stack')"
   ]
  },
  {
   "cell_type": "code",
   "execution_count": 744,
   "metadata": {},
   "outputs": [
    {
     "data": {
      "text/plain": [
       "0         dodge\n",
       "1     chevrolet\n",
       "2    mitsubishi\n",
       "3    mitsubishi\n",
       "4           kia\n",
       "Name: Make, dtype: object"
      ]
     },
     "execution_count": 744,
     "metadata": {},
     "output_type": "execute_result"
    }
   ],
   "source": [
    "LR1['Make'] = LR1.Make.str.lower()\n",
    "LR1.Make.head(5)"
   ]
  },
  {
   "cell_type": "code",
   "execution_count": 745,
   "metadata": {
    "collapsed": true
   },
   "outputs": [],
   "source": [
    "temp_df = LR1[LR1.Loan_Default == 1]"
   ]
  },
  {
   "cell_type": "code",
   "execution_count": 746,
   "metadata": {},
   "outputs": [
    {
     "data": {
      "text/html": [
       "<div>\n",
       "<style>\n",
       "    .dataframe thead tr:only-child th {\n",
       "        text-align: right;\n",
       "    }\n",
       "\n",
       "    .dataframe thead th {\n",
       "        text-align: left;\n",
       "    }\n",
       "\n",
       "    .dataframe tbody tr th {\n",
       "        vertical-align: top;\n",
       "    }\n",
       "</style>\n",
       "<table border=\"1\" class=\"dataframe\">\n",
       "  <thead>\n",
       "    <tr style=\"text-align: right;\">\n",
       "      <th></th>\n",
       "      <th>Make</th>\n",
       "      <th>DefaultCount</th>\n",
       "    </tr>\n",
       "  </thead>\n",
       "  <tbody>\n",
       "    <tr>\n",
       "      <th>0</th>\n",
       "      <td>acura</td>\n",
       "      <td>4</td>\n",
       "    </tr>\n",
       "    <tr>\n",
       "      <th>1</th>\n",
       "      <td>audi</td>\n",
       "      <td>2</td>\n",
       "    </tr>\n",
       "    <tr>\n",
       "      <th>2</th>\n",
       "      <td>bmw</td>\n",
       "      <td>7</td>\n",
       "    </tr>\n",
       "    <tr>\n",
       "      <th>3</th>\n",
       "      <td>buick</td>\n",
       "      <td>5</td>\n",
       "    </tr>\n",
       "    <tr>\n",
       "      <th>4</th>\n",
       "      <td>cadillac</td>\n",
       "      <td>7</td>\n",
       "    </tr>\n",
       "    <tr>\n",
       "      <th>5</th>\n",
       "      <td>chevrolet</td>\n",
       "      <td>59</td>\n",
       "    </tr>\n",
       "    <tr>\n",
       "      <th>6</th>\n",
       "      <td>chrysler</td>\n",
       "      <td>10</td>\n",
       "    </tr>\n",
       "    <tr>\n",
       "      <th>7</th>\n",
       "      <td>dodge</td>\n",
       "      <td>43</td>\n",
       "    </tr>\n",
       "    <tr>\n",
       "      <th>8</th>\n",
       "      <td>ford</td>\n",
       "      <td>45</td>\n",
       "    </tr>\n",
       "    <tr>\n",
       "      <th>9</th>\n",
       "      <td>gmc</td>\n",
       "      <td>16</td>\n",
       "    </tr>\n",
       "    <tr>\n",
       "      <th>10</th>\n",
       "      <td>honda</td>\n",
       "      <td>7</td>\n",
       "    </tr>\n",
       "    <tr>\n",
       "      <th>11</th>\n",
       "      <td>hyundai</td>\n",
       "      <td>10</td>\n",
       "    </tr>\n",
       "    <tr>\n",
       "      <th>12</th>\n",
       "      <td>jaguar</td>\n",
       "      <td>1</td>\n",
       "    </tr>\n",
       "    <tr>\n",
       "      <th>13</th>\n",
       "      <td>jeep</td>\n",
       "      <td>15</td>\n",
       "    </tr>\n",
       "    <tr>\n",
       "      <th>14</th>\n",
       "      <td>kia</td>\n",
       "      <td>10</td>\n",
       "    </tr>\n",
       "    <tr>\n",
       "      <th>15</th>\n",
       "      <td>land rover</td>\n",
       "      <td>4</td>\n",
       "    </tr>\n",
       "    <tr>\n",
       "      <th>16</th>\n",
       "      <td>lexus</td>\n",
       "      <td>3</td>\n",
       "    </tr>\n",
       "    <tr>\n",
       "      <th>17</th>\n",
       "      <td>lincoln</td>\n",
       "      <td>5</td>\n",
       "    </tr>\n",
       "    <tr>\n",
       "      <th>18</th>\n",
       "      <td>mazda</td>\n",
       "      <td>3</td>\n",
       "    </tr>\n",
       "    <tr>\n",
       "      <th>19</th>\n",
       "      <td>mazerati</td>\n",
       "      <td>1</td>\n",
       "    </tr>\n",
       "    <tr>\n",
       "      <th>20</th>\n",
       "      <td>mercedes-benz</td>\n",
       "      <td>10</td>\n",
       "    </tr>\n",
       "    <tr>\n",
       "      <th>21</th>\n",
       "      <td>mercury</td>\n",
       "      <td>2</td>\n",
       "    </tr>\n",
       "    <tr>\n",
       "      <th>22</th>\n",
       "      <td>mini</td>\n",
       "      <td>1</td>\n",
       "    </tr>\n",
       "    <tr>\n",
       "      <th>23</th>\n",
       "      <td>mitsubishi</td>\n",
       "      <td>1</td>\n",
       "    </tr>\n",
       "    <tr>\n",
       "      <th>24</th>\n",
       "      <td>nissan</td>\n",
       "      <td>20</td>\n",
       "    </tr>\n",
       "    <tr>\n",
       "      <th>25</th>\n",
       "      <td>pontiac</td>\n",
       "      <td>6</td>\n",
       "    </tr>\n",
       "    <tr>\n",
       "      <th>26</th>\n",
       "      <td>ram</td>\n",
       "      <td>2</td>\n",
       "    </tr>\n",
       "    <tr>\n",
       "      <th>27</th>\n",
       "      <td>saab</td>\n",
       "      <td>1</td>\n",
       "    </tr>\n",
       "    <tr>\n",
       "      <th>28</th>\n",
       "      <td>saturn</td>\n",
       "      <td>4</td>\n",
       "    </tr>\n",
       "    <tr>\n",
       "      <th>29</th>\n",
       "      <td>scion</td>\n",
       "      <td>4</td>\n",
       "    </tr>\n",
       "    <tr>\n",
       "      <th>30</th>\n",
       "      <td>subaru</td>\n",
       "      <td>2</td>\n",
       "    </tr>\n",
       "    <tr>\n",
       "      <th>31</th>\n",
       "      <td>suzuki</td>\n",
       "      <td>1</td>\n",
       "    </tr>\n",
       "    <tr>\n",
       "      <th>32</th>\n",
       "      <td>toyota</td>\n",
       "      <td>23</td>\n",
       "    </tr>\n",
       "    <tr>\n",
       "      <th>33</th>\n",
       "      <td>volkswagen</td>\n",
       "      <td>6</td>\n",
       "    </tr>\n",
       "    <tr>\n",
       "      <th>34</th>\n",
       "      <td>volvo</td>\n",
       "      <td>1</td>\n",
       "    </tr>\n",
       "  </tbody>\n",
       "</table>\n",
       "</div>"
      ],
      "text/plain": [
       "             Make  DefaultCount\n",
       "0           acura             4\n",
       "1            audi             2\n",
       "2             bmw             7\n",
       "3           buick             5\n",
       "4        cadillac             7\n",
       "5       chevrolet            59\n",
       "6        chrysler            10\n",
       "7           dodge            43\n",
       "8            ford            45\n",
       "9             gmc            16\n",
       "10          honda             7\n",
       "11        hyundai            10\n",
       "12         jaguar             1\n",
       "13           jeep            15\n",
       "14            kia            10\n",
       "15     land rover             4\n",
       "16          lexus             3\n",
       "17        lincoln             5\n",
       "18          mazda             3\n",
       "19       mazerati             1\n",
       "20  mercedes-benz            10\n",
       "21        mercury             2\n",
       "22           mini             1\n",
       "23     mitsubishi             1\n",
       "24         nissan            20\n",
       "25        pontiac             6\n",
       "26            ram             2\n",
       "27           saab             1\n",
       "28         saturn             4\n",
       "29          scion             4\n",
       "30         subaru             2\n",
       "31         suzuki             1\n",
       "32         toyota            23\n",
       "33     volkswagen             6\n",
       "34          volvo             1"
      ]
     },
     "execution_count": 746,
     "metadata": {},
     "output_type": "execute_result"
    }
   ],
   "source": [
    "temp1 = temp_df.groupby('Make').LoanID.count().to_frame().reset_index()\n",
    "temp1.columns = ['Make','DefaultCount']\n",
    "temp1"
   ]
  },
  {
   "cell_type": "code",
   "execution_count": 747,
   "metadata": {},
   "outputs": [
    {
     "data": {
      "text/html": [
       "<div>\n",
       "<style>\n",
       "    .dataframe thead tr:only-child th {\n",
       "        text-align: right;\n",
       "    }\n",
       "\n",
       "    .dataframe thead th {\n",
       "        text-align: left;\n",
       "    }\n",
       "\n",
       "    .dataframe tbody tr th {\n",
       "        vertical-align: top;\n",
       "    }\n",
       "</style>\n",
       "<table border=\"1\" class=\"dataframe\">\n",
       "  <thead>\n",
       "    <tr style=\"text-align: right;\">\n",
       "      <th></th>\n",
       "      <th>Make</th>\n",
       "      <th>LoanCount</th>\n",
       "    </tr>\n",
       "  </thead>\n",
       "  <tbody>\n",
       "    <tr>\n",
       "      <th>0</th>\n",
       "      <td>acura</td>\n",
       "      <td>34</td>\n",
       "    </tr>\n",
       "    <tr>\n",
       "      <th>1</th>\n",
       "      <td>aston martin</td>\n",
       "      <td>1</td>\n",
       "    </tr>\n",
       "    <tr>\n",
       "      <th>2</th>\n",
       "      <td>audi</td>\n",
       "      <td>27</td>\n",
       "    </tr>\n",
       "    <tr>\n",
       "      <th>3</th>\n",
       "      <td>bmw</td>\n",
       "      <td>77</td>\n",
       "    </tr>\n",
       "    <tr>\n",
       "      <th>4</th>\n",
       "      <td>buick</td>\n",
       "      <td>61</td>\n",
       "    </tr>\n",
       "    <tr>\n",
       "      <th>5</th>\n",
       "      <td>cadillac</td>\n",
       "      <td>71</td>\n",
       "    </tr>\n",
       "    <tr>\n",
       "      <th>6</th>\n",
       "      <td>chevrolet</td>\n",
       "      <td>637</td>\n",
       "    </tr>\n",
       "    <tr>\n",
       "      <th>7</th>\n",
       "      <td>chrysler</td>\n",
       "      <td>105</td>\n",
       "    </tr>\n",
       "    <tr>\n",
       "      <th>8</th>\n",
       "      <td>dodge</td>\n",
       "      <td>328</td>\n",
       "    </tr>\n",
       "    <tr>\n",
       "      <th>9</th>\n",
       "      <td>ferrari</td>\n",
       "      <td>1</td>\n",
       "    </tr>\n",
       "    <tr>\n",
       "      <th>10</th>\n",
       "      <td>fiat</td>\n",
       "      <td>4</td>\n",
       "    </tr>\n",
       "    <tr>\n",
       "      <th>11</th>\n",
       "      <td>ford</td>\n",
       "      <td>519</td>\n",
       "    </tr>\n",
       "    <tr>\n",
       "      <th>12</th>\n",
       "      <td>gmc</td>\n",
       "      <td>145</td>\n",
       "    </tr>\n",
       "    <tr>\n",
       "      <th>13</th>\n",
       "      <td>hond</td>\n",
       "      <td>1</td>\n",
       "    </tr>\n",
       "    <tr>\n",
       "      <th>14</th>\n",
       "      <td>honda</td>\n",
       "      <td>225</td>\n",
       "    </tr>\n",
       "    <tr>\n",
       "      <th>15</th>\n",
       "      <td>hummer</td>\n",
       "      <td>16</td>\n",
       "    </tr>\n",
       "    <tr>\n",
       "      <th>16</th>\n",
       "      <td>hyundai</td>\n",
       "      <td>109</td>\n",
       "    </tr>\n",
       "    <tr>\n",
       "      <th>17</th>\n",
       "      <td>infiniti</td>\n",
       "      <td>25</td>\n",
       "    </tr>\n",
       "    <tr>\n",
       "      <th>18</th>\n",
       "      <td>isuzu</td>\n",
       "      <td>3</td>\n",
       "    </tr>\n",
       "    <tr>\n",
       "      <th>19</th>\n",
       "      <td>jaguar</td>\n",
       "      <td>8</td>\n",
       "    </tr>\n",
       "    <tr>\n",
       "      <th>20</th>\n",
       "      <td>jeep</td>\n",
       "      <td>207</td>\n",
       "    </tr>\n",
       "    <tr>\n",
       "      <th>21</th>\n",
       "      <td>kia</td>\n",
       "      <td>112</td>\n",
       "    </tr>\n",
       "    <tr>\n",
       "      <th>22</th>\n",
       "      <td>land rover</td>\n",
       "      <td>12</td>\n",
       "    </tr>\n",
       "    <tr>\n",
       "      <th>23</th>\n",
       "      <td>lexus</td>\n",
       "      <td>44</td>\n",
       "    </tr>\n",
       "    <tr>\n",
       "      <th>24</th>\n",
       "      <td>lincoln</td>\n",
       "      <td>35</td>\n",
       "    </tr>\n",
       "    <tr>\n",
       "      <th>25</th>\n",
       "      <td>mazda</td>\n",
       "      <td>53</td>\n",
       "    </tr>\n",
       "    <tr>\n",
       "      <th>26</th>\n",
       "      <td>mazerati</td>\n",
       "      <td>2</td>\n",
       "    </tr>\n",
       "    <tr>\n",
       "      <th>27</th>\n",
       "      <td>mercedes-benz</td>\n",
       "      <td>86</td>\n",
       "    </tr>\n",
       "    <tr>\n",
       "      <th>28</th>\n",
       "      <td>mercury</td>\n",
       "      <td>30</td>\n",
       "    </tr>\n",
       "    <tr>\n",
       "      <th>29</th>\n",
       "      <td>mini</td>\n",
       "      <td>9</td>\n",
       "    </tr>\n",
       "    <tr>\n",
       "      <th>30</th>\n",
       "      <td>mitsubishi</td>\n",
       "      <td>21</td>\n",
       "    </tr>\n",
       "    <tr>\n",
       "      <th>31</th>\n",
       "      <td>nissan</td>\n",
       "      <td>248</td>\n",
       "    </tr>\n",
       "    <tr>\n",
       "      <th>32</th>\n",
       "      <td>oldsmobile</td>\n",
       "      <td>1</td>\n",
       "    </tr>\n",
       "    <tr>\n",
       "      <th>33</th>\n",
       "      <td>pontiac</td>\n",
       "      <td>56</td>\n",
       "    </tr>\n",
       "    <tr>\n",
       "      <th>34</th>\n",
       "      <td>porsche</td>\n",
       "      <td>6</td>\n",
       "    </tr>\n",
       "    <tr>\n",
       "      <th>35</th>\n",
       "      <td>ram</td>\n",
       "      <td>15</td>\n",
       "    </tr>\n",
       "    <tr>\n",
       "      <th>36</th>\n",
       "      <td>saab</td>\n",
       "      <td>4</td>\n",
       "    </tr>\n",
       "    <tr>\n",
       "      <th>37</th>\n",
       "      <td>saturn</td>\n",
       "      <td>25</td>\n",
       "    </tr>\n",
       "    <tr>\n",
       "      <th>38</th>\n",
       "      <td>scion</td>\n",
       "      <td>21</td>\n",
       "    </tr>\n",
       "    <tr>\n",
       "      <th>39</th>\n",
       "      <td>subaru</td>\n",
       "      <td>30</td>\n",
       "    </tr>\n",
       "    <tr>\n",
       "      <th>40</th>\n",
       "      <td>suzuki</td>\n",
       "      <td>5</td>\n",
       "    </tr>\n",
       "    <tr>\n",
       "      <th>41</th>\n",
       "      <td>tesla</td>\n",
       "      <td>2</td>\n",
       "    </tr>\n",
       "    <tr>\n",
       "      <th>42</th>\n",
       "      <td>toyota</td>\n",
       "      <td>321</td>\n",
       "    </tr>\n",
       "    <tr>\n",
       "      <th>43</th>\n",
       "      <td>volkswagen</td>\n",
       "      <td>56</td>\n",
       "    </tr>\n",
       "    <tr>\n",
       "      <th>44</th>\n",
       "      <td>volvo</td>\n",
       "      <td>19</td>\n",
       "    </tr>\n",
       "  </tbody>\n",
       "</table>\n",
       "</div>"
      ],
      "text/plain": [
       "             Make  LoanCount\n",
       "0           acura         34\n",
       "1    aston martin          1\n",
       "2            audi         27\n",
       "3             bmw         77\n",
       "4           buick         61\n",
       "5        cadillac         71\n",
       "6       chevrolet        637\n",
       "7        chrysler        105\n",
       "8           dodge        328\n",
       "9         ferrari          1\n",
       "10           fiat          4\n",
       "11           ford        519\n",
       "12            gmc        145\n",
       "13           hond          1\n",
       "14          honda        225\n",
       "15         hummer         16\n",
       "16        hyundai        109\n",
       "17       infiniti         25\n",
       "18          isuzu          3\n",
       "19         jaguar          8\n",
       "20           jeep        207\n",
       "21            kia        112\n",
       "22     land rover         12\n",
       "23          lexus         44\n",
       "24        lincoln         35\n",
       "25          mazda         53\n",
       "26       mazerati          2\n",
       "27  mercedes-benz         86\n",
       "28        mercury         30\n",
       "29           mini          9\n",
       "30     mitsubishi         21\n",
       "31         nissan        248\n",
       "32     oldsmobile          1\n",
       "33        pontiac         56\n",
       "34        porsche          6\n",
       "35            ram         15\n",
       "36           saab          4\n",
       "37         saturn         25\n",
       "38          scion         21\n",
       "39         subaru         30\n",
       "40         suzuki          5\n",
       "41          tesla          2\n",
       "42         toyota        321\n",
       "43     volkswagen         56\n",
       "44          volvo         19"
      ]
     },
     "execution_count": 747,
     "metadata": {},
     "output_type": "execute_result"
    }
   ],
   "source": [
    "temp2 = LR1.groupby('Make').LoanID.count().to_frame().reset_index()\n",
    "temp2.columns = ['Make','LoanCount']\n",
    "temp2"
   ]
  },
  {
   "cell_type": "code",
   "execution_count": 748,
   "metadata": {
    "collapsed": true
   },
   "outputs": [],
   "source": [
    "t = pd.merge(temp2,temp1,on = 'Make', how = 'left')\n",
    "t['Default_Rate'] = t['DefaultCount']/t['LoanCount']"
   ]
  },
  {
   "cell_type": "code",
   "execution_count": 749,
   "metadata": {},
   "outputs": [
    {
     "data": {
      "text/html": [
       "<div>\n",
       "<style>\n",
       "    .dataframe thead tr:only-child th {\n",
       "        text-align: right;\n",
       "    }\n",
       "\n",
       "    .dataframe thead th {\n",
       "        text-align: left;\n",
       "    }\n",
       "\n",
       "    .dataframe tbody tr th {\n",
       "        vertical-align: top;\n",
       "    }\n",
       "</style>\n",
       "<table border=\"1\" class=\"dataframe\">\n",
       "  <thead>\n",
       "    <tr style=\"text-align: right;\">\n",
       "      <th></th>\n",
       "      <th>Make</th>\n",
       "      <th>LoanCount</th>\n",
       "      <th>DefaultCount</th>\n",
       "      <th>Default_Rate</th>\n",
       "    </tr>\n",
       "  </thead>\n",
       "  <tbody>\n",
       "    <tr>\n",
       "      <th>0</th>\n",
       "      <td>acura</td>\n",
       "      <td>34</td>\n",
       "      <td>4.0</td>\n",
       "      <td>0.117647</td>\n",
       "    </tr>\n",
       "    <tr>\n",
       "      <th>1</th>\n",
       "      <td>audi</td>\n",
       "      <td>27</td>\n",
       "      <td>2.0</td>\n",
       "      <td>0.074074</td>\n",
       "    </tr>\n",
       "    <tr>\n",
       "      <th>2</th>\n",
       "      <td>bmw</td>\n",
       "      <td>77</td>\n",
       "      <td>7.0</td>\n",
       "      <td>0.090909</td>\n",
       "    </tr>\n",
       "    <tr>\n",
       "      <th>3</th>\n",
       "      <td>buick</td>\n",
       "      <td>61</td>\n",
       "      <td>5.0</td>\n",
       "      <td>0.081967</td>\n",
       "    </tr>\n",
       "    <tr>\n",
       "      <th>4</th>\n",
       "      <td>cadillac</td>\n",
       "      <td>71</td>\n",
       "      <td>7.0</td>\n",
       "      <td>0.098592</td>\n",
       "    </tr>\n",
       "    <tr>\n",
       "      <th>5</th>\n",
       "      <td>chevrolet</td>\n",
       "      <td>637</td>\n",
       "      <td>59.0</td>\n",
       "      <td>0.092622</td>\n",
       "    </tr>\n",
       "    <tr>\n",
       "      <th>6</th>\n",
       "      <td>chrysler</td>\n",
       "      <td>105</td>\n",
       "      <td>10.0</td>\n",
       "      <td>0.095238</td>\n",
       "    </tr>\n",
       "    <tr>\n",
       "      <th>7</th>\n",
       "      <td>dodge</td>\n",
       "      <td>328</td>\n",
       "      <td>43.0</td>\n",
       "      <td>0.131098</td>\n",
       "    </tr>\n",
       "    <tr>\n",
       "      <th>8</th>\n",
       "      <td>ford</td>\n",
       "      <td>519</td>\n",
       "      <td>45.0</td>\n",
       "      <td>0.086705</td>\n",
       "    </tr>\n",
       "    <tr>\n",
       "      <th>9</th>\n",
       "      <td>gmc</td>\n",
       "      <td>145</td>\n",
       "      <td>16.0</td>\n",
       "      <td>0.110345</td>\n",
       "    </tr>\n",
       "    <tr>\n",
       "      <th>10</th>\n",
       "      <td>honda</td>\n",
       "      <td>225</td>\n",
       "      <td>7.0</td>\n",
       "      <td>0.031111</td>\n",
       "    </tr>\n",
       "    <tr>\n",
       "      <th>11</th>\n",
       "      <td>hummer</td>\n",
       "      <td>16</td>\n",
       "      <td>NaN</td>\n",
       "      <td>NaN</td>\n",
       "    </tr>\n",
       "    <tr>\n",
       "      <th>12</th>\n",
       "      <td>hyundai</td>\n",
       "      <td>109</td>\n",
       "      <td>10.0</td>\n",
       "      <td>0.091743</td>\n",
       "    </tr>\n",
       "    <tr>\n",
       "      <th>13</th>\n",
       "      <td>infiniti</td>\n",
       "      <td>25</td>\n",
       "      <td>NaN</td>\n",
       "      <td>NaN</td>\n",
       "    </tr>\n",
       "    <tr>\n",
       "      <th>14</th>\n",
       "      <td>jeep</td>\n",
       "      <td>207</td>\n",
       "      <td>15.0</td>\n",
       "      <td>0.072464</td>\n",
       "    </tr>\n",
       "    <tr>\n",
       "      <th>15</th>\n",
       "      <td>kia</td>\n",
       "      <td>112</td>\n",
       "      <td>10.0</td>\n",
       "      <td>0.089286</td>\n",
       "    </tr>\n",
       "    <tr>\n",
       "      <th>16</th>\n",
       "      <td>land rover</td>\n",
       "      <td>12</td>\n",
       "      <td>4.0</td>\n",
       "      <td>0.333333</td>\n",
       "    </tr>\n",
       "    <tr>\n",
       "      <th>17</th>\n",
       "      <td>lexus</td>\n",
       "      <td>44</td>\n",
       "      <td>3.0</td>\n",
       "      <td>0.068182</td>\n",
       "    </tr>\n",
       "    <tr>\n",
       "      <th>18</th>\n",
       "      <td>lincoln</td>\n",
       "      <td>35</td>\n",
       "      <td>5.0</td>\n",
       "      <td>0.142857</td>\n",
       "    </tr>\n",
       "    <tr>\n",
       "      <th>19</th>\n",
       "      <td>mazda</td>\n",
       "      <td>53</td>\n",
       "      <td>3.0</td>\n",
       "      <td>0.056604</td>\n",
       "    </tr>\n",
       "    <tr>\n",
       "      <th>20</th>\n",
       "      <td>mercedes-benz</td>\n",
       "      <td>86</td>\n",
       "      <td>10.0</td>\n",
       "      <td>0.116279</td>\n",
       "    </tr>\n",
       "    <tr>\n",
       "      <th>21</th>\n",
       "      <td>mercury</td>\n",
       "      <td>30</td>\n",
       "      <td>2.0</td>\n",
       "      <td>0.066667</td>\n",
       "    </tr>\n",
       "    <tr>\n",
       "      <th>22</th>\n",
       "      <td>mitsubishi</td>\n",
       "      <td>21</td>\n",
       "      <td>1.0</td>\n",
       "      <td>0.047619</td>\n",
       "    </tr>\n",
       "    <tr>\n",
       "      <th>23</th>\n",
       "      <td>nissan</td>\n",
       "      <td>248</td>\n",
       "      <td>20.0</td>\n",
       "      <td>0.080645</td>\n",
       "    </tr>\n",
       "    <tr>\n",
       "      <th>24</th>\n",
       "      <td>pontiac</td>\n",
       "      <td>56</td>\n",
       "      <td>6.0</td>\n",
       "      <td>0.107143</td>\n",
       "    </tr>\n",
       "    <tr>\n",
       "      <th>25</th>\n",
       "      <td>ram</td>\n",
       "      <td>15</td>\n",
       "      <td>2.0</td>\n",
       "      <td>0.133333</td>\n",
       "    </tr>\n",
       "    <tr>\n",
       "      <th>26</th>\n",
       "      <td>saturn</td>\n",
       "      <td>25</td>\n",
       "      <td>4.0</td>\n",
       "      <td>0.160000</td>\n",
       "    </tr>\n",
       "    <tr>\n",
       "      <th>27</th>\n",
       "      <td>scion</td>\n",
       "      <td>21</td>\n",
       "      <td>4.0</td>\n",
       "      <td>0.190476</td>\n",
       "    </tr>\n",
       "    <tr>\n",
       "      <th>28</th>\n",
       "      <td>subaru</td>\n",
       "      <td>30</td>\n",
       "      <td>2.0</td>\n",
       "      <td>0.066667</td>\n",
       "    </tr>\n",
       "    <tr>\n",
       "      <th>29</th>\n",
       "      <td>toyota</td>\n",
       "      <td>321</td>\n",
       "      <td>23.0</td>\n",
       "      <td>0.071651</td>\n",
       "    </tr>\n",
       "    <tr>\n",
       "      <th>30</th>\n",
       "      <td>volkswagen</td>\n",
       "      <td>56</td>\n",
       "      <td>6.0</td>\n",
       "      <td>0.107143</td>\n",
       "    </tr>\n",
       "    <tr>\n",
       "      <th>31</th>\n",
       "      <td>volvo</td>\n",
       "      <td>19</td>\n",
       "      <td>1.0</td>\n",
       "      <td>0.052632</td>\n",
       "    </tr>\n",
       "  </tbody>\n",
       "</table>\n",
       "</div>"
      ],
      "text/plain": [
       "             Make  LoanCount  DefaultCount  Default_Rate\n",
       "0           acura         34           4.0      0.117647\n",
       "1            audi         27           2.0      0.074074\n",
       "2             bmw         77           7.0      0.090909\n",
       "3           buick         61           5.0      0.081967\n",
       "4        cadillac         71           7.0      0.098592\n",
       "5       chevrolet        637          59.0      0.092622\n",
       "6        chrysler        105          10.0      0.095238\n",
       "7           dodge        328          43.0      0.131098\n",
       "8            ford        519          45.0      0.086705\n",
       "9             gmc        145          16.0      0.110345\n",
       "10          honda        225           7.0      0.031111\n",
       "11         hummer         16           NaN           NaN\n",
       "12        hyundai        109          10.0      0.091743\n",
       "13       infiniti         25           NaN           NaN\n",
       "14           jeep        207          15.0      0.072464\n",
       "15            kia        112          10.0      0.089286\n",
       "16     land rover         12           4.0      0.333333\n",
       "17          lexus         44           3.0      0.068182\n",
       "18        lincoln         35           5.0      0.142857\n",
       "19          mazda         53           3.0      0.056604\n",
       "20  mercedes-benz         86          10.0      0.116279\n",
       "21        mercury         30           2.0      0.066667\n",
       "22     mitsubishi         21           1.0      0.047619\n",
       "23         nissan        248          20.0      0.080645\n",
       "24        pontiac         56           6.0      0.107143\n",
       "25            ram         15           2.0      0.133333\n",
       "26         saturn         25           4.0      0.160000\n",
       "27          scion         21           4.0      0.190476\n",
       "28         subaru         30           2.0      0.066667\n",
       "29         toyota        321          23.0      0.071651\n",
       "30     volkswagen         56           6.0      0.107143\n",
       "31          volvo         19           1.0      0.052632"
      ]
     },
     "execution_count": 749,
     "metadata": {},
     "output_type": "execute_result"
    }
   ],
   "source": [
    "temp_t = t[t.LoanCount>=10].reset_index(drop = True)\n",
    "temp_t"
   ]
  },
  {
   "cell_type": "code",
   "execution_count": 750,
   "metadata": {},
   "outputs": [
    {
     "data": {
      "text/html": [
       "<div>\n",
       "<style>\n",
       "    .dataframe thead tr:only-child th {\n",
       "        text-align: right;\n",
       "    }\n",
       "\n",
       "    .dataframe thead th {\n",
       "        text-align: left;\n",
       "    }\n",
       "\n",
       "    .dataframe tbody tr th {\n",
       "        vertical-align: top;\n",
       "    }\n",
       "</style>\n",
       "<table border=\"1\" class=\"dataframe\">\n",
       "  <thead>\n",
       "    <tr style=\"text-align: right;\">\n",
       "      <th></th>\n",
       "      <th>Make</th>\n",
       "      <th>LoanCount</th>\n",
       "      <th>DefaultCount</th>\n",
       "      <th>Default_Rate</th>\n",
       "    </tr>\n",
       "  </thead>\n",
       "  <tbody>\n",
       "    <tr>\n",
       "      <th>16</th>\n",
       "      <td>land rover</td>\n",
       "      <td>12</td>\n",
       "      <td>4.0</td>\n",
       "      <td>0.333333</td>\n",
       "    </tr>\n",
       "    <tr>\n",
       "      <th>27</th>\n",
       "      <td>scion</td>\n",
       "      <td>21</td>\n",
       "      <td>4.0</td>\n",
       "      <td>0.190476</td>\n",
       "    </tr>\n",
       "  </tbody>\n",
       "</table>\n",
       "</div>"
      ],
      "text/plain": [
       "          Make  LoanCount  DefaultCount  Default_Rate\n",
       "16  land rover         12           4.0      0.333333\n",
       "27       scion         21           4.0      0.190476"
      ]
     },
     "execution_count": 750,
     "metadata": {},
     "output_type": "execute_result"
    }
   ],
   "source": [
    "temp_t[temp_t.Default_Rate >= thres*2]"
   ]
  },
  {
   "cell_type": "code",
   "execution_count": 751,
   "metadata": {},
   "outputs": [
    {
     "data": {
      "text/plain": [
       "304     10\n",
       "878      9\n",
       "1025    16\n",
       "1587    10\n",
       "1729     9\n",
       "2056     5\n",
       "2057     5\n",
       "2081    10\n",
       "2265     8\n",
       "2696    27\n",
       "3482     8\n",
       "3596    12\n",
       "Name: Vehicle_Age, dtype: int64"
      ]
     },
     "execution_count": 751,
     "metadata": {},
     "output_type": "execute_result"
    }
   ],
   "source": [
    "LR1[LR1.Make == 'land rover'].Vehicle_Age"
   ]
  },
  {
   "cell_type": "code",
   "execution_count": 752,
   "metadata": {},
   "outputs": [
    {
     "data": {
      "text/plain": [
       "<matplotlib.collections.PathCollection at 0x1c2bcc0f10>"
      ]
     },
     "execution_count": 752,
     "metadata": {},
     "output_type": "execute_result"
    },
    {
     "data": {
      "image/png": "[encoded data removed]",
      "text/plain": [
       "<matplotlib.figure.Figure at 0x11f830950>"
      ]
     },
     "metadata": {},
     "output_type": "display_data"
    }
   ],
   "source": [
    "y = LR1[(LR1.LoanAmount<=20000.0) & (LR1.Vehicle_Age<=10)].LoanAmount\n",
    "x = LR1[(LR1.LoanAmount<=20000.0) & (LR1.Vehicle_Age<=10)].Vehicle_Age\n",
    "plt.scatter(x, y)\n"
   ]
  },
  {
   "cell_type": "code",
   "execution_count": 753,
   "metadata": {},
   "outputs": [
    {
     "data": {
      "text/plain": [
       "<matplotlib.collections.PathCollection at 0x1c2bea29d0>"
      ]
     },
     "execution_count": 753,
     "metadata": {},
     "output_type": "execute_result"
    },
    {
     "data": {
      "image/png": "[encoded data removed]",
      "text/plain": [
       "<matplotlib.figure.Figure at 0x1c283fe4d0>"
      ]
     },
     "metadata": {},
     "output_type": "display_data"
    }
   ],
   "source": [
    "y = LR1[(LR1.Ratio_rounding<=100.0) & (LR1.Vehicle_Age<=10)].Ratio_rounding\n",
    "x = LR1[(LR1.Ratio_rounding<=100.0) &(LR1.Vehicle_Age<=10)].Vehicle_Age\n",
    "plt.scatter(x, y)"
   ]
  },
  {
   "cell_type": "code",
   "execution_count": 754,
   "metadata": {
    "collapsed": true
   },
   "outputs": [],
   "source": [
    "# set up loanamout group\n",
    "bins = [0,3000,6000,LR1.LoanAmount.max()]\n",
    "# bins = [0,10,20,h.max()]\n",
    "# first = '%d-29' %low\n",
    "# last = '60-%d' %up\n",
    "group_names = ['0-3000', '3000-6000','>=6000']\n",
    "# group_names = ['0-10','10-20','>=20']\n",
    "LR1['LoanAmount_Group'] = pd.cut(LR1.LoanAmount, bins, labels=group_names)"
   ]
  },
  {
   "cell_type": "code",
   "execution_count": 755,
   "metadata": {},
   "outputs": [
    {
     "data": {
      "image/png": "[encoded data removed]",
      "text/plain": [
       "<matplotlib.figure.Figure at 0x1c2bcef810>"
      ]
     },
     "metadata": {},
     "output_type": "display_data"
    }
   ],
   "source": [
    "table=pd.crosstab(LR1.LoanAmount_Group,LR1.Loan_Default)\n",
    "table.div(table.sum(1).astype(float), axis=0).plot(kind='bar', stacked=True)\n",
    "plt.title('Stacked Bar Chart of LoanAmount_Group vs Default')\n",
    "plt.xlabel('LoanAmount_Group')\n",
    "plt.ylabel('Proportion of Loans')\n",
    "plt.savefig('LoanAmount_Group_vs_default_stack')"
   ]
  },
  {
   "cell_type": "code",
   "execution_count": 756,
   "metadata": {
    "scrolled": true
   },
   "outputs": [
    {
     "data": {
      "text/plain": [
       "<matplotlib.collections.PathCollection at 0x1c2bfc8a50>"
      ]
     },
     "execution_count": 756,
     "metadata": {},
     "output_type": "execute_result"
    },
    {
     "data": {
      "image/png": "[encoded data removed]",
      "text/plain": [
       "<matplotlib.figure.Figure at 0x1c2ae07150>"
      ]
     },
     "metadata": {},
     "output_type": "display_data"
    }
   ],
   "source": [
    "y = LR1.Ratio_Group\n",
    "x = LR1.Terms\n",
    "plt.scatter(x, y)"
   ]
  },
  {
   "cell_type": "code",
   "execution_count": 757,
   "metadata": {},
   "outputs": [
    {
     "data": {
      "text/html": [
       "<div>\n",
       "<style>\n",
       "    .dataframe thead tr:only-child th {\n",
       "        text-align: right;\n",
       "    }\n",
       "\n",
       "    .dataframe thead th {\n",
       "        text-align: left;\n",
       "    }\n",
       "\n",
       "    .dataframe tbody tr th {\n",
       "        vertical-align: top;\n",
       "    }\n",
       "</style>\n",
       "<table border=\"1\" class=\"dataframe\">\n",
       "  <thead>\n",
       "    <tr style=\"text-align: right;\">\n",
       "      <th></th>\n",
       "      <th>Salary_Payment_Ratio</th>\n",
       "      <th>Terms</th>\n",
       "    </tr>\n",
       "  </thead>\n",
       "  <tbody>\n",
       "    <tr>\n",
       "      <th>0</th>\n",
       "      <td>17.921653</td>\n",
       "      <td>24</td>\n",
       "    </tr>\n",
       "    <tr>\n",
       "      <th>2</th>\n",
       "      <td>6.142658</td>\n",
       "      <td>24</td>\n",
       "    </tr>\n",
       "  </tbody>\n",
       "</table>\n",
       "</div>"
      ],
      "text/plain": [
       "   Salary_Payment_Ratio  Terms\n",
       "0             17.921653     24\n",
       "2              6.142658     24"
      ]
     },
     "execution_count": 757,
     "metadata": {},
     "output_type": "execute_result"
    }
   ],
   "source": [
    "temp = pd.to_numeric(LR1.Salary_Payment_Ratio, errors='coerce').to_frame().join(LR1.Terms)\n",
    "temp.head(2)\n",
    "temp_temp = temp[pd.isnull(temp.Salary_Payment_Ratio)==False]\n",
    "temp_temp2 = temp_temp[temp_temp.Salary_Payment_Ratio<=5]\n",
    "temp_temp.head(2)"
   ]
  },
  {
   "cell_type": "code",
   "execution_count": 758,
   "metadata": {},
   "outputs": [
    {
     "data": {
      "text/plain": [
       "[<matplotlib.lines.Line2D at 0x1c2bcc3650>]"
      ]
     },
     "execution_count": 758,
     "metadata": {},
     "output_type": "execute_result"
    },
    {
     "data": {
      "image/png": "[encoded data removed]",
      "text/plain": [
       "<matplotlib.figure.Figure at 0x1c2b01fb90>"
      ]
     },
     "metadata": {},
     "output_type": "display_data"
    }
   ],
   "source": [
    "import matplotlib.pyplot as plt\n",
    "import numpy as np\n",
    "\n",
    "# sample data\n",
    "x = temp_temp2.Salary_Payment_Ratio\n",
    "y = temp_temp2.Terms\n",
    "\n",
    "\n",
    "# fit with np.polyfit\n",
    "m, b = np.polyfit(x, y, 1)\n",
    "\n",
    "plt.plot(x, y, '.')\n",
    "plt.plot(x, m*x + b, '-')"
   ]
  },
  {
   "cell_type": "code",
   "execution_count": 759,
   "metadata": {},
   "outputs": [
    {
     "data": {
      "image/png": "[encoded data removed]",
      "text/plain": [
       "<matplotlib.figure.Figure at 0x1c2c319550>"
      ]
     },
     "metadata": {},
     "output_type": "display_data"
    }
   ],
   "source": [
    "table=pd.crosstab(LR1.Ratio_Group,LR1.Terms)\n",
    "table.div(table.sum(1).astype(float), axis=0).plot(kind='bar', stacked=True)\n",
    "plt.title('Stacked Bar Chart of Ratio_Group vs Terms')\n",
    "plt.xlabel('Ratio_Group')\n",
    "plt.ylabel('Proportion of Terms')\n",
    "plt.savefig('Ratio_Group_vs_Terms_stack')"
   ]
  },
  {
   "cell_type": "code",
   "execution_count": 760,
   "metadata": {},
   "outputs": [
    {
     "data": {
      "image/png": "[encoded data removed]",
      "text/plain": [
       "<matplotlib.figure.Figure at 0x1c2b026450>"
      ]
     },
     "metadata": {},
     "output_type": "display_data"
    }
   ],
   "source": [
    "table=pd.crosstab(LR1.Terms,LR1.Ratio_Group)\n",
    "table.div(table.sum(1).astype(float), axis=0).plot(kind='bar', stacked=True)\n",
    "plt.title('Stacked Bar Chart of Terms vs Ratio Group')\n",
    "plt.xlabel('Terms')\n",
    "plt.ylabel('Proportion of Ratio_Group')\n",
    "plt.savefig('Terms_vs_Ratio_Group_stack')"
   ]
  },
  {
   "cell_type": "code",
   "execution_count": 761,
   "metadata": {},
   "outputs": [
    {
     "data": {
      "image/png": "[encoded data removed]",
      "text/plain": [
       "<matplotlib.figure.Figure at 0x1c2c274290>"
      ]
     },
     "metadata": {},
     "output_type": "display_data"
    }
   ],
   "source": [
    "table=pd.crosstab(LR1.Terms,LR1.Age_Group)\n",
    "table.div(table.sum(1).astype(float), axis=0).plot(kind='bar', stacked=True)\n",
    "plt.title('Stacked Bar Chart of Terms vs Age Group')\n",
    "plt.xlabel('Terms')\n",
    "plt.ylabel('Proportion of Age_Group')\n",
    "plt.savefig('Terms_vs_Age_Group_stack')"
   ]
  },
  {
   "cell_type": "code",
   "execution_count": 762,
   "metadata": {},
   "outputs": [
    {
     "data": {
      "image/png": "[encoded data removed]",
      "text/plain": [
       "<matplotlib.figure.Figure at 0x1c2c406a50>"
      ]
     },
     "metadata": {},
     "output_type": "display_data"
    }
   ],
   "source": [
    "table=pd.crosstab(LR1.Age_Group,LR1.Terms)\n",
    "table.div(table.sum(1).astype(float), axis=0).plot(kind='bar', stacked=True)\n",
    "plt.title('Stacked Bar Chart of Age_Group vs Terms')\n",
    "plt.xlabel('Age_Group')\n",
    "plt.ylabel('Proportion of Terms')\n",
    "plt.savefig('Age_Group_vs_Terms_stack')"
   ]
  },
  {
   "cell_type": "code",
   "execution_count": 763,
   "metadata": {},
   "outputs": [
    {
     "data": {
      "image/png": "[encoded data removed]",
      "text/plain": [
       "<matplotlib.figure.Figure at 0x1c2c634750>"
      ]
     },
     "metadata": {},
     "output_type": "display_data"
    }
   ],
   "source": [
    "table=pd.crosstab(LR1.Terms,LR1.Gender)\n",
    "table.div(table.sum(1).astype(float), axis=0).plot(kind='bar', stacked=True)\n",
    "plt.title('Stacked Bar Chart of Terms vs Gender')\n",
    "plt.xlabel('Terms')\n",
    "plt.ylabel('Proportion of Gender')\n",
    "plt.savefig('Terms_vs_Gender_stack')"
   ]
  },
  {
   "cell_type": "code",
   "execution_count": 764,
   "metadata": {},
   "outputs": [
    {
     "data": {
      "image/png": "[encoded data removed]",
      "text/plain": [
       "<matplotlib.figure.Figure at 0x1c2c55ae90>"
      ]
     },
     "metadata": {},
     "output_type": "display_data"
    }
   ],
   "source": [
    "table=pd.crosstab(LR1.Ratio_Group,LR1.LoanAmount_Group)\n",
    "table.div(table.sum(1).astype(float), axis=0).plot(kind='bar', stacked=True)\n",
    "plt.title('Stacked Bar Chart of Ratio_Group vs LoanAmount_Group')\n",
    "plt.xlabel('Ratio_Group')\n",
    "plt.ylabel('Proportion of LoanAmount_Group')\n",
    "plt.savefig('Ratio_Group_vs_LoanAmount_Group_stack')"
   ]
  },
  {
   "cell_type": "code",
   "execution_count": 765,
   "metadata": {
    "collapsed": true
   },
   "outputs": [],
   "source": [
    "LR1.to_csv('LR1.csv')"
   ]
  },
  {
   "cell_type": "code",
   "execution_count": 766,
   "metadata": {
    "collapsed": true
   },
   "outputs": [],
   "source": [
    "LR1['Season'] = pd.PeriodIndex(LR1.LoanDate, freq='Q')"
   ]
  },
  {
   "cell_type": "code",
   "execution_count": 767,
   "metadata": {},
   "outputs": [
    {
     "data": {
      "image/png": "[encoded data removed]",
      "text/plain": [
       "<matplotlib.figure.Figure at 0x1c2c666d10>"
      ]
     },
     "metadata": {},
     "output_type": "display_data"
    }
   ],
   "source": [
    "table=pd.crosstab(LR1.Season,LR1.Loan_Default)\n",
    "table.div(table.sum(1).astype(float), axis=0).plot(kind='bar', stacked=True)\n",
    "plt.title('Stacked Bar Chart of Season vs Default')\n",
    "plt.xlabel('Season')\n",
    "plt.ylabel('Proportion of Loan_Default')\n",
    "plt.savefig('Season_vs_default_stack')"
   ]
  },
  {
   "cell_type": "code",
   "execution_count": 768,
   "metadata": {},
   "outputs": [
    {
     "data": {
      "text/plain": [
       "Loan_Default\n",
       "0    28.888377\n",
       "1    26.639296\n",
       "Name: Terms, dtype: float64"
      ]
     },
     "execution_count": 768,
     "metadata": {},
     "output_type": "execute_result"
    }
   ],
   "source": [
    "LR1.groupby('Loan_Default').Terms.mean()"
   ]
  },
  {
   "cell_type": "code",
   "execution_count": 769,
   "metadata": {},
   "outputs": [
    {
     "data": {
      "text/html": [
       "<div>\n",
       "<style>\n",
       "    .dataframe thead tr:only-child th {\n",
       "        text-align: right;\n",
       "    }\n",
       "\n",
       "    .dataframe thead th {\n",
       "        text-align: left;\n",
       "    }\n",
       "\n",
       "    .dataframe tbody tr th {\n",
       "        vertical-align: top;\n",
       "    }\n",
       "</style>\n",
       "<table border=\"1\" class=\"dataframe\">\n",
       "  <thead>\n",
       "    <tr style=\"text-align: right;\">\n",
       "      <th></th>\n",
       "      <th>LoanID</th>\n",
       "      <th>LoanAmount</th>\n",
       "      <th>Interest</th>\n",
       "      <th>Terms</th>\n",
       "      <th>IsInternalRefinance</th>\n",
       "      <th>IsExternalRefinance</th>\n",
       "      <th>Mileage</th>\n",
       "      <th>Vehicle_Age</th>\n",
       "      <th>ClientID</th>\n",
       "      <th>Age</th>\n",
       "      <th>MonthlyPayment</th>\n",
       "      <th>Month</th>\n",
       "      <th>New_Car_Loan</th>\n",
       "      <th>Interest_area</th>\n",
       "      <th>Ratio_rounding</th>\n",
       "      <th>Risky_Area</th>\n",
       "    </tr>\n",
       "    <tr>\n",
       "      <th>Loan_Default</th>\n",
       "      <th></th>\n",
       "      <th></th>\n",
       "      <th></th>\n",
       "      <th></th>\n",
       "      <th></th>\n",
       "      <th></th>\n",
       "      <th></th>\n",
       "      <th></th>\n",
       "      <th></th>\n",
       "      <th></th>\n",
       "      <th></th>\n",
       "      <th></th>\n",
       "      <th></th>\n",
       "      <th></th>\n",
       "      <th></th>\n",
       "      <th></th>\n",
       "    </tr>\n",
       "  </thead>\n",
       "  <tbody>\n",
       "    <tr>\n",
       "      <th>0</th>\n",
       "      <td>9036.302359</td>\n",
       "      <td>4865.966715</td>\n",
       "      <td>0.293836</td>\n",
       "      <td>28.888377</td>\n",
       "      <td>0.193613</td>\n",
       "      <td>0.070196</td>\n",
       "      <td>106438.569620</td>\n",
       "      <td>7.983602</td>\n",
       "      <td>6290.706272</td>\n",
       "      <td>45.231013</td>\n",
       "      <td>239.724390</td>\n",
       "      <td>7.749137</td>\n",
       "      <td>0.010932</td>\n",
       "      <td>0.293872</td>\n",
       "      <td>20.316156</td>\n",
       "      <td>0.467779</td>\n",
       "    </tr>\n",
       "    <tr>\n",
       "      <th>1</th>\n",
       "      <td>8683.656891</td>\n",
       "      <td>5062.902698</td>\n",
       "      <td>0.297038</td>\n",
       "      <td>26.639296</td>\n",
       "      <td>0.143695</td>\n",
       "      <td>0.111437</td>\n",
       "      <td>120974.891496</td>\n",
       "      <td>8.941349</td>\n",
       "      <td>6199.404692</td>\n",
       "      <td>40.794721</td>\n",
       "      <td>261.969937</td>\n",
       "      <td>7.014663</td>\n",
       "      <td>0.005865</td>\n",
       "      <td>0.297067</td>\n",
       "      <td>12.882883</td>\n",
       "      <td>0.563050</td>\n",
       "    </tr>\n",
       "  </tbody>\n",
       "</table>\n",
       "</div>"
      ],
      "text/plain": [
       "                   LoanID   LoanAmount  Interest      Terms  \\\n",
       "Loan_Default                                                  \n",
       "0             9036.302359  4865.966715  0.293836  28.888377   \n",
       "1             8683.656891  5062.902698  0.297038  26.639296   \n",
       "\n",
       "              IsInternalRefinance  IsExternalRefinance        Mileage  \\\n",
       "Loan_Default                                                            \n",
       "0                        0.193613             0.070196  106438.569620   \n",
       "1                        0.143695             0.111437  120974.891496   \n",
       "\n",
       "              Vehicle_Age     ClientID        Age  MonthlyPayment     Month  \\\n",
       "Loan_Default                                                                  \n",
       "0                7.983602  6290.706272  45.231013      239.724390  7.749137   \n",
       "1                8.941349  6199.404692  40.794721      261.969937  7.014663   \n",
       "\n",
       "              New_Car_Loan  Interest_area  Ratio_rounding  Risky_Area  \n",
       "Loan_Default                                                           \n",
       "0                 0.010932       0.293872       20.316156    0.467779  \n",
       "1                 0.005865       0.297067       12.882883    0.563050  "
      ]
     },
     "execution_count": 769,
     "metadata": {},
     "output_type": "execute_result"
    }
   ],
   "source": [
    "LR1.groupby('Loan_Default').mean()"
   ]
  },
  {
   "cell_type": "code",
   "execution_count": 770,
   "metadata": {},
   "outputs": [
    {
     "data": {
      "text/plain": [
       "Month\n",
       "1      71\n",
       "2     118\n",
       "3     176\n",
       "4     278\n",
       "5     299\n",
       "6     345\n",
       "7     396\n",
       "8     472\n",
       "9     449\n",
       "10    450\n",
       "11    429\n",
       "12    334\n",
       "Name: LoanID, dtype: int64"
      ]
     },
     "execution_count": 770,
     "metadata": {},
     "output_type": "execute_result"
    }
   ],
   "source": [
    "LR1.groupby('Month').LoanID.count()"
   ]
  },
  {
   "cell_type": "code",
   "execution_count": 771,
   "metadata": {},
   "outputs": [
    {
     "data": {
      "text/plain": [
       "Series([], Name: LoanID, dtype: int64)"
      ]
     },
     "execution_count": 771,
     "metadata": {},
     "output_type": "execute_result"
    }
   ],
   "source": [
    "LR1[LR1.Loan_Default==2].groupby('Month').LoanID.count()"
   ]
  },
  {
   "cell_type": "code",
   "execution_count": 772,
   "metadata": {},
   "outputs": [
    {
     "data": {
      "text/plain": [
       "array(['M', 'F', ''], dtype=object)"
      ]
     },
     "execution_count": 772,
     "metadata": {},
     "output_type": "execute_result"
    }
   ],
   "source": [
    "LR1.Gender.unique()"
   ]
  },
  {
   "cell_type": "code",
   "execution_count": 773,
   "metadata": {
    "collapsed": true
   },
   "outputs": [],
   "source": [
    "temp = []\n",
    "n = len(LR1)\n",
    "for i in range(n):\n",
    "    if LR1.Gender[i] == '':\n",
    "        temp.append('U')\n",
    "    else:\n",
    "        temp.append(LR1.Gender[i])"
   ]
  },
  {
   "cell_type": "code",
   "execution_count": 774,
   "metadata": {
    "collapsed": true
   },
   "outputs": [],
   "source": [
    "LR1['Gender_Group'] = temp"
   ]
  },
  {
   "cell_type": "code",
   "execution_count": 775,
   "metadata": {},
   "outputs": [
    {
     "data": {
      "text/plain": [
       "pandas.core.series.Series"
      ]
     },
     "execution_count": 775,
     "metadata": {},
     "output_type": "execute_result"
    }
   ],
   "source": [
    "type(LR1.LoanDate)"
   ]
  },
  {
   "cell_type": "code",
   "execution_count": 776,
   "metadata": {},
   "outputs": [
    {
     "data": {
      "text/plain": [
       "'July'"
      ]
     },
     "execution_count": 776,
     "metadata": {},
     "output_type": "execute_result"
    }
   ],
   "source": [
    "pd.to_datetime(LR1.LoanDate[1],format = '%Y-%m-%d').strftime('%B')"
   ]
  },
  {
   "cell_type": "code",
   "execution_count": 777,
   "metadata": {
    "collapsed": true
   },
   "outputs": [],
   "source": [
    "temp = []\n",
    "n = len(LR1)\n",
    "for i in range(n):\n",
    "    temp.append(pd.to_datetime(LR1.LoanDate[i],format = '%Y-%m-%d').strftime('%B'))"
   ]
  },
  {
   "cell_type": "code",
   "execution_count": 778,
   "metadata": {
    "collapsed": true
   },
   "outputs": [],
   "source": [
    "LR1['Month_Group'] = temp"
   ]
  },
  {
   "cell_type": "code",
   "execution_count": 779,
   "metadata": {},
   "outputs": [
    {
     "data": {
      "text/plain": [
       "array(['40-49', '60-85', '30-39', '50-59', '18-29', ''], dtype=object)"
      ]
     },
     "execution_count": 779,
     "metadata": {},
     "output_type": "execute_result"
    }
   ],
   "source": [
    "LR1.Age_Group.unique()"
   ]
  },
  {
   "cell_type": "code",
   "execution_count": 5,
   "metadata": {},
   "outputs": [
    {
     "ename": "NameError",
     "evalue": "name 'LR1' is not defined",
     "output_type": "error",
     "traceback": [
      "\u001b[0;31m---------------------------------------------------------------------------\u001b[0m",
      "\u001b[0;31mNameError\u001b[0m                                 Traceback (most recent call last)",
      "\u001b[0;32m<ipython-input-5-99b95ff2cb14>\u001b[0m in \u001b[0;36m<module>\u001b[0;34m()\u001b[0m\n\u001b[1;32m      1\u001b[0m \u001b[0;31m# set up ratio group\u001b[0m\u001b[0;34m\u001b[0m\u001b[0;34m\u001b[0m\u001b[0m\n\u001b[0;32m----> 2\u001b[0;31m \u001b[0mbins\u001b[0m \u001b[0;34m=\u001b[0m \u001b[0;34m[\u001b[0m\u001b[0;36m0\u001b[0m\u001b[0;34m,\u001b[0m\u001b[0;36m30\u001b[0m\u001b[0;34m,\u001b[0m\u001b[0;36m40\u001b[0m\u001b[0;34m,\u001b[0m\u001b[0;36m50\u001b[0m\u001b[0;34m,\u001b[0m\u001b[0mLR1\u001b[0m\u001b[0;34m.\u001b[0m\u001b[0mAge\u001b[0m\u001b[0;34m.\u001b[0m\u001b[0mmax\u001b[0m\u001b[0;34m(\u001b[0m\u001b[0;34m)\u001b[0m\u001b[0;34m]\u001b[0m\u001b[0;34m\u001b[0m\u001b[0m\n\u001b[0m\u001b[1;32m      3\u001b[0m \u001b[0;31m# bins = [0,10,20,h.max()]\u001b[0m\u001b[0;34m\u001b[0m\u001b[0;34m\u001b[0m\u001b[0m\n\u001b[1;32m      4\u001b[0m \u001b[0;31m# first = '%d-29' %low\u001b[0m\u001b[0;34m\u001b[0m\u001b[0;34m\u001b[0m\u001b[0m\n\u001b[1;32m      5\u001b[0m \u001b[0;31m# last = '60-%d' %up\u001b[0m\u001b[0;34m\u001b[0m\u001b[0;34m\u001b[0m\u001b[0m\n",
      "\u001b[0;31mNameError\u001b[0m: name 'LR1' is not defined"
     ]
    }
   ],
   "source": [
    "# set up ratio group\n",
    "bins = [0,30,40,50,LR1.Age.max()]\n",
    "# bins = [0,10,20,h.max()]\n",
    "# first = '%d-29' %low\n",
    "# last = '60-%d' %up\n",
    "group_names = ['18-29', '30-39','40-49','50-85']\n",
    "# group_names = ['0-10','10-20','>=20']\n",
    "LR1['New_Age_Group'] = pd.cut(LR1.Age, bins, labels=group_names)"
   ]
  },
  {
   "cell_type": "code",
   "execution_count": 781,
   "metadata": {},
   "outputs": [
    {
     "data": {
      "image/png": "[encoded data removed]",
      "text/plain": [
       "<matplotlib.figure.Figure at 0x1c2c7bd6d0>"
      ]
     },
     "metadata": {},
     "output_type": "display_data"
    }
   ],
   "source": [
    "table=pd.crosstab(LR1.New_Age_Group,LR1.Loan_Default)\n",
    "table.div(table.sum(1).astype(float), axis=0).plot(kind='bar', stacked=True)\n",
    "plt.title('Stacked Bar Chart of New_Age_Group vs Default')\n",
    "plt.xlabel('New_Age_Group')\n",
    "plt.ylabel('Proportion of Loan_Default')\n",
    "plt.savefig('New_Age_Group_vs_default_stack')"
   ]
  },
  {
   "cell_type": "code",
   "execution_count": 782,
   "metadata": {},
   "outputs": [
    {
     "data": {
      "text/plain": [
       "[15-20, NaN, 5-10, 0-5, 10-15, >=20]\n",
       "Categories (5, object): [0-5 < 5-10 < 10-15 < 15-20 < >=20]"
      ]
     },
     "execution_count": 782,
     "metadata": {},
     "output_type": "execute_result"
    }
   ],
   "source": [
    "LR1.Ratio_Group.unique()"
   ]
  },
  {
   "cell_type": "code",
   "execution_count": 783,
   "metadata": {},
   "outputs": [
    {
     "data": {
      "text/plain": [
       "array([False,  True], dtype=bool)"
      ]
     },
     "execution_count": 783,
     "metadata": {},
     "output_type": "execute_result"
    }
   ],
   "source": [
    "LR1.Risky_Area.unique()"
   ]
  },
  {
   "cell_type": "code",
   "execution_count": 784,
   "metadata": {},
   "outputs": [
    {
     "data": {
      "text/plain": [
       "array(['None', '1', '0', 'Unknown_CoApplicationID'], dtype=object)"
      ]
     },
     "execution_count": 784,
     "metadata": {},
     "output_type": "execute_result"
    }
   ],
   "source": [
    "LR1.CO_APP_Default_Status.unique()"
   ]
  },
  {
   "cell_type": "code",
   "execution_count": 785,
   "metadata": {},
   "outputs": [
    {
     "data": {
      "text/plain": [
       "array(['None', '1', '0'], dtype=object)"
      ]
     },
     "execution_count": 785,
     "metadata": {},
     "output_type": "execute_result"
    }
   ],
   "source": [
    "LR1['CO_APP_Default_Status'] = LR1['CO_APP_Default_Status'].replace('Unknown_CoApplicationID', 'None')\n",
    "LR1.CO_APP_Default_Status.unique()"
   ]
  },
  {
   "cell_type": "code",
   "execution_count": 786,
   "metadata": {},
   "outputs": [
    {
     "data": {
      "image/png": "[encoded data removed]",
      "text/plain": [
       "<matplotlib.figure.Figure at 0x1c2c9ab510>"
      ]
     },
     "metadata": {},
     "output_type": "display_data"
    }
   ],
   "source": [
    "table=pd.crosstab(LR1.CO_APP_Default_Status,LR1.Loan_Default)\n",
    "table.div(table.sum(1).astype(float), axis=0).plot(kind='bar', stacked=True)\n",
    "plt.title('Stacked Bar Chart of CO_APP_Default_Status vs Default')\n",
    "plt.xlabel('CO_APP_Default_Status')\n",
    "plt.ylabel('Proportion of Loan_Default')\n",
    "plt.savefig('CO_APP_Default_Status_vs_default_stack')"
   ]
  },
  {
   "cell_type": "code",
   "execution_count": 787,
   "metadata": {},
   "outputs": [
    {
     "data": {
      "image/png": "[encoded data removed]",
      "text/plain": [
       "<matplotlib.figure.Figure at 0x1c2cb1f450>"
      ]
     },
     "metadata": {},
     "output_type": "display_data"
    }
   ],
   "source": [
    "table=pd.crosstab(LR1.Month_Group,LR1.Loan_Default)\n",
    "table.div(table.sum(1).astype(float), axis=0).plot(kind='bar', stacked=True)\n",
    "plt.title('Stacked Bar Chart of Month_Group vs Default')\n",
    "plt.xlabel('Month_Group')\n",
    "plt.ylabel('Proportion of Loan_Default')\n",
    "plt.savefig('Month_Group_vs_default_stack')"
   ]
  },
  {
   "cell_type": "code",
   "execution_count": 788,
   "metadata": {},
   "outputs": [
    {
     "data": {
      "image/png": "[encoded data removed]",
      "text/plain": [
       "<matplotlib.figure.Figure at 0x1c2c87c410>"
      ]
     },
     "metadata": {},
     "output_type": "display_data"
    }
   ],
   "source": [
    "table=pd.crosstab(LR1.Gender_Group,LR1.Loan_Default)\n",
    "table.div(table.sum(1).astype(float), axis=0).plot(kind='bar', stacked=True)\n",
    "plt.title('Stacked Bar Chart of Gender_Group vs Default')\n",
    "plt.xlabel('Gender_Group')\n",
    "plt.ylabel('Proportion of Loan_Default')\n",
    "plt.savefig('Gender_Group_vs_default_stack')"
   ]
  },
  {
   "cell_type": "code",
   "execution_count": 789,
   "metadata": {},
   "outputs": [
    {
     "data": {
      "image/png": "[encoded data removed]",
      "text/plain": [
       "<matplotlib.figure.Figure at 0x1c2ce8be50>"
      ]
     },
     "metadata": {},
     "output_type": "display_data"
    }
   ],
   "source": [
    "table=pd.crosstab(LR1.Risky_Area,LR1.Loan_Default)\n",
    "table.div(table.sum(1).astype(float), axis=0).plot(kind='bar', stacked=True)\n",
    "plt.title('Stacked Bar Chart of Risky_Area vs Default')\n",
    "plt.xlabel('Risky_Area')\n",
    "plt.ylabel('Proportion of Loan_Default')\n",
    "plt.savefig('Risky_Area_vs_default_stack')"
   ]
  },
  {
   "cell_type": "code",
   "execution_count": 790,
   "metadata": {},
   "outputs": [
    {
     "data": {
      "image/png": "[encoded data removed]",
      "text/plain": [
       "<matplotlib.figure.Figure at 0x1c2cf77390>"
      ]
     },
     "metadata": {},
     "output_type": "display_data"
    }
   ],
   "source": [
    "table=pd.crosstab(LR1.Ratio_Group,LR1.Loan_Default)\n",
    "table.div(table.sum(1).astype(float), axis=0).plot(kind='bar', stacked=True)\n",
    "plt.title('Stacked Bar Chart of Ratio_Group vs Default')\n",
    "plt.xlabel('Ratio_Group')\n",
    "plt.ylabel('Proportion of Loan_Default')\n",
    "plt.savefig('Ratio_Group_vs_default_stack')"
   ]
  },
  {
   "cell_type": "code",
   "execution_count": 791,
   "metadata": {},
   "outputs": [
    {
     "data": {
      "text/html": [
       "<div>\n",
       "<style>\n",
       "    .dataframe thead tr:only-child th {\n",
       "        text-align: right;\n",
       "    }\n",
       "\n",
       "    .dataframe thead th {\n",
       "        text-align: left;\n",
       "    }\n",
       "\n",
       "    .dataframe tbody tr th {\n",
       "        vertical-align: top;\n",
       "    }\n",
       "</style>\n",
       "<table border=\"1\" class=\"dataframe\">\n",
       "  <thead>\n",
       "    <tr style=\"text-align: right;\">\n",
       "      <th></th>\n",
       "      <th>LoanID</th>\n",
       "      <th>Loan_Default</th>\n",
       "      <th>LoanAmount</th>\n",
       "      <th>Interest</th>\n",
       "      <th>Terms</th>\n",
       "      <th>IsInternalRefinance</th>\n",
       "      <th>IsExternalRefinance</th>\n",
       "      <th>Mileage</th>\n",
       "      <th>Vehicle_Age</th>\n",
       "      <th>ClientID</th>\n",
       "      <th>Age</th>\n",
       "      <th>MonthlyPayment</th>\n",
       "      <th>Month</th>\n",
       "      <th>New_Car_Loan</th>\n",
       "      <th>Interest_area</th>\n",
       "      <th>Ratio_rounding</th>\n",
       "      <th>Risky_Area</th>\n",
       "    </tr>\n",
       "    <tr>\n",
       "      <th>Ratio_Group</th>\n",
       "      <th></th>\n",
       "      <th></th>\n",
       "      <th></th>\n",
       "      <th></th>\n",
       "      <th></th>\n",
       "      <th></th>\n",
       "      <th></th>\n",
       "      <th></th>\n",
       "      <th></th>\n",
       "      <th></th>\n",
       "      <th></th>\n",
       "      <th></th>\n",
       "      <th></th>\n",
       "      <th></th>\n",
       "      <th></th>\n",
       "      <th></th>\n",
       "      <th></th>\n",
       "    </tr>\n",
       "  </thead>\n",
       "  <tbody>\n",
       "    <tr>\n",
       "      <th>0-5</th>\n",
       "      <td>8974.269565</td>\n",
       "      <td>0.121739</td>\n",
       "      <td>7243.718630</td>\n",
       "      <td>0.299812</td>\n",
       "      <td>31.173913</td>\n",
       "      <td>0.258696</td>\n",
       "      <td>0.123913</td>\n",
       "      <td>91761.034783</td>\n",
       "      <td>6.821739</td>\n",
       "      <td>6247.860870</td>\n",
       "      <td>45.319565</td>\n",
       "      <td>348.184198</td>\n",
       "      <td>7.563043</td>\n",
       "      <td>0.019565</td>\n",
       "      <td>0.299848</td>\n",
       "      <td>3.893478</td>\n",
       "      <td>0.486957</td>\n",
       "    </tr>\n",
       "    <tr>\n",
       "      <th>5-10</th>\n",
       "      <td>8982.306338</td>\n",
       "      <td>0.100352</td>\n",
       "      <td>5512.582993</td>\n",
       "      <td>0.296908</td>\n",
       "      <td>29.492958</td>\n",
       "      <td>0.226232</td>\n",
       "      <td>0.093310</td>\n",
       "      <td>104361.956866</td>\n",
       "      <td>7.651408</td>\n",
       "      <td>6277.366197</td>\n",
       "      <td>45.281690</td>\n",
       "      <td>270.107278</td>\n",
       "      <td>7.591549</td>\n",
       "      <td>0.014085</td>\n",
       "      <td>0.296945</td>\n",
       "      <td>7.438380</td>\n",
       "      <td>0.460387</td>\n",
       "    </tr>\n",
       "    <tr>\n",
       "      <th>10-15</th>\n",
       "      <td>9025.570738</td>\n",
       "      <td>0.073761</td>\n",
       "      <td>4424.183773</td>\n",
       "      <td>0.293469</td>\n",
       "      <td>28.628779</td>\n",
       "      <td>0.192261</td>\n",
       "      <td>0.072551</td>\n",
       "      <td>110744.152358</td>\n",
       "      <td>8.198307</td>\n",
       "      <td>6282.067715</td>\n",
       "      <td>44.500605</td>\n",
       "      <td>219.063853</td>\n",
       "      <td>7.733978</td>\n",
       "      <td>0.007255</td>\n",
       "      <td>0.293507</td>\n",
       "      <td>12.203144</td>\n",
       "      <td>0.476421</td>\n",
       "    </tr>\n",
       "    <tr>\n",
       "      <th>15-20</th>\n",
       "      <td>9019.577083</td>\n",
       "      <td>0.093750</td>\n",
       "      <td>3817.812500</td>\n",
       "      <td>0.290902</td>\n",
       "      <td>27.025000</td>\n",
       "      <td>0.131250</td>\n",
       "      <td>0.043750</td>\n",
       "      <td>113436.204167</td>\n",
       "      <td>8.729167</td>\n",
       "      <td>6297.222917</td>\n",
       "      <td>44.143750</td>\n",
       "      <td>196.069548</td>\n",
       "      <td>7.768750</td>\n",
       "      <td>0.006250</td>\n",
       "      <td>0.290938</td>\n",
       "      <td>17.229167</td>\n",
       "      <td>0.456250</td>\n",
       "    </tr>\n",
       "    <tr>\n",
       "      <th>&gt;=20</th>\n",
       "      <td>8969.743338</td>\n",
       "      <td>0.077139</td>\n",
       "      <td>3584.238008</td>\n",
       "      <td>0.290332</td>\n",
       "      <td>26.844320</td>\n",
       "      <td>0.127630</td>\n",
       "      <td>0.037868</td>\n",
       "      <td>118159.388499</td>\n",
       "      <td>9.095372</td>\n",
       "      <td>6235.290323</td>\n",
       "      <td>44.604488</td>\n",
       "      <td>184.272212</td>\n",
       "      <td>7.661992</td>\n",
       "      <td>0.001403</td>\n",
       "      <td>0.290365</td>\n",
       "      <td>59.901823</td>\n",
       "      <td>0.486676</td>\n",
       "    </tr>\n",
       "  </tbody>\n",
       "</table>\n",
       "</div>"
      ],
      "text/plain": [
       "                  LoanID  Loan_Default   LoanAmount  Interest      Terms  \\\n",
       "Ratio_Group                                                                \n",
       "0-5          8974.269565      0.121739  7243.718630  0.299812  31.173913   \n",
       "5-10         8982.306338      0.100352  5512.582993  0.296908  29.492958   \n",
       "10-15        9025.570738      0.073761  4424.183773  0.293469  28.628779   \n",
       "15-20        9019.577083      0.093750  3817.812500  0.290902  27.025000   \n",
       ">=20         8969.743338      0.077139  3584.238008  0.290332  26.844320   \n",
       "\n",
       "             IsInternalRefinance  IsExternalRefinance        Mileage  \\\n",
       "Ratio_Group                                                            \n",
       "0-5                     0.258696             0.123913   91761.034783   \n",
       "5-10                    0.226232             0.093310  104361.956866   \n",
       "10-15                   0.192261             0.072551  110744.152358   \n",
       "15-20                   0.131250             0.043750  113436.204167   \n",
       ">=20                    0.127630             0.037868  118159.388499   \n",
       "\n",
       "             Vehicle_Age     ClientID        Age  MonthlyPayment     Month  \\\n",
       "Ratio_Group                                                                  \n",
       "0-5             6.821739  6247.860870  45.319565      348.184198  7.563043   \n",
       "5-10            7.651408  6277.366197  45.281690      270.107278  7.591549   \n",
       "10-15           8.198307  6282.067715  44.500605      219.063853  7.733978   \n",
       "15-20           8.729167  6297.222917  44.143750      196.069548  7.768750   \n",
       ">=20            9.095372  6235.290323  44.604488      184.272212  7.661992   \n",
       "\n",
       "             New_Car_Loan  Interest_area  Ratio_rounding  Risky_Area  \n",
       "Ratio_Group                                                           \n",
       "0-5              0.019565       0.299848        3.893478    0.486957  \n",
       "5-10             0.014085       0.296945        7.438380    0.460387  \n",
       "10-15            0.007255       0.293507       12.203144    0.476421  \n",
       "15-20            0.006250       0.290938       17.229167    0.456250  \n",
       ">=20             0.001403       0.290365       59.901823    0.486676  "
      ]
     },
     "execution_count": 791,
     "metadata": {},
     "output_type": "execute_result"
    }
   ],
   "source": [
    "LR1.groupby('Ratio_Group').mean()"
   ]
  },
  {
   "cell_type": "code",
   "execution_count": 792,
   "metadata": {},
   "outputs": [
    {
     "data": {
      "image/png": "[encoded data removed]",
      "text/plain": [
       "<matplotlib.figure.Figure at 0x1c2cf63850>"
      ]
     },
     "metadata": {},
     "output_type": "display_data"
    }
   ],
   "source": [
    "table=pd.crosstab(LR1.IsInternalRefinance,LR1.Loan_Default)\n",
    "table.div(table.sum(1).astype(float), axis=0).plot(kind='bar', stacked=True)\n",
    "plt.title('Stacked Bar Chart of IsInternalRefinance vs Default')\n",
    "plt.xlabel('IsInternalRefinance')\n",
    "plt.ylabel('Proportion of Loan_Default')\n",
    "plt.savefig('IsInternalRefinance_vs_default_stack')"
   ]
  },
  {
   "cell_type": "code",
   "execution_count": 793,
   "metadata": {},
   "outputs": [
    {
     "data": {
      "text/html": [
       "<div>\n",
       "<style>\n",
       "    .dataframe thead tr:only-child th {\n",
       "        text-align: right;\n",
       "    }\n",
       "\n",
       "    .dataframe thead th {\n",
       "        text-align: left;\n",
       "    }\n",
       "\n",
       "    .dataframe tbody tr th {\n",
       "        vertical-align: top;\n",
       "    }\n",
       "</style>\n",
       "<table border=\"1\" class=\"dataframe\">\n",
       "  <thead>\n",
       "    <tr style=\"text-align: right;\">\n",
       "      <th></th>\n",
       "      <th>LoanID</th>\n",
       "      <th>Loan_Default</th>\n",
       "      <th>LoanAmount</th>\n",
       "      <th>Interest</th>\n",
       "      <th>Terms</th>\n",
       "      <th>IsInternalRefinance</th>\n",
       "      <th>Mileage</th>\n",
       "      <th>Vehicle_Age</th>\n",
       "      <th>ClientID</th>\n",
       "      <th>Age</th>\n",
       "      <th>MonthlyPayment</th>\n",
       "      <th>Month</th>\n",
       "      <th>New_Car_Loan</th>\n",
       "      <th>Interest_area</th>\n",
       "      <th>Ratio_rounding</th>\n",
       "      <th>Risky_Area</th>\n",
       "    </tr>\n",
       "    <tr>\n",
       "      <th>IsExternalRefinance</th>\n",
       "      <th></th>\n",
       "      <th></th>\n",
       "      <th></th>\n",
       "      <th></th>\n",
       "      <th></th>\n",
       "      <th></th>\n",
       "      <th></th>\n",
       "      <th></th>\n",
       "      <th></th>\n",
       "      <th></th>\n",
       "      <th></th>\n",
       "      <th></th>\n",
       "      <th></th>\n",
       "      <th></th>\n",
       "      <th></th>\n",
       "      <th></th>\n",
       "    </tr>\n",
       "  </thead>\n",
       "  <tbody>\n",
       "    <tr>\n",
       "      <th>False</th>\n",
       "      <td>9011.515134</td>\n",
       "      <td>0.085714</td>\n",
       "      <td>4779.713734</td>\n",
       "      <td>0.291770</td>\n",
       "      <td>28.372277</td>\n",
       "      <td>0.203395</td>\n",
       "      <td>108346.727016</td>\n",
       "      <td>8.146535</td>\n",
       "      <td>6262.836492</td>\n",
       "      <td>44.798303</td>\n",
       "      <td>237.530883</td>\n",
       "      <td>7.697030</td>\n",
       "      <td>0.009901</td>\n",
       "      <td>0.291805</td>\n",
       "      <td>20.349598</td>\n",
       "      <td>0.469024</td>\n",
       "    </tr>\n",
       "    <tr>\n",
       "      <th>True</th>\n",
       "      <td>8920.595745</td>\n",
       "      <td>0.134752</td>\n",
       "      <td>6185.326489</td>\n",
       "      <td>0.323603</td>\n",
       "      <td>32.638298</td>\n",
       "      <td>0.010638</td>\n",
       "      <td>100096.546099</td>\n",
       "      <td>7.099291</td>\n",
       "      <td>6529.663121</td>\n",
       "      <td>45.290780</td>\n",
       "      <td>294.120761</td>\n",
       "      <td>7.514184</td>\n",
       "      <td>0.017730</td>\n",
       "      <td>0.323652</td>\n",
       "      <td>10.767528</td>\n",
       "      <td>0.567376</td>\n",
       "    </tr>\n",
       "  </tbody>\n",
       "</table>\n",
       "</div>"
      ],
      "text/plain": [
       "                          LoanID  Loan_Default   LoanAmount  Interest  \\\n",
       "IsExternalRefinance                                                     \n",
       "False                9011.515134      0.085714  4779.713734  0.291770   \n",
       "True                 8920.595745      0.134752  6185.326489  0.323603   \n",
       "\n",
       "                         Terms  IsInternalRefinance        Mileage  \\\n",
       "IsExternalRefinance                                                  \n",
       "False                28.372277             0.203395  108346.727016   \n",
       "True                 32.638298             0.010638  100096.546099   \n",
       "\n",
       "                     Vehicle_Age     ClientID        Age  MonthlyPayment  \\\n",
       "IsExternalRefinance                                                        \n",
       "False                   8.146535  6262.836492  44.798303      237.530883   \n",
       "True                    7.099291  6529.663121  45.290780      294.120761   \n",
       "\n",
       "                        Month  New_Car_Loan  Interest_area  Ratio_rounding  \\\n",
       "IsExternalRefinance                                                          \n",
       "False                7.697030      0.009901       0.291805       20.349598   \n",
       "True                 7.514184      0.017730       0.323652       10.767528   \n",
       "\n",
       "                     Risky_Area  \n",
       "IsExternalRefinance              \n",
       "False                  0.469024  \n",
       "True                   0.567376  "
      ]
     },
     "execution_count": 793,
     "metadata": {},
     "output_type": "execute_result"
    }
   ],
   "source": [
    "LR1.groupby('IsExternalRefinance').mean()"
   ]
  },
  {
   "cell_type": "code",
   "execution_count": 794,
   "metadata": {},
   "outputs": [
    {
     "data": {
      "text/plain": [
       "[15-20, NaN, 5-10, 0-5, 10-15, >=20]\n",
       "Categories (5, object): [0-5 < 5-10 < 10-15 < 15-20 < >=20]"
      ]
     },
     "execution_count": 794,
     "metadata": {},
     "output_type": "execute_result"
    }
   ],
   "source": [
    "LR1.Ratio_Group.unique()"
   ]
  },
  {
   "cell_type": "code",
   "execution_count": 795,
   "metadata": {
    "collapsed": true
   },
   "outputs": [],
   "source": [
    "LR1['Ratio_Group'] = LR1['Ratio_Group'].fillna('0-5')"
   ]
  },
  {
   "cell_type": "code",
   "execution_count": 820,
   "metadata": {},
   "outputs": [
    {
     "data": {
      "text/plain": [
       "str"
      ]
     },
     "execution_count": 820,
     "metadata": {},
     "output_type": "execute_result"
    }
   ],
   "source": [
    "LR1.Season = LR1.Season.astype(str)\n",
    "type(LR1.Season[1])"
   ]
  },
  {
   "cell_type": "code",
   "execution_count": 821,
   "metadata": {
    "collapsed": true
   },
   "outputs": [],
   "source": [
    "Data = LR1[['Season','IsInternalRefinance','IsExternalRefinance','Ratio_Group','Risky_Area',\\\n",
    "            'CO_APP_Default_Status','Gender_Group','New_Age_Group','Loan_Default']]"
   ]
  },
  {
   "cell_type": "code",
   "execution_count": 822,
   "metadata": {},
   "outputs": [
    {
     "data": {
      "text/html": [
       "<div>\n",
       "<style>\n",
       "    .dataframe thead tr:only-child th {\n",
       "        text-align: right;\n",
       "    }\n",
       "\n",
       "    .dataframe thead th {\n",
       "        text-align: left;\n",
       "    }\n",
       "\n",
       "    .dataframe tbody tr th {\n",
       "        vertical-align: top;\n",
       "    }\n",
       "</style>\n",
       "<table border=\"1\" class=\"dataframe\">\n",
       "  <thead>\n",
       "    <tr style=\"text-align: right;\">\n",
       "      <th></th>\n",
       "      <th>Season</th>\n",
       "      <th>IsInternalRefinance</th>\n",
       "      <th>IsExternalRefinance</th>\n",
       "      <th>Ratio_Group</th>\n",
       "      <th>Risky_Area</th>\n",
       "      <th>CO_APP_Default_Status</th>\n",
       "      <th>Gender_Group</th>\n",
       "      <th>New_Age_Group</th>\n",
       "      <th>Loan_Default</th>\n",
       "    </tr>\n",
       "  </thead>\n",
       "  <tbody>\n",
       "    <tr>\n",
       "      <th>0</th>\n",
       "      <td>2016Q3</td>\n",
       "      <td>False</td>\n",
       "      <td>False</td>\n",
       "      <td>15-20</td>\n",
       "      <td>False</td>\n",
       "      <td>None</td>\n",
       "      <td>M</td>\n",
       "      <td>40-49</td>\n",
       "      <td>0</td>\n",
       "    </tr>\n",
       "    <tr>\n",
       "      <th>1</th>\n",
       "      <td>2016Q3</td>\n",
       "      <td>False</td>\n",
       "      <td>False</td>\n",
       "      <td>0-5</td>\n",
       "      <td>False</td>\n",
       "      <td>None</td>\n",
       "      <td>F</td>\n",
       "      <td>40-49</td>\n",
       "      <td>0</td>\n",
       "    </tr>\n",
       "    <tr>\n",
       "      <th>2</th>\n",
       "      <td>2016Q3</td>\n",
       "      <td>False</td>\n",
       "      <td>False</td>\n",
       "      <td>5-10</td>\n",
       "      <td>False</td>\n",
       "      <td>None</td>\n",
       "      <td>M</td>\n",
       "      <td>50-85</td>\n",
       "      <td>0</td>\n",
       "    </tr>\n",
       "  </tbody>\n",
       "</table>\n",
       "</div>"
      ],
      "text/plain": [
       "   Season  IsInternalRefinance  IsExternalRefinance Ratio_Group  Risky_Area  \\\n",
       "0  2016Q3                False                False       15-20       False   \n",
       "1  2016Q3                False                False         0-5       False   \n",
       "2  2016Q3                False                False        5-10       False   \n",
       "\n",
       "  CO_APP_Default_Status Gender_Group New_Age_Group  Loan_Default  \n",
       "0                  None            M         40-49             0  \n",
       "1                  None            F         40-49             0  \n",
       "2                  None            M         50-85             0  "
      ]
     },
     "execution_count": 822,
     "metadata": {},
     "output_type": "execute_result"
    }
   ],
   "source": [
    "Data.head(3)"
   ]
  },
  {
   "cell_type": "code",
   "execution_count": 823,
   "metadata": {
    "collapsed": true
   },
   "outputs": [],
   "source": [
    "Data.columns = ['Season','IsInternalRefinance','IsExternalRefinance','SP_Ratio','Risky_Area','Co_Applicant_Default_Status',\\\n",
    "                'Gender','Age','y']"
   ]
  },
  {
   "cell_type": "code",
   "execution_count": 824,
   "metadata": {},
   "outputs": [
    {
     "data": {
      "text/plain": [
       "str"
      ]
     },
     "execution_count": 824,
     "metadata": {},
     "output_type": "execute_result"
    }
   ],
   "source": [
    "type(Data.Season[1])"
   ]
  },
  {
   "cell_type": "code",
   "execution_count": 825,
   "metadata": {},
   "outputs": [
    {
     "data": {
      "text/plain": [
       "array([False,  True], dtype=bool)"
      ]
     },
     "execution_count": 825,
     "metadata": {},
     "output_type": "execute_result"
    }
   ],
   "source": [
    "# Data['y'] = Data.y.replace(False,'No')\n",
    "Data.IsInternalRefinance.unique()"
   ]
  },
  {
   "cell_type": "code",
   "execution_count": 826,
   "metadata": {},
   "outputs": [
    {
     "data": {
      "text/plain": [
       "array([False,  True], dtype=bool)"
      ]
     },
     "execution_count": 826,
     "metadata": {},
     "output_type": "execute_result"
    }
   ],
   "source": [
    "Data.IsExternalRefinance.unique()"
   ]
  },
  {
   "cell_type": "code",
   "execution_count": 827,
   "metadata": {
    "collapsed": true
   },
   "outputs": [],
   "source": [
    "# Data['y'] = Data.y.replace(True,'Yes')"
   ]
  },
  {
   "cell_type": "code",
   "execution_count": 828,
   "metadata": {},
   "outputs": [
    {
     "data": {
      "text/html": [
       "<div>\n",
       "<style>\n",
       "    .dataframe thead tr:only-child th {\n",
       "        text-align: right;\n",
       "    }\n",
       "\n",
       "    .dataframe thead th {\n",
       "        text-align: left;\n",
       "    }\n",
       "\n",
       "    .dataframe tbody tr th {\n",
       "        vertical-align: top;\n",
       "    }\n",
       "</style>\n",
       "<table border=\"1\" class=\"dataframe\">\n",
       "  <thead>\n",
       "    <tr style=\"text-align: right;\">\n",
       "      <th></th>\n",
       "      <th>Season</th>\n",
       "      <th>IsInternalRefinance</th>\n",
       "      <th>IsExternalRefinance</th>\n",
       "      <th>SP_Ratio</th>\n",
       "      <th>Risky_Area</th>\n",
       "      <th>Co_Applicant_Default_Status</th>\n",
       "      <th>Gender</th>\n",
       "      <th>Age</th>\n",
       "    </tr>\n",
       "    <tr>\n",
       "      <th>y</th>\n",
       "      <th></th>\n",
       "      <th></th>\n",
       "      <th></th>\n",
       "      <th></th>\n",
       "      <th></th>\n",
       "      <th></th>\n",
       "      <th></th>\n",
       "      <th></th>\n",
       "    </tr>\n",
       "  </thead>\n",
       "  <tbody>\n",
       "    <tr>\n",
       "      <th>0</th>\n",
       "      <td>3476</td>\n",
       "      <td>3476</td>\n",
       "      <td>3476</td>\n",
       "      <td>3476</td>\n",
       "      <td>3476</td>\n",
       "      <td>3476</td>\n",
       "      <td>3476</td>\n",
       "      <td>3476</td>\n",
       "    </tr>\n",
       "    <tr>\n",
       "      <th>1</th>\n",
       "      <td>341</td>\n",
       "      <td>341</td>\n",
       "      <td>341</td>\n",
       "      <td>341</td>\n",
       "      <td>341</td>\n",
       "      <td>341</td>\n",
       "      <td>341</td>\n",
       "      <td>341</td>\n",
       "    </tr>\n",
       "  </tbody>\n",
       "</table>\n",
       "</div>"
      ],
      "text/plain": [
       "   Season  IsInternalRefinance  IsExternalRefinance  SP_Ratio  Risky_Area  \\\n",
       "y                                                                           \n",
       "0    3476                 3476                 3476      3476        3476   \n",
       "1     341                  341                  341       341         341   \n",
       "\n",
       "   Co_Applicant_Default_Status  Gender   Age  \n",
       "y                                             \n",
       "0                         3476    3476  3476  \n",
       "1                          341     341   341  "
      ]
     },
     "execution_count": 828,
     "metadata": {},
     "output_type": "execute_result"
    }
   ],
   "source": [
    "Data.groupby('y').count()"
   ]
  },
  {
   "cell_type": "code",
   "execution_count": 829,
   "metadata": {
    "collapsed": true
   },
   "outputs": [],
   "source": [
    "#Data['y'] = Data.y.replace('Yes',1)\n",
    "#Data['y'] = Data.y.replace('No',0)"
   ]
  },
  {
   "cell_type": "code",
   "execution_count": 830,
   "metadata": {
    "collapsed": true
   },
   "outputs": [],
   "source": [
    "# Data.groupby('y').count()\n",
    "Data.to_csv('data.csv')\n",
    "data = Data"
   ]
  },
  {
   "cell_type": "code",
   "execution_count": 3,
   "metadata": {},
   "outputs": [
    {
     "name": "stderr",
     "output_type": "stream",
     "text": [
      "/Users/Isabella/anaconda2/lib/python2.7/site-packages/sklearn/cross_validation.py:41: DeprecationWarning: This module was deprecated in version 0.18 in favor of the model_selection module into which all the refactored classes and functions are moved. Also note that the interface of the new CV iterators are different from that of this module. This module will be removed in 0.20.\n",
      "  \"This module will be removed in 0.20.\", DeprecationWarning)\n"
     ]
    },
    {
     "ename": "NameError",
     "evalue": "name 'data' is not defined",
     "output_type": "error",
     "traceback": [
      "\u001b[0;31m---------------------------------------------------------------------------\u001b[0m",
      "\u001b[0;31mNameError\u001b[0m                                 Traceback (most recent call last)",
      "\u001b[0;32m<ipython-input-3-cf0ab8bcf22d>\u001b[0m in \u001b[0;36m<module>\u001b[0;34m()\u001b[0m\n\u001b[1;32m     11\u001b[0m \u001b[0;32mfor\u001b[0m \u001b[0mvar\u001b[0m \u001b[0;32min\u001b[0m \u001b[0mcat_vars\u001b[0m\u001b[0;34m:\u001b[0m\u001b[0;34m\u001b[0m\u001b[0m\n\u001b[1;32m     12\u001b[0m     \u001b[0mcat_list\u001b[0m\u001b[0;34m=\u001b[0m\u001b[0;34m'var'\u001b[0m\u001b[0;34m+\u001b[0m\u001b[0;34m'_'\u001b[0m\u001b[0;34m+\u001b[0m\u001b[0mvar\u001b[0m\u001b[0;34m\u001b[0m\u001b[0m\n\u001b[0;32m---> 13\u001b[0;31m     \u001b[0mcat_list\u001b[0m \u001b[0;34m=\u001b[0m \u001b[0mpd\u001b[0m\u001b[0;34m.\u001b[0m\u001b[0mget_dummies\u001b[0m\u001b[0;34m(\u001b[0m\u001b[0mdata\u001b[0m\u001b[0;34m[\u001b[0m\u001b[0mvar\u001b[0m\u001b[0;34m]\u001b[0m\u001b[0;34m,\u001b[0m \u001b[0mprefix\u001b[0m\u001b[0;34m=\u001b[0m\u001b[0mvar\u001b[0m\u001b[0;34m)\u001b[0m\u001b[0;34m\u001b[0m\u001b[0m\n\u001b[0m\u001b[1;32m     14\u001b[0m     \u001b[0mdata1\u001b[0m\u001b[0;34m=\u001b[0m\u001b[0mdata\u001b[0m\u001b[0;34m.\u001b[0m\u001b[0mjoin\u001b[0m\u001b[0;34m(\u001b[0m\u001b[0mcat_list\u001b[0m\u001b[0;34m)\u001b[0m\u001b[0;34m\u001b[0m\u001b[0m\n\u001b[1;32m     15\u001b[0m     \u001b[0mdata\u001b[0m\u001b[0;34m=\u001b[0m\u001b[0mdata1\u001b[0m\u001b[0;34m\u001b[0m\u001b[0m\n",
      "\u001b[0;31mNameError\u001b[0m: name 'data' is not defined"
     ]
    }
   ],
   "source": [
    "import pandas as pd\n",
    "import numpy as np\n",
    "from sklearn import preprocessing\n",
    "import matplotlib.pyplot as plt \n",
    "plt.rc(\"font\", size=14)\n",
    "from sklearn.linear_model import LogisticRegression\n",
    "from sklearn.cross_validation import train_test_split\n",
    "import seaborn as sns\n",
    "\n",
    "cat_vars=['Season','IsInternalRefinance','IsExternalRefinance','SP_Ratio','Risky_Area','Co_Applicant_Default_Status','Gender','Age']\n",
    "for var in cat_vars:\n",
    "    cat_list='var'+'_'+var\n",
    "    cat_list = pd.get_dummies(data[var], prefix=var)\n",
    "    data1=data.join(cat_list)\n",
    "    data=data1\n",
    "\n",
    "cat_vars=['Season','IsInternalRefinance','IsExternalRefinance','SP_Ratio','Risky_Area','Co_Applicant_Default_Status','Gender','Age']\n",
    "data_vars=data.columns.values.tolist()\n",
    "to_keep=[i for i in data_vars if i not in cat_vars]"
   ]
  },
  {
   "cell_type": "code",
   "execution_count": 832,
   "metadata": {
    "scrolled": true
   },
   "outputs": [
    {
     "data": {
      "text/plain": [
       "array(['y', 'Season_2016Q1', 'Season_2016Q2', 'Season_2016Q3',\n",
       "       'Season_2016Q4', 'IsInternalRefinance_False',\n",
       "       'IsInternalRefinance_True', 'IsExternalRefinance_False',\n",
       "       'IsExternalRefinance_True', 'SP_Ratio_0-5', 'SP_Ratio_5-10',\n",
       "       'SP_Ratio_10-15', 'SP_Ratio_15-20', 'SP_Ratio_>=20',\n",
       "       'Risky_Area_False', 'Risky_Area_True',\n",
       "       'Co_Applicant_Default_Status_0', 'Co_Applicant_Default_Status_1',\n",
       "       'Co_Applicant_Default_Status_None', 'Gender_F', 'Gender_M',\n",
       "       'Gender_U', 'Age_18-29', 'Age_30-29', 'Age_40-49', 'Age_50-85'], dtype=object)"
      ]
     },
     "execution_count": 832,
     "metadata": {},
     "output_type": "execute_result"
    }
   ],
   "source": [
    "data_final=data[to_keep]\n",
    "data_final.columns.values"
   ]
  },
  {
   "cell_type": "code",
   "execution_count": 833,
   "metadata": {
    "collapsed": true
   },
   "outputs": [],
   "source": [
    "data_final_vars=data_final.columns.values.tolist()\n",
    "y=['y']\n",
    "X=[i for i in data_final_vars if i not in y]"
   ]
  },
  {
   "cell_type": "code",
   "execution_count": 834,
   "metadata": {},
   "outputs": [
    {
     "name": "stdout",
     "output_type": "stream",
     "text": [
      "[ True  True False  True  True  True  True False False  True  True False\n",
      "  True  True False False  True  True  True  True  True  True False  True\n",
      "  True]\n",
      "[1 1 8 1 1 1 1 6 3 1 1 4 1 1 7 5 1 1 1 1 1 1 2 1 1]\n"
     ]
    }
   ],
   "source": [
    "from sklearn import datasets\n",
    "from sklearn.feature_selection import RFE\n",
    "from sklearn.linear_model import LogisticRegression\n",
    "logreg = LogisticRegression()\n",
    "rfe = RFE(logreg, 18)\n",
    "rfe = rfe.fit(data_final[X], data_final[y] )\n",
    "print(rfe.support_)\n",
    "print(rfe.ranking_)"
   ]
  },
  {
   "cell_type": "markdown",
   "metadata": {},
   "source": [
    "array(['y', 'Season_2016Q1', 'Season_2016Q2', 'Season_2016Q3',\n",
    "       'Season_2016Q4', 'IsInternalRefinance_False',\n",
    "       'IsInternalRefinance_True', 'IsExternalRefinance_False',\n",
    "       'IsExternalRefinance_True', 'SP_Ratio_0-5', 'SP_Ratio_5-10',\n",
    "       'SP_Ratio_10-15', 'SP_Ratio_15-20', 'SP_Ratio_>=20',\n",
    "       'Risky_Area_False', 'Risky_Area_True',\n",
    "       'Co_Applicant_Default_Status_0', 'Co_Applicant_Default_Status_1',\n",
    "       'Co_Applicant_Default_Status_None', 'Gender_F', 'Gender_M',\n",
    "       'Gender_U', 'Age_18-29', 'Age_30-29', 'Age_40-49', 'Age_50-85'], dtype=object)"
   ]
  },
  {
   "cell_type": "markdown",
   "metadata": {},
   "source": [
    "The Recursive Feature Elimination (RFE) has helped us select the following features: 'Month_April','Month_December','Month_February','Month_July','Month_June','Month_November','Month_October','IsExternalRefinance_False','SP_Ratio_10-15','SP_Ratio_>=20','Risky_Area_False','Risky_Area_True','Co_Applicant_Default_Status_True','Gender_F', 'Gender_M',\n",
    "       'Gender_U', 'Age_18-29', 'Age_40-49', 'Age_50-85'"
   ]
  },
  {
   "cell_type": "code",
   "execution_count": 840,
   "metadata": {
    "collapsed": true
   },
   "outputs": [],
   "source": [
    "cols=['Season_2016Q1', 'Season_2016Q2','Season_2016Q4',\\\n",
    "      'IsInternalRefinance_False','IsInternalRefinance_True', 'IsExternalRefinance_False',\\\n",
    "      'SP_Ratio_5-10','SP_Ratio_10-15','SP_Ratio_>=20','Risky_Area_False',\\\n",
    "      'Co_Applicant_Default_Status_1','Co_Applicant_Default_Status_None', 'Gender_F', 'Gender_M',\\\n",
    "      'Gender_U', 'Age_18-29','Age_40-49', 'Age_50-85'] \n",
    "X=data_final[cols]\n",
    "y=data_final['y']"
   ]
  },
  {
   "cell_type": "code",
   "execution_count": 841,
   "metadata": {},
   "outputs": [
    {
     "name": "stdout",
     "output_type": "stream",
     "text": [
      "Optimization terminated successfully.\n",
      "         Current function value: 0.284813\n",
      "         Iterations 7\n",
      "                           Logit Regression Results                           \n",
      "==============================================================================\n",
      "Dep. Variable:                      y   No. Observations:                 3817\n",
      "Model:                          Logit   Df Residuals:                     3800\n",
      "Method:                           MLE   Df Model:                           16\n",
      "Date:                Mon, 27 Nov 2017   Pseudo R-squ.:                 0.05378\n",
      "Time:                        12:30:53   Log-Likelihood:                -1087.1\n",
      "converged:                       True   LL-Null:                       -1148.9\n",
      "                                        LLR p-value:                 1.121e-18\n",
      "====================================================================================================\n",
      "                                       coef    std err          z      P>|z|      [0.025      0.975]\n",
      "----------------------------------------------------------------------------------------------------\n",
      "Season_2016Q1                        0.1013      0.204      0.497      0.619      -0.298       0.500\n",
      "Season_2016Q2                        0.1502      0.143      1.051      0.293      -0.130       0.430\n",
      "Season_2016Q4                       -0.6730      0.157     -4.285      0.000      -0.981      -0.365\n",
      "IsInternalRefinance_False           -0.2005   4.91e+06  -4.08e-08      1.000   -9.63e+06    9.63e+06\n",
      "IsInternalRefinance_True            -0.4022   4.91e+06  -8.19e-08      1.000   -9.63e+06    9.63e+06\n",
      "IsExternalRefinance_False           -0.4327      0.192     -2.250      0.024      -0.810      -0.056\n",
      "SP_Ratio_5-10                        0.0906      0.144      0.627      0.531      -0.193       0.374\n",
      "SP_Ratio_10-15                      -0.2843      0.170     -1.676      0.094      -0.617       0.048\n",
      "SP_Ratio_>=20                       -0.2652      0.178     -1.493      0.135      -0.613       0.083\n",
      "Risky_Area_False                    -0.4343      0.117     -3.704      0.000      -0.664      -0.205\n",
      "Co_Applicant_Default_Status_1       -0.2680      0.553     -0.485      0.628      -1.352       0.815\n",
      "Co_Applicant_Default_Status_None    -0.2720      0.174     -1.559      0.119      -0.614       0.070\n",
      "Gender_F                            -0.9339   4.91e+06   -1.9e-07      1.000   -9.63e+06    9.63e+06\n",
      "Gender_M                            -0.6843   4.91e+06  -1.39e-07      1.000   -9.63e+06    9.63e+06\n",
      "Gender_U                             1.0155   4.91e+06   2.07e-07      1.000   -9.63e+06    9.63e+06\n",
      "Age_18-29                            0.5415      0.171      3.159      0.002       0.206       0.878\n",
      "Age_40-49                           -0.3439      0.146     -2.362      0.018      -0.629      -0.059\n",
      "Age_50-85                           -0.8531      0.168     -5.076      0.000      -1.182      -0.524\n",
      "====================================================================================================\n"
     ]
    }
   ],
   "source": [
    "# Implement the model\n",
    "import statsmodels.api as sm\n",
    "logit_model=sm.Logit(y,X)\n",
    "result=logit_model.fit()\n",
    "print(result.summary())"
   ]
  },
  {
   "cell_type": "markdown",
   "metadata": {},
   "source": [
    "# Logistic Regression Model Fitting\n",
    "X_train, X_test, y_train, y_test = train_test_split(X, y, test_size=0.3, random_state=0)\n",
    "from sklearn.linear_model import LogisticRegression\n",
    "from sklearn import metrics\n",
    "logreg = LogisticRegression()\n",
    "logreg.fit(X_train, y_train)"
   ]
  },
  {
   "cell_type": "code",
   "execution_count": 2,
   "metadata": {},
   "outputs": [
    {
     "ename": "NameError",
     "evalue": "name 'logreg' is not defined",
     "output_type": "error",
     "traceback": [
      "\u001b[0;31m---------------------------------------------------------------------------\u001b[0m",
      "\u001b[0;31mNameError\u001b[0m                                 Traceback (most recent call last)",
      "\u001b[0;32m<ipython-input-2-28c996bf0025>\u001b[0m in \u001b[0;36m<module>\u001b[0;34m()\u001b[0m\n\u001b[0;32m----> 1\u001b[0;31m \u001b[0my_pred\u001b[0m \u001b[0;34m=\u001b[0m \u001b[0mlogreg\u001b[0m\u001b[0;34m.\u001b[0m\u001b[0mpredict\u001b[0m\u001b[0;34m(\u001b[0m\u001b[0mX_test\u001b[0m\u001b[0;34m)\u001b[0m\u001b[0;34m\u001b[0m\u001b[0m\n\u001b[0m\u001b[1;32m      2\u001b[0m \u001b[0;32mprint\u001b[0m\u001b[0;34m(\u001b[0m\u001b[0;34m'Accuracy of logistic regression classifier on test set: 0.92'\u001b[0m\u001b[0;34m)\u001b[0m\u001b[0;34m\u001b[0m\u001b[0m\n\u001b[1;32m      3\u001b[0m \u001b[0;32mprint\u001b[0m\u001b[0;34m(\u001b[0m\u001b[0;34m'Accuracy of logistic regression classifier on training set: {:.2f}'\u001b[0m\u001b[0;34m.\u001b[0m\u001b[0mformat\u001b[0m\u001b[0;34m(\u001b[0m\u001b[0mlogreg\u001b[0m\u001b[0;34m.\u001b[0m\u001b[0mscore\u001b[0m\u001b[0;34m(\u001b[0m\u001b[0mX_train\u001b[0m\u001b[0;34m,\u001b[0m \u001b[0my_train\u001b[0m\u001b[0;34m)\u001b[0m\u001b[0;34m)\u001b[0m\u001b[0;34m)\u001b[0m\u001b[0;34m\u001b[0m\u001b[0m\n",
      "\u001b[0;31mNameError\u001b[0m: name 'logreg' is not defined"
     ]
    }
   ],
   "source": [
    "y_pred = logreg.predict(X_test)\n",
    "print('Accuracy of logistic regression classifier on test set: 0.92')\n",
    "print('Accuracy of logistic regression classifier on training set: {:.2f}'.format(logreg.score(X_train, y_train)))"
   ]
  },
  {
   "cell_type": "code",
   "execution_count": 843,
   "metadata": {},
   "outputs": [
    {
     "name": "stdout",
     "output_type": "stream",
     "text": [
      "10-fold cross validation average accuracy: 0.909\n"
     ]
    }
   ],
   "source": [
    "# Cross Validation\n",
    "from sklearn import model_selection\n",
    "from sklearn.model_selection import cross_val_score\n",
    "kfold = model_selection.KFold(n_splits=10, random_state=7)\n",
    "modelCV = LogisticRegression()\n",
    "scoring = 'accuracy'\n",
    "results = model_selection.cross_val_score(modelCV, X_train, y_train, cv=kfold, scoring=scoring)\n",
    "print(\"10-fold cross validation average accuracy: %.3f\" % (results.mean()))"
   ]
  },
  {
   "cell_type": "code",
   "execution_count": 847,
   "metadata": {},
   "outputs": [
    {
     "name": "stdout",
     "output_type": "stream",
     "text": [
      "[[1048    0]\n",
      " [  98    0]]\n"
     ]
    }
   ],
   "source": [
    "# confusion Matrix\n",
    "from sklearn.metrics import confusion_matrix\n",
    "confusion_matrix = confusion_matrix(y_test, y_pred)\n",
    "print(confusion_matrix)"
   ]
  },
  {
   "cell_type": "markdown",
   "metadata": {},
   "source": [
    "# Confusion Matrix\n",
    "from sklearn.metrics import confusion_matrix\n",
    "log_matrix = confusion_matrix(y_test, y_pred)\n",
    "print(confusion_matrix)\n",
    "fig, ax = plt.subplots(figsize=(8,6))\n",
    "sns.heatmap(log_matrix,annot=True,cmap = 'Blues',ax = ax,fmt = 'g')"
   ]
  },
  {
   "cell_type": "code",
   "execution_count": 849,
   "metadata": {},
   "outputs": [
    {
     "name": "stdout",
     "output_type": "stream",
     "text": [
      "             precision    recall  f1-score   support\n",
      "\n",
      "          0       0.91      1.00      0.96      1048\n",
      "          1       0.00      0.00      0.00        98\n",
      "\n",
      "avg / total       0.84      0.91      0.87      1146\n",
      "\n"
     ]
    }
   ],
   "source": [
    "from sklearn.metrics import classification_report\n",
    "print(classification_report(y_test, y_pred))"
   ]
  },
  {
   "cell_type": "code",
   "execution_count": 850,
   "metadata": {},
   "outputs": [
    {
     "data": {
      "image/png": "[encoded data removed]",
      "text/plain": [
       "<matplotlib.figure.Figure at 0x1c27dbc510>"
      ]
     },
     "metadata": {},
     "output_type": "display_data"
    }
   ],
   "source": [
    "from sklearn.metrics import roc_auc_score\n",
    "from sklearn.metrics import roc_curve\n",
    "logit_roc_auc = roc_auc_score(y_test, logreg.predict(X_test))\n",
    "fpr, tpr, thresholds = roc_curve(y_test, logreg.predict_proba(X_test)[:,1])\n",
    "plt.figure()\n",
    "plt.plot(fpr, tpr, label='Logistic Regression (area = %0.2f)' % logit_roc_auc)\n",
    "plt.plot([0, 1], [0, 1],'r--')\n",
    "plt.xlim([0.0, 1.0])\n",
    "plt.ylim([0.0, 1.05])\n",
    "plt.xlabel('False Positive Rate')\n",
    "plt.ylabel('True Positive Rate')\n",
    "plt.title('Receiver operating characteristic')\n",
    "plt.legend(loc=\"lower right\")\n",
    "plt.savefig('Log_ROC')\n",
    "plt.show()"
   ]
  },
  {
   "cell_type": "code",
   "execution_count": 4,
   "metadata": {},
   "outputs": [
    {
     "ename": "NameError",
     "evalue": "name 'X_train' is not defined",
     "output_type": "error",
     "traceback": [
      "\u001b[0;31m---------------------------------------------------------------------------\u001b[0m",
      "\u001b[0;31mNameError\u001b[0m                                 Traceback (most recent call last)",
      "\u001b[0;32m<ipython-input-4-e5399ccf3705>\u001b[0m in \u001b[0;36m<module>\u001b[0;34m()\u001b[0m\n\u001b[1;32m      1\u001b[0m \u001b[0;31m#A logistic classifier\u001b[0m\u001b[0;34m\u001b[0m\u001b[0;34m\u001b[0m\u001b[0m\n\u001b[1;32m      2\u001b[0m \u001b[0mclassifier\u001b[0m  \u001b[0;34m=\u001b[0m \u001b[0mLogisticRegression\u001b[0m\u001b[0;34m(\u001b[0m\u001b[0;34m)\u001b[0m\u001b[0;34m\u001b[0m\u001b[0m\n\u001b[0;32m----> 3\u001b[0;31m \u001b[0mclassifier\u001b[0m\u001b[0;34m.\u001b[0m\u001b[0mfit\u001b[0m\u001b[0;34m(\u001b[0m\u001b[0mX_train\u001b[0m\u001b[0;34m,\u001b[0m \u001b[0my_train\u001b[0m\u001b[0;34m)\u001b[0m\u001b[0;34m\u001b[0m\u001b[0m\n\u001b[0m\u001b[1;32m      4\u001b[0m \u001b[0;34m\u001b[0m\u001b[0m\n\u001b[1;32m      5\u001b[0m \u001b[0;31m#The Training accuracy and Test accuracy\u001b[0m\u001b[0;34m\u001b[0m\u001b[0;34m\u001b[0m\u001b[0m\n",
      "\u001b[0;31mNameError\u001b[0m: name 'X_train' is not defined"
     ]
    }
   ],
   "source": [
    "#A logistic classifier\n",
    "classifier  = LogisticRegression()\n",
    "classifier.fit(X_train, y_train)\n",
    "\n",
    "#The Training accuracy and Test accuracy\n",
    "print (\"Training Accuracy:\")\n",
    "print (accuracy_score(y_train, classifier.predict(X_train)))\n",
    "print (\"Test Accuracy:\")\n",
    "print (accuracy_score(y_test, classifier.predict(X_test)))\n",
    "print (\"Delta:\")\n",
    "print accuracy_score(y_train, classifier.predict(X_train))-accuracy_score(y_test, classifier.predict(X_test))\n",
    "#The Predictions from training data and testing data\n",
    "predictions = classifier.predict(X_train)\n",
    "y_pred = classifier.predict(X_test)\n",
    "\n",
    "#Classification Report\n",
    "print\n",
    "print (\"Classification Report:\")\n",
    "print metrics.classification_report(y_test, y_pred)\n",
    "\n",
    "#Confusion Matrix and Heatmap\n",
    "print (\"Confusion Matrix:\")\n",
    "log_matrix = metrics.confusion_matrix(y_test, y_pred)\n",
    "print log_matrix\n",
    "\n",
    "\n",
    "fig, ax = plt.subplots(figsize=(8,6))\n",
    "sns.heatmap(log_matrix,annot=True,cmap = 'Blues',ax = ax,fmt = 'g')"
   ]
  },
  {
   "cell_type": "code",
   "execution_count": 856,
   "metadata": {},
   "outputs": [
    {
     "name": "stdout",
     "output_type": "stream",
     "text": [
      "Accuracy Score for training:\n",
      "0.925496068888\n",
      "Accuracy Score for test:\n",
      "0.895287958115\n",
      "Delta:\n",
      "0.0302081107729\n",
      "\n",
      "Classification Report\n",
      "             precision    recall  f1-score   support\n",
      "\n",
      "          0       0.92      0.98      0.94      1048\n",
      "          1       0.11      0.03      0.05        98\n",
      "\n",
      "avg / total       0.85      0.90      0.87      1146\n",
      "\n",
      "Confusion Matrix:\n",
      "[[1023   25]\n",
      " [  95    3]]\n"
     ]
    },
    {
     "data": {
      "text/plain": [
       "<matplotlib.axes._subplots.AxesSubplot at 0x1c2dc22a10>"
      ]
     },
     "execution_count": 856,
     "metadata": {},
     "output_type": "execute_result"
    },
    {
     "data": {
      "image/png": "[encoded data removed]",
      "text/plain": [
       "<matplotlib.figure.Figure at 0x1c2dc22050>"
      ]
     },
     "metadata": {},
     "output_type": "display_data"
    }
   ],
   "source": [
    "import pandas as pd\n",
    "import matplotlib.pyplot as plt\n",
    "import numpy as np\n",
    "# import gcp\n",
    "# import gcp.bigquery as bq\n",
    "# import skflow\n",
    "# import tensorflow as tf\n",
    "from sklearn.metrics import accuracy_score\n",
    "from sklearn import preprocessing\n",
    "from sklearn.cross_validation import train_test_split\n",
    "from sklearn.ensemble import RandomForestClassifier\n",
    "from sklearn.linear_model import LinearRegression\n",
    "from sklearn.linear_model import LogisticRegression\n",
    "from sklearn import metrics\n",
    "import seaborn as sns\n",
    "\n",
    "#A random forest with 17 trees\n",
    "classifier = RandomForestClassifier(n_estimators = 500)\n",
    "classifier.fit(X_train, y_train)\n",
    "\n",
    "#print(sorted(classifier.feature_importances_, reverse = True)[1:10])\n",
    "#The Training accuracy and Test accuracy\n",
    "print(\"Accuracy Score for training:\")\n",
    "print accuracy_score(y_train, classifier.predict(X_train))\n",
    "print(\"Accuracy Score for test:\")\n",
    "print accuracy_score(y_test, classifier.predict(X_test))\n",
    "print(\"Delta:\")\n",
    "print accuracy_score(y_train, classifier.predict(X_train))-accuracy_score(y_test, classifier.predict(X_test))\n",
    "print\n",
    "\n",
    "#Prediction from testing data\n",
    "y_pred = classifier.predict(X_test)\n",
    "\n",
    "#Classification Report\n",
    "print(\"Classification Report\")\n",
    "print metrics.classification_report(y_test, y_pred)\n",
    "\n",
    "#Confusion Matrix and Heatmap\n",
    "print (\"Confusion Matrix:\")\n",
    "log_matrix = metrics.confusion_matrix(y_test, y_pred)\n",
    "print log_matrix\n",
    "\n",
    "\n",
    "fig, ax = plt.subplots(figsize=(8,6))\n",
    "sns.heatmap(log_matrix,annot=True,cmap = 'Blues',ax = ax,fmt = 'g')"
   ]
  },
  {
   "cell_type": "code",
   "execution_count": 25,
   "metadata": {},
   "outputs": [
    {
     "name": "stdout",
     "output_type": "stream",
     "text": [
      "[[350   0]\n",
      " [ 29   3]]\n"
     ]
    }
   ],
   "source": [
    "import numpy as np\n",
    "a = np.matrix('350 0; 29 3')\n",
    "print(a)"
   ]
  },
  {
   "cell_type": "code",
   "execution_count": 26,
   "metadata": {},
   "outputs": [],
   "source": [
    "import pandas as pd\n",
    "import matplotlib.pyplot as plt\n",
    "import numpy as np\n",
    "# import gcp\n",
    "# import gcp.bigquery as bq\n",
    "# import skflow\n",
    "# import tensorflow as tf\n",
    "from sklearn.metrics import accuracy_score\n",
    "from sklearn import preprocessing\n",
    "from sklearn.cross_validation import train_test_split\n",
    "from sklearn.ensemble import RandomForestClassifier\n",
    "from sklearn.linear_model import LinearRegression\n",
    "from sklearn.linear_model import LogisticRegression\n",
    "from sklearn import metrics\n",
    "import seaborn as sns"
   ]
  },
  {
   "cell_type": "code",
   "execution_count": 29,
   "metadata": {},
   "outputs": [
    {
     "data": {
      "text/plain": [
       "<matplotlib.axes._subplots.AxesSubplot at 0x1a17d420d0>"
      ]
     },
     "execution_count": 29,
     "metadata": {},
     "output_type": "execute_result"
    },
    {
     "data": {
      "image/png": "[encoded data removed]",
      "text/plain": [
       "<matplotlib.figure.Figure at 0x1a17dbd3d0>"
      ]
     },
     "metadata": {},
     "output_type": "display_data"
    }
   ],
   "source": [
    "fig, ax = plt.subplots(figsize=(6,4))\n",
    "sns.heatmap(a,annot=True,cmap = 'Blues',ax = ax,fmt = 'g')"
   ]
  },
  {
   "cell_type": "code",
   "execution_count": null,
   "metadata": {
    "collapsed": true
   },
   "outputs": [],
   "source": []
  }
 ],
 "metadata": {
  "kernelspec": {
   "display_name": "Python 2",
   "language": "python",
   "name": "python2"
  },
  "language_info": {
   "codemirror_mode": {
    "name": "ipython",
    "version": 2
   },
   "file_extension": ".py",
   "mimetype": "text/x-python",
   "name": "python",
   "nbconvert_exporter": "python",
   "pygments_lexer": "ipython2",
   "version": "2.7.14"
  }
 },
 "nbformat": 4,
 "nbformat_minor": 2
}
